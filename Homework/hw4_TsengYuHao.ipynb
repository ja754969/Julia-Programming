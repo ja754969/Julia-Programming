{
 "cells": [
  {
   "cell_type": "markdown",
   "metadata": {},
   "source": [
    "# Homework 4 : Julia_1101 Yu_Hao Tseng\n",
    "## PPT : 05_ControlFlow.pptx (p.28)"
   ]
  },
  {
   "cell_type": "markdown",
   "metadata": {},
   "source": [
    "# Advance work (1) : \"control flow\""
   ]
  },
  {
   "cell_type": "markdown",
   "metadata": {},
   "source": [
    "## (1) A three-dice game\n",
    "### \"Lucky\" : get three same numbers\n",
    "### \"not bad\" : get two same numbers\n",
    "### \"all not the same\" : not get any same number"
   ]
  },
  {
   "cell_type": "code",
   "execution_count": 142,
   "metadata": {},
   "outputs": [
    {
     "data": {
      "text/plain": [
       "three_dice (generic function with 1 method)"
      ]
     },
     "execution_count": 142,
     "metadata": {},
     "output_type": "execute_result"
    }
   ],
   "source": [
    "function three_dice(dice_1,dice_2,dice_3)\n",
    "    dice_1 = Integer(dice_1)\n",
    "    dice_2 = Integer(dice_2)\n",
    "    dice_3 = Integer(dice_3)\n",
    "    if (0<dice_1<7) & (0<dice_2<7) & (0<dice_3<7) \n",
    "        println(\"--------------------\")\n",
    "    else\n",
    "        println(\" ''Warning'' : The dice exceed the reasonalbe range!\")\n",
    "        println(\"--------------------\")\n",
    "    end\n",
    "        if (dice_1 == dice_2) & (dice_1 == dice_3) & (dice_2 == dice_3) \n",
    "        println(\"Lucky\")\n",
    "    elseif (dice_1 != dice_2) & (dice_1 != dice_3) & (dice_2 != dice_3)\n",
    "        println(\"all not the same\")\n",
    "    else\n",
    "        println(\"not bad\")\n",
    "    end\n",
    "end"
   ]
  },
  {
   "cell_type": "code",
   "execution_count": 143,
   "metadata": {},
   "outputs": [
    {
     "name": "stdout",
     "output_type": "stream",
     "text": [
      " ''Warning'' : The dice exceed the reasonalbe range!\n",
      "--------------------\n",
      "all not the same\n"
     ]
    }
   ],
   "source": [
    "three_dice(7,2,6)"
   ]
  },
  {
   "cell_type": "markdown",
   "metadata": {},
   "source": [
    "## (2) two-dice Casino game (within $100 ~ $500)\n",
    "### (i) \"You Win\" and plus $30 to the bet : get the same numbers and their value is larger than 3\n",
    "### (ii) \"You Lose\" and minus $10 from the bet : get the same numbers but their value is smaller than 4\n",
    "### (iii) \"You Lose\" and minus $10 from the bet : not get the same numbers\n",
    "### (iv) \"Not enough money to play\" : if the bet becomes zero\n",
    "### (v) \"You finally win this game\" : if the bet becomes $500 or larger."
   ]
  },
  {
   "cell_type": "code",
   "execution_count": 144,
   "metadata": {},
   "outputs": [
    {
     "data": {
      "text/plain": [
       "two_dice_Casino (generic function with 1 method)"
      ]
     },
     "execution_count": 144,
     "metadata": {},
     "output_type": "execute_result"
    }
   ],
   "source": [
    "function two_dice_Casino(bet_total,dice_1,dice_2)\n",
    "    dice_1 = Integer(dice_1)\n",
    "    dice_2 = Integer(dice_2)\n",
    "    dice_value = dice_1 + dice_2\n",
    "    if (dice_value > 3) & (dice_1 == dice_2) & (dice_value > 4) & (0 < bet_total < 500)\n",
    "        println(\"You Win\")\n",
    "        bet_total = bet_total + 30\n",
    "    elseif (((dice_1 == dice_2) & (dice_value < 4)) | (dice_1 != dice_2)) & (0 < bet_total < 500)\n",
    "        println(\"You Lose\")\n",
    "        bet_total = bet_total - 10\n",
    "    elseif bet_total == 0\n",
    "        println(\"Not enough money to play\")\n",
    "    elseif bet_total >= 500\n",
    "        println(\"You finally win this game\")\n",
    "    else\n",
    "        println(\"Play again\")\n",
    "    end\n",
    "    print(\"The current total bet : \\$\")\n",
    "    print(bet_total)\n",
    "end"
   ]
  },
  {
   "cell_type": "code",
   "execution_count": 145,
   "metadata": {},
   "outputs": [
    {
     "name": "stdout",
     "output_type": "stream",
     "text": [
      "You Lose\n",
      "The current total bet : $440"
     ]
    }
   ],
   "source": [
    "two_dice_Casino(450,1,1)"
   ]
  },
  {
   "cell_type": "markdown",
   "metadata": {},
   "source": [
    "## (3) Electricity unit charges\n",
    "### For the first 50 units, charges $ 0.5/unit\n",
    "### For next 100 units, charges $ 0.75/unit\n",
    "### For next 150 units, charges $ 1.50/unit\n",
    "### For unit above 300, charges $ 2.50/unit\n",
    "### An additional service charge of 10% is added to the bill"
   ]
  },
  {
   "cell_type": "code",
   "execution_count": 146,
   "metadata": {},
   "outputs": [
    {
     "data": {
      "text/plain": [
       "electricity_unit_charges (generic function with 1 method)"
      ]
     },
     "execution_count": 146,
     "metadata": {},
     "output_type": "execute_result"
    }
   ],
   "source": [
    "function electricity_unit_charges(eletric_units)\n",
    "    total_eletric_bill = 0\n",
    "    if eletric_units <= 50\n",
    "        total_eletric_bill = eletric_units*0.5\n",
    "    elseif 50 < eletric_units <= 150\n",
    "        total_eletric_bill = 50*0.5 + (eletric_units-50)*0.75\n",
    "    elseif 150 < eletric_units <= 300\n",
    "        total_eletric_bill = 50*0.5 + 100*0.75 + (eletric_units-150)*1.5\n",
    "    else\n",
    "        total_eletric_bill = 50*0.5 + 100*0.75 + 150*1.5 + (eletric_units-300)*2.5\n",
    "    end\n",
    "    total_eletric_bill = Float32(total_eletric_bill * 1.1)\n",
    "    println(\"The total electric bill is \\$ \",total_eletric_bill)\n",
    "end"
   ]
  },
  {
   "cell_type": "code",
   "execution_count": 147,
   "metadata": {},
   "outputs": [
    {
     "name": "stdout",
     "output_type": "stream",
     "text": [
      "The total electric bill is $ 27.5\n"
     ]
    }
   ],
   "source": [
    "electricity_unit_charges(50)"
   ]
  },
  {
   "cell_type": "code",
   "execution_count": 148,
   "metadata": {},
   "outputs": [
    {
     "name": "stdout",
     "output_type": "stream",
     "text": [
      "The total electric bill is $ 632.5\n"
     ]
    }
   ],
   "source": [
    "electricity_unit_charges(400)\n",
    "# 1.1*(50*0.5 + 100*0.75 + 150*1.5 + (400-300)*2.5)"
   ]
  },
  {
   "cell_type": "markdown",
   "metadata": {},
   "source": [
    "## (4) Write a program with a \"for\" loop to print out"
   ]
  },
  {
   "cell_type": "code",
   "execution_count": 149,
   "metadata": {},
   "outputs": [
    {
     "name": "stdout",
     "output_type": "stream",
     "text": [
      "         1 x 8 + 1 = 9\n",
      "        12 x 8 + 2 = 98\n",
      "       123 x 8 + 3 = 987\n",
      "      1234 x 8 + 4 = 9876\n",
      "     12345 x 8 + 5 = 98765\n",
      "    123456 x 8 + 6 = 987654\n",
      "   1234567 x 8 + 7 = 9876543\n",
      "  12345678 x 8 + 8 = 98765432\n",
      " 123456789 x 8 + 9 = 987654321\n"
     ]
    }
   ],
   "source": [
    "ep_1 = \"\"\n",
    "ep_2 = \"\"\n",
    "ep_space = \" \"\n",
    "total_len = 9\n",
    "for i = 1:1:total_len\n",
    "    ep_1 = string(ep_1,string(i))\n",
    "    ep_2 = string(ep_2,string(total_len+1-i))\n",
    "    println(repeat(ep_space, total_len+1-i),ep_1,\" x \", 8, \" + \", i, \" = \", ep_2) \n",
    "end"
   ]
  }
 ],
 "metadata": {
  "kernelspec": {
   "display_name": "Julia 1.6.3",
   "language": "julia",
   "name": "julia-1.6"
  },
  "language_info": {
   "file_extension": ".jl",
   "mimetype": "application/julia",
   "name": "julia",
   "version": "1.6.3"
  },
  "orig_nbformat": 4
 },
 "nbformat": 4,
 "nbformat_minor": 2
}
