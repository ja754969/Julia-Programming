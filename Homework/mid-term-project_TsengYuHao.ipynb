{
 "cells": [
  {
   "cell_type": "markdown",
   "metadata": {},
   "source": [
    "# Mid-term Project\n",
    "# The race of rabbit and turtle\n"
   ]
  },
  {
   "cell_type": "markdown",
   "metadata": {},
   "source": [
    "## Write a program with two dice to play the “rabbit and turtle” racing with the given conditions below:\n",
    "\n",
    "### 1) The turtle uses the dice with numbers of 1,2,3,4,5,6. While, the rabbit uses the special dice with numbers of 2,4,6,8,10,12. \n",
    "### 2) When the rabbit reaches 65% of the road, then the rabbit stops running until the turtle reaches 90% of the road.\n",
    "### 3) Last, show who wins the race. \n",
    "\n",
    "## The program has about 50 lines. HINT: Some functions/loops given in below may be used: \n",
    "### for, if, while, string, println, sleep(0.3), IJulia.clear_output(true). "
   ]
  },
  {
   "cell_type": "code",
   "execution_count": 91,
   "metadata": {},
   "outputs": [
    {
     "name": "stdout",
     "output_type": "stream",
     "text": [
      "Turtle's progress : 97.0%\n",
      "                                                                                                    |Terminal|\n",
      "                                                                                                    |\n",
      "=================================================================================================t\n",
      "====================================================================================================r\n",
      "                                                                                                    |\n",
      "                                                                                                    |Terminal|\n",
      "Rabbit's progress : 100.0%\n",
      "~~~~~~~~~~~~~~~~~~~~~~~~~~~~~~~~~~~~~~~~~~~~~~~~~~Rabbit is the winner!~~~~~~~~~~~~~~~~~~~~~~~~~~~~~~~~~~~~~~~~~~~~~~~~~~"
     ]
    }
   ],
   "source": [
    "using PyPlot\n",
    "path_length = 100\n",
    "turtle_loc = 0\n",
    "rabbit_loc = 0\n",
    "turtle_path = \"\"\n",
    "rabbit_path = \"\"\n",
    "while (rabbit_loc < path_length) & (turtle_loc < path_length)\n",
    "    IJulia.clear_output(true)\n",
    "    if (rabbit_loc >= 65/100*path_length) & (turtle_loc < 90/100*path_length) \n",
    "        turtle_step_in_this_round = rand(1:6)\n",
    "        rabbit_step_in_this_round = 0\n",
    "        turtle_loc = turtle_loc + turtle_step_in_this_round\n",
    "        rabbit_loc = rabbit_loc + rabbit_step_in_this_round\n",
    "    else\n",
    "        turtle_step_in_this_round = rand(1:6)\n",
    "        rabbit_step_in_this_round = rand(2:2:12)\n",
    "        turtle_loc = turtle_loc + turtle_step_in_this_round\n",
    "        rabbit_loc = rabbit_loc + rabbit_step_in_this_round\n",
    "    end\n",
    "    turtle_path = string(turtle_path,repeat(\"=\",turtle_step_in_this_round))\n",
    "    rabbit_path = string(rabbit_path,repeat(\"=\",rabbit_step_in_this_round))\n",
    "    println(\"Turtle's progress : \",round(100*length(turtle_path)/path_length, digits = 2),\"%\")\n",
    "    println(repeat(\" \",path_length),\"|Terminal|\")\n",
    "    println(repeat(\" \",path_length),\"|\")\n",
    "    println(turtle_path,\"t\")\n",
    "    println(rabbit_path,\"r\")\n",
    "    println(repeat(\" \",path_length),\"|\")\n",
    "    println(repeat(\" \",path_length),\"|Terminal|\")\n",
    "    println(\"Rabbit's progress : \",round(100*length(rabbit_path)/path_length, digits = 2),\"%\")\n",
    "    print(repeat(\"~\",Int64(path_length/2)))\n",
    "    if (length(turtle_path) < path_length) & (length(rabbit_path) >= path_length)\n",
    "        print(\"Rabbit is the winner!\")\n",
    "    elseif (length(turtle_path) >= path_length) & (length(rabbit_path) < path_length)\n",
    "        print(\"Turtle is the winner!\")\n",
    "    elseif (length(turtle_path) >= path_length) & (length(rabbit_path) >= path_length)\n",
    "        print(\"Turtle and rabbit tied!\")\n",
    "    else\n",
    "        print(\"Racing\")\n",
    "    end\n",
    "    print(repeat(\"~\",Int64(path_length/2)))\n",
    "    sleep(1)\n",
    "end"
   ]
  }
 ],
 "metadata": {
  "kernelspec": {
   "display_name": "Julia 1.4.2",
   "language": "julia",
   "name": "julia-1.4"
  },
  "language_info": {
   "file_extension": ".jl",
   "mimetype": "application/julia",
   "name": "julia",
   "version": "1.4.2"
  },
  "orig_nbformat": 4
 },
 "nbformat": 4,
 "nbformat_minor": 2
}
