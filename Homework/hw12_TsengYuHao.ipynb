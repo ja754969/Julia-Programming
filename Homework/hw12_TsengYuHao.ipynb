{
 "cells": [
  {
   "cell_type": "markdown",
   "metadata": {},
   "source": [
    "# Homework 12 : Julia_1101 Yu_Hao Tseng\n",
    "## PPT : 15_IO.pptx (p.1)\n",
    "### https://github.com/ja754969/Julia-Programming/blob/master/Homework/hw12_TsengYuHao.ipynb\n",
    "---"
   ]
  },
  {
   "cell_type": "markdown",
   "metadata": {},
   "source": [
    "# Install IJulia\n",
    "---\n",
    "- ```using Pkg```\n",
    "- ```Pkg.add(\"IJulia\")```\n",
    "- ```Pkg.build(\"IJulia\")```\n",
    "---\n",
    "- ```Pkg.add(\"MAT\")```\n",
    "- ```Pkg.add(\"NetCDF\")```\n",
    "---\n",
    "- ```Pkg.test(\"NetCDF\")```\n",
    "---"
   ]
  },
  {
   "cell_type": "markdown",
   "metadata": {},
   "source": [
    "---\n",
    "# Practice"
   ]
  },
  {
   "cell_type": "code",
   "execution_count": 1,
   "metadata": {},
   "outputs": [
    {
     "name": "stderr",
     "output_type": "stream",
     "text": [
      "\u001b[32m\u001b[1m     Testing\u001b[22m\u001b[39m MAT\n",
      "\u001b[32m\u001b[1m      Status\u001b[22m\u001b[39m `C:\\Users\\user\\AppData\\Local\\Temp\\jl_c50DIW\\Project.toml`\n",
      " \u001b[90m [e1450e63] \u001b[39mBufferedStreams v1.0.0\n",
      " \u001b[90m [944b1d66] \u001b[39mCodecZlib v0.7.0\n",
      " \u001b[90m [864edb3b] \u001b[39mDataStructures v0.18.11\n",
      " \u001b[90m [f67ccb44] \u001b[39mHDF5 v0.15.7\n",
      " \u001b[90m [23992714] \u001b[39mMAT v0.10.2\n",
      " \u001b[90m [37e2e46d] \u001b[39mLinearAlgebra `@stdlib/LinearAlgebra`\n",
      " \u001b[90m [2f01184e] \u001b[39mSparseArrays `@stdlib/SparseArrays`\n",
      " \u001b[90m [8dfed614] \u001b[39mTest `@stdlib/Test`\n",
      "\u001b[32m\u001b[1m      Status\u001b[22m\u001b[39m `C:\\Users\\user\\AppData\\Local\\Temp\\jl_c50DIW\\Manifest.toml`\n",
      " \u001b[90m [a74b3585] \u001b[39mBlosc v0.7.2\n",
      " \u001b[90m [e1450e63] \u001b[39mBufferedStreams v1.0.0\n",
      " \u001b[90m [944b1d66] \u001b[39mCodecZlib v0.7.0\n",
      " \u001b[90m [34da2185] \u001b[39mCompat v3.40.0\n",
      " \u001b[90m [864edb3b] \u001b[39mDataStructures v0.18.11\n",
      " \u001b[90m [f67ccb44] \u001b[39mHDF5 v0.15.7\n",
      " \u001b[90m [692b3bcd] \u001b[39mJLLWrappers v1.3.0\n",
      " \u001b[90m [23992714] \u001b[39mMAT v0.10.2\n",
      " \u001b[90m [bac558e1] \u001b[39mOrderedCollections v1.4.1\n",
      " \u001b[90m [21216c6a] \u001b[39mPreferences v1.2.2\n",
      " \u001b[90m [ae029012] \u001b[39mRequires v1.1.3\n",
      " \u001b[90m [3bb67fe8] \u001b[39mTranscodingStreams v0.9.6\n",
      " \u001b[90m [0b7ba130] \u001b[39mBlosc_jll v1.21.1+0\n",
      " \u001b[90m [0234f1f7] \u001b[39mHDF5_jll v1.12.0+1\n",
      " \u001b[90m [5ced341a] \u001b[39mLz4_jll v1.9.3+0\n",
      " \u001b[90m [458c3c95] \u001b[39mOpenSSL_jll v1.1.10+0\n",
      " \u001b[90m [3161d3a3] \u001b[39mZstd_jll v1.5.0+0\n",
      " \u001b[90m [0dad84c5] \u001b[39mArgTools `@stdlib/ArgTools`\n",
      " \u001b[90m [56f22d72] \u001b[39mArtifacts `@stdlib/Artifacts`\n",
      " \u001b[90m [2a0f44e3] \u001b[39mBase64 `@stdlib/Base64`\n",
      " \u001b[90m [ade2ca70] \u001b[39mDates `@stdlib/Dates`\n",
      " \u001b[90m [8bb1440f] \u001b[39mDelimitedFiles `@stdlib/DelimitedFiles`\n",
      " \u001b[90m [8ba89e20] \u001b[39mDistributed `@stdlib/Distributed`\n",
      " \u001b[90m [f43a241f] \u001b[39mDownloads `@stdlib/Downloads`\n",
      " \u001b[90m [b77e0a4c] \u001b[39mInteractiveUtils `@stdlib/InteractiveUtils`\n",
      " \u001b[90m [b27032c2] \u001b[39mLibCURL `@stdlib/LibCURL`\n",
      " \u001b[90m [76f85450] \u001b[39mLibGit2 `@stdlib/LibGit2`\n",
      " \u001b[90m [8f399da3] \u001b[39mLibdl `@stdlib/Libdl`\n",
      " \u001b[90m [37e2e46d] \u001b[39mLinearAlgebra `@stdlib/LinearAlgebra`\n",
      " \u001b[90m [56ddb016] \u001b[39mLogging `@stdlib/Logging`\n",
      " \u001b[90m [d6f4376e] \u001b[39mMarkdown `@stdlib/Markdown`\n",
      " \u001b[90m [a63ad114] \u001b[39mMmap `@stdlib/Mmap`\n",
      " \u001b[90m [ca575930] \u001b[39mNetworkOptions `@stdlib/NetworkOptions`\n",
      " \u001b[90m [44cfe95a] \u001b[39mPkg `@stdlib/Pkg`\n",
      " \u001b[90m [de0858da] \u001b[39mPrintf `@stdlib/Printf`\n",
      " \u001b[90m [3fa0cd96] \u001b[39mREPL `@stdlib/REPL`\n",
      " \u001b[90m [9a3f8284] \u001b[39mRandom `@stdlib/Random`\n",
      " \u001b[90m [ea8e919c] \u001b[39mSHA `@stdlib/SHA`\n",
      " \u001b[90m [9e88b42a] \u001b[39mSerialization `@stdlib/Serialization`\n",
      " \u001b[90m [1a1011a3] \u001b[39mSharedArrays `@stdlib/SharedArrays`\n",
      " \u001b[90m [6462fe0b] \u001b[39mSockets `@stdlib/Sockets`\n",
      " \u001b[90m [2f01184e] \u001b[39mSparseArrays `@stdlib/SparseArrays`\n",
      " \u001b[90m [10745b16] \u001b[39mStatistics `@stdlib/Statistics`\n",
      " \u001b[90m [fa267f1f] \u001b[39mTOML `@stdlib/TOML`\n",
      " \u001b[90m [a4e569a6] \u001b[39mTar `@stdlib/Tar`\n",
      " \u001b[90m [8dfed614] \u001b[39mTest `@stdlib/Test`\n",
      " \u001b[90m [cf7118a7] \u001b[39mUUIDs `@stdlib/UUIDs`\n",
      " \u001b[90m [4ec0a83e] \u001b[39mUnicode `@stdlib/Unicode`\n",
      " \u001b[90m [deac9b47] \u001b[39mLibCURL_jll `@stdlib/LibCURL_jll`\n",
      " \u001b[90m [29816b5a] \u001b[39mLibSSH2_jll `@stdlib/LibSSH2_jll`\n",
      " \u001b[90m [c8ffd9c3] \u001b[39mMbedTLS_jll `@stdlib/MbedTLS_jll`\n",
      " \u001b[90m [14a3606d] \u001b[39mMozillaCACerts_jll `@stdlib/MozillaCACerts_jll`\n",
      " \u001b[90m [83775a58] \u001b[39mZlib_jll `@stdlib/Zlib_jll`\n",
      " \u001b[90m [8e850ede] \u001b[39mnghttp2_jll `@stdlib/nghttp2_jll`\n",
      " \u001b[90m [3f19e933] \u001b[39mp7zip_jll `@stdlib/p7zip_jll`\n",
      "\u001b[32m\u001b[1m     Testing\u001b[22m\u001b[39m Running tests...\n",
      "\u001b[33m\u001b[1m┌ \u001b[22m\u001b[39m\u001b[33m\u001b[1mWarning: \u001b[22m\u001b[39mMATLAB function_handle values are currently not supported\n",
      "\u001b[33m\u001b[1m└ \u001b[22m\u001b[39m\u001b[90m@ MAT.MAT_HDF5 C:\\Users\\user\\.julia\\packages\\MAT\\zayWb\\src\\MAT_HDF5.jl:227\u001b[39m\n",
      "\u001b[33m\u001b[1m┌ \u001b[22m\u001b[39m\u001b[33m\u001b[1mWarning: \u001b[22m\u001b[39mMATLAB function_handle values are currently not supported\n",
      "\u001b[33m\u001b[1m└ \u001b[22m\u001b[39m\u001b[90m@ MAT.MAT_HDF5 C:\\Users\\user\\.julia\\packages\\MAT\\zayWb\\src\\MAT_HDF5.jl:227\u001b[39m\n",
      "\u001b[33m\u001b[1m┌ \u001b[22m\u001b[39m\u001b[33m\u001b[1mWarning: \u001b[22m\u001b[39mMATLAB datetime values are currently not supported\n",
      "\u001b[33m\u001b[1m└ \u001b[22m\u001b[39m\u001b[90m@ MAT.MAT_HDF5 C:\\Users\\user\\.julia\\packages\\MAT\\zayWb\\src\\MAT_HDF5.jl:167\u001b[39m\n",
      "\u001b[33m\u001b[1m┌ \u001b[22m\u001b[39m\u001b[33m\u001b[1mWarning: \u001b[22m\u001b[39mMATLAB table values are currently not supported\n",
      "\u001b[33m\u001b[1m└ \u001b[22m\u001b[39m\u001b[90m@ MAT.MAT_HDF5 C:\\Users\\user\\.julia\\packages\\MAT\\zayWb\\src\\MAT_HDF5.jl:167\u001b[39m\n",
      "\u001b[32m\u001b[1m     Testing\u001b[22m\u001b[39m MAT tests passed \n"
     ]
    }
   ],
   "source": [
    "using Pkg\n",
    "Pkg.test(\"MAT\")"
   ]
  },
  {
   "cell_type": "code",
   "execution_count": 2,
   "metadata": {},
   "outputs": [
    {
     "name": "stderr",
     "output_type": "stream",
     "text": [
      "\u001b[32m\u001b[1m     Testing\u001b[22m\u001b[39m NetCDF\n",
      "\u001b[32m\u001b[1m      Status\u001b[22m\u001b[39m `C:\\Users\\user\\AppData\\Local\\Temp\\jl_1c1O9k\\Project.toml`\n",
      " \u001b[90m [3c3547ce] \u001b[39mDiskArrays v0.2.13\n",
      " \u001b[90m [59287772] \u001b[39mFormatting v0.4.2\n",
      " \u001b[90m [30363a11] \u001b[39mNetCDF v0.11.3\n",
      " \u001b[90m [7243133f] \u001b[39mNetCDF_jll v400.702.400+0\n",
      " \u001b[90m [9a3f8284] \u001b[39mRandom `@stdlib/Random`\n",
      " \u001b[90m [8dfed614] \u001b[39mTest `@stdlib/Test`\n",
      "\u001b[32m\u001b[1m      Status\u001b[22m\u001b[39m `C:\\Users\\user\\AppData\\Local\\Temp\\jl_1c1O9k\\Manifest.toml`\n",
      " \u001b[90m [3c3547ce] \u001b[39mDiskArrays v0.2.13\n",
      " \u001b[90m [59287772] \u001b[39mFormatting v0.4.2\n",
      " \u001b[90m [692b3bcd] \u001b[39mJLLWrappers v1.3.0\n",
      " \u001b[90m [30363a11] \u001b[39mNetCDF v0.11.3\n",
      " \u001b[90m [21216c6a] \u001b[39mPreferences v1.2.2\n",
      " \u001b[90m [0234f1f7] \u001b[39mHDF5_jll v1.12.0+1\n",
      " \u001b[90m [7243133f] \u001b[39mNetCDF_jll v400.702.400+0\n",
      " \u001b[90m [458c3c95] \u001b[39mOpenSSL_jll v1.1.10+0\n",
      " \u001b[90m [0dad84c5] \u001b[39mArgTools `@stdlib/ArgTools`\n",
      " \u001b[90m [56f22d72] \u001b[39mArtifacts `@stdlib/Artifacts`\n",
      " \u001b[90m [2a0f44e3] \u001b[39mBase64 `@stdlib/Base64`\n",
      " \u001b[90m [ade2ca70] \u001b[39mDates `@stdlib/Dates`\n",
      " \u001b[90m [f43a241f] \u001b[39mDownloads `@stdlib/Downloads`\n",
      " \u001b[90m [b77e0a4c] \u001b[39mInteractiveUtils `@stdlib/InteractiveUtils`\n",
      " \u001b[90m [b27032c2] \u001b[39mLibCURL `@stdlib/LibCURL`\n",
      " \u001b[90m [76f85450] \u001b[39mLibGit2 `@stdlib/LibGit2`\n",
      " \u001b[90m [8f399da3] \u001b[39mLibdl `@stdlib/Libdl`\n",
      " \u001b[90m [56ddb016] \u001b[39mLogging `@stdlib/Logging`\n",
      " \u001b[90m [d6f4376e] \u001b[39mMarkdown `@stdlib/Markdown`\n",
      " \u001b[90m [ca575930] \u001b[39mNetworkOptions `@stdlib/NetworkOptions`\n",
      " \u001b[90m [44cfe95a] \u001b[39mPkg `@stdlib/Pkg`\n",
      " \u001b[90m [de0858da] \u001b[39mPrintf `@stdlib/Printf`\n",
      " \u001b[90m [3fa0cd96] \u001b[39mREPL `@stdlib/REPL`\n",
      " \u001b[90m [9a3f8284] \u001b[39mRandom `@stdlib/Random`\n",
      " \u001b[90m [ea8e919c] \u001b[39mSHA `@stdlib/SHA`\n",
      " \u001b[90m [9e88b42a] \u001b[39mSerialization `@stdlib/Serialization`\n",
      " \u001b[90m [6462fe0b] \u001b[39mSockets `@stdlib/Sockets`\n",
      " \u001b[90m [fa267f1f] \u001b[39mTOML `@stdlib/TOML`\n",
      " \u001b[90m [a4e569a6] \u001b[39mTar `@stdlib/Tar`\n",
      " \u001b[90m [8dfed614] \u001b[39mTest `@stdlib/Test`\n",
      " \u001b[90m [cf7118a7] \u001b[39mUUIDs `@stdlib/UUIDs`\n",
      " \u001b[90m [4ec0a83e] \u001b[39mUnicode `@stdlib/Unicode`\n",
      " \u001b[90m [deac9b47] \u001b[39mLibCURL_jll `@stdlib/LibCURL_jll`\n",
      " \u001b[90m [29816b5a] \u001b[39mLibSSH2_jll `@stdlib/LibSSH2_jll`\n",
      " \u001b[90m [c8ffd9c3] \u001b[39mMbedTLS_jll `@stdlib/MbedTLS_jll`\n",
      " \u001b[90m [14a3606d] \u001b[39mMozillaCACerts_jll `@stdlib/MozillaCACerts_jll`\n",
      " \u001b[90m [83775a58] \u001b[39mZlib_jll `@stdlib/Zlib_jll`\n",
      " \u001b[90m [8e850ede] \u001b[39mnghttp2_jll `@stdlib/nghttp2_jll`\n",
      " \u001b[90m [3f19e933] \u001b[39mp7zip_jll `@stdlib/p7zip_jll`\n",
      "\u001b[32m\u001b[1m     Testing\u001b[22m\u001b[39m Running tests...\n"
     ]
    },
    {
     "name": "stdout",
     "output_type": "stream",
     "text": [
      "\u001b[37m\u001b[1mTest Summary: | \u001b[22m\u001b[39m\u001b[32m\u001b[1mPass  \u001b[22m\u001b[39m\u001b[36m\u001b[1mTotal\u001b[22m\u001b[39m\n",
      "NetCDF        | \u001b[32m  28  \u001b[39m\u001b[36m   28\u001b[39m\n"
     ]
    },
    {
     "name": "stderr",
     "output_type": "stream",
     "text": [
      "\u001b[33m\u001b[1m┌ \u001b[22m\u001b[39m\u001b[33m\u001b[1mWarning: \u001b[22m\u001b[39mtemp cleanup\n",
      "\u001b[33m\u001b[1m│ \u001b[22m\u001b[39m  exception =\n",
      "\u001b[33m\u001b[1m│ \u001b[22m\u001b[39m   IOError: unlink(\"C:\\\\Users\\\\user\\\\AppData\\\\Local\\\\Temp\\\\jl_2E5A.tmp\"): resource busy or locked (EBUSY)\n",
      "\u001b[33m\u001b[1m│ \u001b[22m\u001b[39m   Stacktrace:\n",
      "\u001b[33m\u001b[1m│ \u001b[22m\u001b[39m    [1] \u001b[0m\u001b[1muv_error\u001b[22m\n",
      "\u001b[33m\u001b[1m│ \u001b[22m\u001b[39m   \u001b[90m   @ \u001b[39m\u001b[90m.\\\u001b[39m\u001b[90;4mlibuv.jl:97\u001b[0m\u001b[90m [inlined]\u001b[39m\n",
      "\u001b[33m\u001b[1m│ \u001b[22m\u001b[39m    [2] \u001b[0m\u001b[1munlink\u001b[22m\u001b[0m\u001b[1m(\u001b[22m\u001b[90mp\u001b[39m::\u001b[0mString\u001b[0m\u001b[1m)\u001b[22m\n",
      "\u001b[33m\u001b[1m│ \u001b[22m\u001b[39m   \u001b[90m   @ \u001b[39m\u001b[90mBase.Filesystem\u001b[39m \u001b[90m.\\\u001b[39m\u001b[90;4mfile.jl:934\u001b[0m\n",
      "\u001b[33m\u001b[1m│ \u001b[22m\u001b[39m    [3] \u001b[0m\u001b[1mrm\u001b[22m\u001b[0m\u001b[1m(\u001b[22m\u001b[90mpath\u001b[39m::\u001b[0mString; \u001b[90mforce\u001b[39m::\u001b[0mBool, \u001b[90mrecursive\u001b[39m::\u001b[0mBool\u001b[0m\u001b[1m)\u001b[22m\n",
      "\u001b[33m\u001b[1m│ \u001b[22m\u001b[39m   \u001b[90m   @ \u001b[39m\u001b[90mBase.Filesystem\u001b[39m \u001b[90m.\\\u001b[39m\u001b[90;4mfile.jl:272\u001b[0m\n",
      "\u001b[33m\u001b[1m│ \u001b[22m\u001b[39m    [4] \u001b[0m\u001b[1mtemp_cleanup_purge\u001b[22m\u001b[0m\u001b[1m(\u001b[22m; \u001b[90mforce\u001b[39m::\u001b[0mBool\u001b[0m\u001b[1m)\u001b[22m\n",
      "\u001b[33m\u001b[1m│ \u001b[22m\u001b[39m   \u001b[90m   @ \u001b[39m\u001b[90mBase.Filesystem\u001b[39m \u001b[90m.\\\u001b[39m\u001b[90;4mfile.jl:518\u001b[0m\n",
      "\u001b[33m\u001b[1m│ \u001b[22m\u001b[39m    [5] \u001b[0m\u001b[1m(::Base.var\"#786#787\")\u001b[22m\u001b[0m\u001b[1m(\u001b[22m\u001b[0m\u001b[1m)\u001b[22m\n",
      "\u001b[33m\u001b[1m│ \u001b[22m\u001b[39m   \u001b[90m   @ \u001b[39m\u001b[90mBase\u001b[39m \u001b[90m.\\\u001b[39m\u001b[90;4minitdefs.jl:322\u001b[0m\n",
      "\u001b[33m\u001b[1m│ \u001b[22m\u001b[39m    [6] \u001b[0m\u001b[1m_atexit\u001b[22m\u001b[0m\u001b[1m(\u001b[22m\u001b[0m\u001b[1m)\u001b[22m\n",
      "\u001b[33m\u001b[1m│ \u001b[22m\u001b[39m   \u001b[90m   @ \u001b[39m\u001b[90mBase\u001b[39m \u001b[90m.\\\u001b[39m\u001b[90;4minitdefs.jl:343\u001b[0m\n",
      "\u001b[33m\u001b[1m└ \u001b[22m\u001b[39m\u001b[90m@ Base.Filesystem file.jl:522\u001b[39m\n",
      "\u001b[32m\u001b[1m     Testing\u001b[22m\u001b[39m NetCDF tests passed \n"
     ]
    }
   ],
   "source": [
    "Pkg.test(\"NetCDF\")"
   ]
  },
  {
   "cell_type": "code",
   "execution_count": 3,
   "metadata": {},
   "outputs": [
    {
     "name": "stderr",
     "output_type": "stream",
     "text": [
      "┌ Warning: Pkg.installed() is deprecated\n",
      "└ @ Pkg C:\\buildbot\\worker\\package_win64\\build\\usr\\share\\julia\\stdlib\\v1.6\\Pkg\\src\\Pkg.jl:570\n"
     ]
    },
    {
     "data": {
      "text/plain": [
       "Dict{String, VersionNumber} with 6 entries:\n",
       "  \"SymPy\"         => v\"1.1.2\"\n",
       "  \"MAT\"           => v\"0.10.2\"\n",
       "  \"IJulia\"        => v\"1.23.2\"\n",
       "  \"NetCDF\"        => v\"0.11.3\"\n",
       "  \"PyPlot\"        => v\"2.10.0\"\n",
       "  \"ProgressMeter\" => v\"1.7.1\""
      ]
     },
     "execution_count": 3,
     "metadata": {},
     "output_type": "execute_result"
    }
   ],
   "source": [
    "# To check what packages were installed in the system\n",
    "Pkg.installed()\n"
   ]
  },
  {
   "cell_type": "code",
   "execution_count": 4,
   "metadata": {},
   "outputs": [
    {
     "data": {
      "text/plain": [
       "\"g:\\\\我的雲端硬碟\\\\海大1101_1102\\\\Julia 程式語言設計_1101\\\\Julia_git_repo\\\\Homework\""
      ]
     },
     "execution_count": 4,
     "metadata": {},
     "output_type": "execute_result"
    }
   ],
   "source": [
    "pwd()"
   ]
  },
  {
   "cell_type": "markdown",
   "metadata": {},
   "source": [
    "## Write or read a text file (*.txt)"
   ]
  },
  {
   "cell_type": "code",
   "execution_count": 5,
   "metadata": {},
   "outputs": [
    {
     "data": {
      "text/plain": [
       "11-element Vector{Int64}:\n",
       " -200\n",
       " -160\n",
       " -120\n",
       "  -80\n",
       "  -40\n",
       "    0\n",
       "   40\n",
       "   80\n",
       "  120\n",
       "  160\n",
       "  200"
      ]
     },
     "execution_count": 5,
     "metadata": {},
     "output_type": "execute_result"
    }
   ],
   "source": [
    "x = Array(-100:20:100)\n",
    "y = 2*x"
   ]
  },
  {
   "cell_type": "code",
   "execution_count": 6,
   "metadata": {},
   "outputs": [
    {
     "data": {
      "text/plain": [
       "11×2 Matrix{Int64}:\n",
       " -100  -200\n",
       "  -80  -160\n",
       "  -60  -120\n",
       "  -40   -80\n",
       "  -20   -40\n",
       "    0     0\n",
       "   20    40\n",
       "   40    80\n",
       "   60   120\n",
       "   80   160\n",
       "  100   200"
      ]
     },
     "execution_count": 6,
     "metadata": {},
     "output_type": "execute_result"
    }
   ],
   "source": [
    "A = [x y] # create an array that includes two vectors"
   ]
  },
  {
   "cell_type": "code",
   "execution_count": 7,
   "metadata": {},
   "outputs": [],
   "source": [
    "using DelimitedFiles"
   ]
  },
  {
   "cell_type": "code",
   "execution_count": 8,
   "metadata": {},
   "outputs": [],
   "source": [
    "writedlm(\"test.txt\",A)"
   ]
  },
  {
   "cell_type": "code",
   "execution_count": 9,
   "metadata": {},
   "outputs": [
    {
     "data": {
      "text/plain": [
       "11×2 Matrix{Float64}:\n",
       " -100.0  -200.0\n",
       "  -80.0  -160.0\n",
       "  -60.0  -120.0\n",
       "  -40.0   -80.0\n",
       "  -20.0   -40.0\n",
       "    0.0     0.0\n",
       "   20.0    40.0\n",
       "   40.0    80.0\n",
       "   60.0   120.0\n",
       "   80.0   160.0\n",
       "  100.0   200.0"
      ]
     },
     "execution_count": 9,
     "metadata": {},
     "output_type": "execute_result"
    }
   ],
   "source": [
    "B = readdlm(\"test.txt\")"
   ]
  },
  {
   "cell_type": "code",
   "execution_count": 10,
   "metadata": {},
   "outputs": [
    {
     "data": {
      "text/plain": [
       "11-element Vector{Float64}:\n",
       " -100.0\n",
       "  -80.0\n",
       "  -60.0\n",
       "  -40.0\n",
       "  -20.0\n",
       "    0.0\n",
       "   20.0\n",
       "   40.0\n",
       "   60.0\n",
       "   80.0\n",
       "  100.0"
      ]
     },
     "execution_count": 10,
     "metadata": {},
     "output_type": "execute_result"
    }
   ],
   "source": [
    "B[:,1]"
   ]
  },
  {
   "cell_type": "markdown",
   "metadata": {},
   "source": [
    "---\n",
    "## Other way to read a text file \"line by line\"\n",
    "- Need to open a file \n",
    "- Need to close a file"
   ]
  },
  {
   "cell_type": "code",
   "execution_count": 11,
   "metadata": {},
   "outputs": [],
   "source": [
    "f = open(\"test.txt\")\n",
    "close(f)"
   ]
  },
  {
   "cell_type": "code",
   "execution_count": 12,
   "metadata": {},
   "outputs": [
    {
     "data": {
      "text/plain": [
       "IOStream"
      ]
     },
     "execution_count": 12,
     "metadata": {},
     "output_type": "execute_result"
    }
   ],
   "source": [
    "typeof(f)"
   ]
  },
  {
   "cell_type": "code",
   "execution_count": 13,
   "metadata": {},
   "outputs": [],
   "source": [
    "f = open(\"test.txt\")\n",
    "pp = eachline(f)\n",
    "close(f)"
   ]
  },
  {
   "cell_type": "code",
   "execution_count": 14,
   "metadata": {},
   "outputs": [
    {
     "name": "stdout",
     "output_type": "stream",
     "text": [
      "-100\t-200\n",
      "-80\t-160\n",
      "-60\t-120\n",
      "-40\t-80\n",
      "-20\t-40\n",
      "0\t0\n",
      "20\t40\n",
      "40\t80\n",
      "60\t120\n",
      "80\t160\n",
      "100\t200\n"
     ]
    }
   ],
   "source": [
    "# Use a \"for\" loop to get the information from \"eachline()\"\n",
    "f = open(\"test.txt\")\n",
    "pp = eachline(f)\n",
    "for m in pp\n",
    "    println(m)\n",
    "    # println(pp)\n",
    "end\n",
    "pp\n",
    "close(f)\n"
   ]
  },
  {
   "cell_type": "code",
   "execution_count": null,
   "metadata": {},
   "outputs": [],
   "source": []
  },
  {
   "cell_type": "markdown",
   "metadata": {},
   "source": [
    "# Excercise #1\n",
    "## Read the given text file “sst_data.txt” in the server, set “y” be the 3rd column data (25.44, 24.88, 24.70, …) and “x” be (1,2,3,…, 13, 14, …). x has the same length as y. Plot the curve of “x” and “y”."
   ]
  },
  {
   "cell_type": "code",
   "execution_count": 15,
   "metadata": {},
   "outputs": [
    {
     "data": {
      "text/plain": [
       "204×3 Matrix{Float64}:\n",
       " 1998.0   1.0  25.4464\n",
       " 1998.0   2.0  24.8847\n",
       " 1998.0   3.0  24.709\n",
       " 1998.0   4.0  26.0081\n",
       " 1998.0   5.0  27.5301\n",
       " 1998.0   6.0  29.0246\n",
       " 1998.0   7.0  29.2806\n",
       " 1998.0   8.0  29.6285\n",
       " 1998.0   9.0  28.9379\n",
       " 1998.0  10.0  28.84\n",
       " 1998.0  11.0  28.604\n",
       " 1998.0  12.0  27.4902\n",
       " 1999.0   1.0  25.6699\n",
       "    ⋮          \n",
       " 2014.0   1.0  24.6879\n",
       " 2014.0   2.0  23.9346\n",
       " 2014.0   3.0  23.7588\n",
       " 2014.0   4.0  24.604\n",
       " 2014.0   5.0  26.2259\n",
       " 2014.0   6.0  28.4723\n",
       " 2014.0   7.0  29.8664\n",
       " 2014.0   8.0  29.9081\n",
       " 2014.0   9.0  29.7148\n",
       " 2014.0  10.0  28.5182\n",
       " 2014.0  11.0  27.6392\n",
       " 2014.0  12.0  26.332"
      ]
     },
     "execution_count": 15,
     "metadata": {},
     "output_type": "execute_result"
    }
   ],
   "source": [
    "sst = readdlm(\"./Files_Julia_IO_Final/sst_data.txt\")"
   ]
  },
  {
   "cell_type": "code",
   "execution_count": 16,
   "metadata": {},
   "outputs": [
    {
     "data": {
      "text/plain": [
       "204-element Vector{Float64}:\n",
       " 25.4463751698391\n",
       " 24.884743796418\n",
       " 24.7090388733228\n",
       " 26.0080608354845\n",
       " 27.5301197948635\n",
       " 29.0245721614467\n",
       " 29.2806418469339\n",
       " 29.6285435241096\n",
       " 28.9379254779468\n",
       " 28.8399618091791\n",
       " 28.6039655542005\n",
       " 27.4901822749751\n",
       " 25.6698646329698\n",
       "  ⋮\n",
       " 24.6879278716926\n",
       " 23.9346041834267\n",
       " 23.7588204165311\n",
       " 24.6040213727456\n",
       " 26.2259216108307\n",
       " 28.4722575853824\n",
       " 29.8663754762669\n",
       " 29.9081480346489\n",
       " 29.7148483165735\n",
       " 28.5182337716822\n",
       " 27.6392159088988\n",
       " 26.3319607280364"
      ]
     },
     "execution_count": 16,
     "metadata": {},
     "output_type": "execute_result"
    }
   ],
   "source": [
    "y = sst[:,3]"
   ]
  },
  {
   "cell_type": "code",
   "execution_count": 17,
   "metadata": {},
   "outputs": [
    {
     "data": {
      "text/plain": [
       "204-element Vector{Int64}:\n",
       "   1\n",
       "   2\n",
       "   3\n",
       "   4\n",
       "   5\n",
       "   6\n",
       "   7\n",
       "   8\n",
       "   9\n",
       "  10\n",
       "  11\n",
       "  12\n",
       "  13\n",
       "   ⋮\n",
       " 193\n",
       " 194\n",
       " 195\n",
       " 196\n",
       " 197\n",
       " 198\n",
       " 199\n",
       " 200\n",
       " 201\n",
       " 202\n",
       " 203\n",
       " 204"
      ]
     },
     "execution_count": 17,
     "metadata": {},
     "output_type": "execute_result"
    }
   ],
   "source": [
    "x = Array(1:length(y))"
   ]
  },
  {
   "cell_type": "code",
   "execution_count": 18,
   "metadata": {},
   "outputs": [
    {
     "data": {
      "image/png": "[encoded data removed]",
      "text/plain": [
       "Figure(PyObject <Figure size 640x480 with 1 Axes>)"
      ]
     },
     "metadata": {},
     "output_type": "display_data"
    }
   ],
   "source": [
    "using PyPlot\n",
    "plot(x,y,\"b-s\")\n",
    "xlabel(\"Months\")\n",
    "ylabel(\"Sea Surface Temperature\")\n",
    "title(\"Monthly SST\")\n",
    "grid()"
   ]
  },
  {
   "cell_type": "markdown",
   "metadata": {},
   "source": [
    "## Reading Mat files (Matlab)"
   ]
  },
  {
   "cell_type": "code",
   "execution_count": 19,
   "metadata": {},
   "outputs": [],
   "source": [
    "using MAT"
   ]
  },
  {
   "cell_type": "code",
   "execution_count": 20,
   "metadata": {},
   "outputs": [
    {
     "data": {
      "text/plain": [
       "KeySet for a Dict{String, Int64} with 2 entries. Keys:\n",
       "  \"b\"\n",
       "  \"a\""
      ]
     },
     "execution_count": 20,
     "metadata": {},
     "output_type": "execute_result"
    }
   ],
   "source": [
    "f = matopen(\"./Files_Julia_IO_Final/ab.mat\")\n",
    "typeof(f)\n",
    "varnames = names(f)"
   ]
  },
  {
   "cell_type": "code",
   "execution_count": 21,
   "metadata": {},
   "outputs": [],
   "source": [
    "close(f)"
   ]
  },
  {
   "cell_type": "code",
   "execution_count": 22,
   "metadata": {},
   "outputs": [
    {
     "data": {
      "text/plain": [
       "KeySet for a Dict{String, Int64} with 2 entries. Keys:\n",
       "  \"b\"\n",
       "  \"a\""
      ]
     },
     "execution_count": 22,
     "metadata": {},
     "output_type": "execute_result"
    }
   ],
   "source": [
    "varnames"
   ]
  },
  {
   "cell_type": "code",
   "execution_count": 23,
   "metadata": {},
   "outputs": [
    {
     "data": {
      "text/plain": [
       "Base.KeySet{String, Dict{String, Int64}}"
      ]
     },
     "execution_count": 23,
     "metadata": {},
     "output_type": "execute_result"
    }
   ],
   "source": [
    "typeof(varnames)"
   ]
  },
  {
   "cell_type": "markdown",
   "metadata": {},
   "source": [
    "### Reading matlab file"
   ]
  },
  {
   "cell_type": "code",
   "execution_count": 24,
   "metadata": {},
   "outputs": [],
   "source": [
    "f = matopen(\"./Files_Julia_IO_Final/ab.mat\")\n",
    "x = read(f,\"a\")\n",
    "y = read(f,\"b\")\n",
    "close(f)"
   ]
  },
  {
   "cell_type": "code",
   "execution_count": 25,
   "metadata": {},
   "outputs": [
    {
     "data": {
      "text/plain": [
       "1×11 Matrix{Float64}:\n",
       " 0.0  10.0  20.0  30.0  40.0  50.0  60.0  70.0  80.0  90.0  100.0"
      ]
     },
     "metadata": {},
     "output_type": "display_data"
    },
    {
     "data": {
      "text/plain": [
       "1×11 Matrix{Float64}:\n",
       " 0.0  20.0  40.0  60.0  80.0  100.0  120.0  140.0  160.0  180.0  200.0"
      ]
     },
     "metadata": {},
     "output_type": "display_data"
    }
   ],
   "source": [
    "display(x)\n",
    "display(y)"
   ]
  },
  {
   "cell_type": "code",
   "execution_count": 26,
   "metadata": {},
   "outputs": [
    {
     "data": {
      "text/plain": [
       "MAT.MAT_HDF5.MatlabHDF5File"
      ]
     },
     "execution_count": 26,
     "metadata": {},
     "output_type": "execute_result"
    }
   ],
   "source": [
    "f = matopen(\"xy.mat\", \"w\")\n",
    "typeof(f)"
   ]
  },
  {
   "cell_type": "code",
   "execution_count": 27,
   "metadata": {},
   "outputs": [],
   "source": [
    "close(f)"
   ]
  },
  {
   "cell_type": "code",
   "execution_count": 28,
   "metadata": {},
   "outputs": [
    {
     "data": {
      "text/plain": [
       "1×11 Matrix{Float64}:\n",
       " 0.0  10.0  20.0  30.0  40.0  50.0  60.0  70.0  80.0  90.0  100.0"
      ]
     },
     "metadata": {},
     "output_type": "display_data"
    },
    {
     "data": {
      "text/plain": [
       "1×11 Matrix{Float64}:\n",
       " 0.0  20.0  40.0  60.0  80.0  100.0  120.0  140.0  160.0  180.0  200.0"
      ]
     },
     "metadata": {},
     "output_type": "display_data"
    }
   ],
   "source": [
    "display(x)\n",
    "display(y)\n",
    "f = matopen(\"xy2.mat\",\"w\")\n",
    "write(f, \"x_mat\", x)\n",
    "write(f, \"y_mat\", y)\n",
    "close(f)"
   ]
  },
  {
   "cell_type": "markdown",
   "metadata": {},
   "source": [
    "# Exercise #2\n",
    "## Read the given text file “sst_data.txt” in the Tronclass, set “year” be the 1st column data, “month” be the 2nd column and “sst” be the 3rd column data. Save the vectors “year”, “month” and “sst” to a Mat file named “sst_data.mat”.\n",
    "## Read data from “sst_data.mat” that you have just created. Calculate time (t) in year from the data of years and months. Plot the time series of “sst” versus time (t).\n"
   ]
  },
  {
   "cell_type": "code",
   "execution_count": 29,
   "metadata": {},
   "outputs": [
    {
     "data": {
      "text/plain": [
       "204-element Vector{Float64}:\n",
       " 25.4463751698391\n",
       " 24.884743796418\n",
       " 24.7090388733228\n",
       " 26.0080608354845\n",
       " 27.5301197948635\n",
       " 29.0245721614467\n",
       " 29.2806418469339\n",
       " 29.6285435241096\n",
       " 28.9379254779468\n",
       " 28.8399618091791\n",
       " 28.6039655542005\n",
       " 27.4901822749751\n",
       " 25.6698646329698\n",
       "  ⋮\n",
       " 24.6879278716926\n",
       " 23.9346041834267\n",
       " 23.7588204165311\n",
       " 24.6040213727456\n",
       " 26.2259216108307\n",
       " 28.4722575853824\n",
       " 29.8663754762669\n",
       " 29.9081480346489\n",
       " 29.7148483165735\n",
       " 28.5182337716822\n",
       " 27.6392159088988\n",
       " 26.3319607280364"
      ]
     },
     "execution_count": 29,
     "metadata": {},
     "output_type": "execute_result"
    }
   ],
   "source": [
    "sst = readdlm(\"./Files_Julia_IO_Final/sst_data.txt\")\n",
    "year = sst[:,1]\n",
    "month = sst[:,2]\n",
    "sst = sst[:,3]"
   ]
  },
  {
   "cell_type": "code",
   "execution_count": 30,
   "metadata": {},
   "outputs": [],
   "source": [
    "f = matopen(\"sst_data.mat\",\"w\")\n",
    "write(f, \"year_sst\", year)\n",
    "write(f, \"month_sst\", month)\n",
    "write(f, \"sst\", sst)\n",
    "close(f)"
   ]
  },
  {
   "cell_type": "code",
   "execution_count": 31,
   "metadata": {},
   "outputs": [],
   "source": [
    "f = matopen(\"sst_data.mat\")\n",
    "year = read(f,\"year_sst\")\n",
    "month = read(f,\"month_sst\")\n",
    "sst = read(f,\"sst\")\n",
    "close(f)"
   ]
  },
  {
   "cell_type": "code",
   "execution_count": 32,
   "metadata": {},
   "outputs": [
    {
     "data": {
      "text/plain": [
       "204-element Vector{Float64}:\n",
       " 1998.0\n",
       " 1998.0833333333333\n",
       " 1998.1666666666667\n",
       " 1998.25\n",
       " 1998.3333333333333\n",
       " 1998.4166666666667\n",
       " 1998.5\n",
       " 1998.5833333333333\n",
       " 1998.6666666666667\n",
       " 1998.75\n",
       " 1998.8333333333333\n",
       " 1998.9166666666667\n",
       " 1999.0\n",
       "    ⋮\n",
       " 2014.0\n",
       " 2014.0833333333333\n",
       " 2014.1666666666667\n",
       " 2014.25\n",
       " 2014.3333333333333\n",
       " 2014.4166666666667\n",
       " 2014.5\n",
       " 2014.5833333333333\n",
       " 2014.6666666666667\n",
       " 2014.75\n",
       " 2014.8333333333333\n",
       " 2014.9166666666667"
      ]
     },
     "execution_count": 32,
     "metadata": {},
     "output_type": "execute_result"
    }
   ],
   "source": [
    "t = year .+ (month.-1)./12"
   ]
  },
  {
   "cell_type": "code",
   "execution_count": 36,
   "metadata": {},
   "outputs": [
    {
     "data": {
      "image/png": "[encoded data removed]",
      "text/plain": [
       "Figure(PyObject <Figure size 640x480 with 1 Axes>)"
      ]
     },
     "metadata": {},
     "output_type": "display_data"
    },
    {
     "data": {
      "text/plain": [
       "PyObject Text(24.000000000000007, 0.5, 'sst')"
      ]
     },
     "execution_count": 36,
     "metadata": {},
     "output_type": "execute_result"
    }
   ],
   "source": [
    "plot(t,sst)\n",
    "xlabel(\"time\")\n",
    "ylabel(\"sst\")"
   ]
  },
  {
   "cell_type": "markdown",
   "metadata": {},
   "source": [
    "## Reading NetCDF file"
   ]
  },
  {
   "cell_type": "code",
   "execution_count": 34,
   "metadata": {},
   "outputs": [],
   "source": [
    "using NetCDF"
   ]
  },
  {
   "cell_type": "code",
   "execution_count": 35,
   "metadata": {},
   "outputs": [
    {
     "name": "stdout",
     "output_type": "stream",
     "text": [
      "\n",
      "##### NetCDF File #####\n",
      "\n",
      "g:\\我的雲端硬碟\\海大1101_1102\\Julia 程式語言設計_1101\\Julia_git_repo\\Homework\\Files_Julia_IO_Final\\test.nc\n",
      "\n",
      "##### Dimensions #####\n",
      "\n",
      "Name                                                Length                    \n",
      "--------------------------------------------------------------------------------\n",
      "column                                              3                         \n",
      "row                                                 2                         \n",
      "\n",
      "##### Variables #####\n",
      "\n",
      "Name                            Type            Dimensions                      \n",
      "--------------------------------------------------------------------------------\n",
      "Depth                           DOUBLE          row column                      \n",
      "\n",
      "##### Attributes #####\n",
      "\n",
      "Variable            Name                Value                                   \n",
      "--------------------------------------------------------------------------------\n",
      "nothing\n"
     ]
    }
   ],
   "source": [
    "file_name = \"./Files_Julia_IO_Final/test.nc\"\n",
    "info = ncinfo(file_name)\n",
    "# ncinfo(file_name)\n",
    "println(info)\n"
   ]
  },
  {
   "cell_type": "code",
   "execution_count": null,
   "metadata": {},
   "outputs": [],
   "source": []
  }
 ],
 "metadata": {
  "kernelspec": {
   "display_name": "Julia 1.6.3",
   "language": "julia",
   "name": "julia-1.6"
  },
  "language_info": {
   "file_extension": ".jl",
   "mimetype": "application/julia",
   "name": "julia",
   "version": "1.6.3"
  },
  "orig_nbformat": 4
 },
 "nbformat": 4,
 "nbformat_minor": 2
}
