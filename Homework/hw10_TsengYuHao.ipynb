{
 "cells": [
  {
   "cell_type": "markdown",
   "metadata": {},
   "source": [
    "# Homework 10 : Julia_1101 Yu_Hao Tseng\n",
    "## PPT : 13_More_types.pptx (p.1)\n",
    "### https://github.com/ja754969/Julia-Programming/blob/master/Homework/hw10_TsengYuHao.ipynb"
   ]
  },
  {
   "cell_type": "markdown",
   "metadata": {},
   "source": [
    "---\n",
    "# Practice\n",
    "---\n",
    "## Calculation speed"
   ]
  },
  {
   "cell_type": "code",
   "execution_count": 1,
   "metadata": {},
   "outputs": [
    {
     "name": "stdout",
     "output_type": "stream",
     "text": [
      "  0.000010 seconds (1 allocation: 16 bytes)\n"
     ]
    },
    {
     "data": {
      "text/plain": [
       "3.85"
      ]
     },
     "execution_count": 1,
     "metadata": {},
     "output_type": "execute_result"
    }
   ],
   "source": [
    "@time begin\n",
    "    a = 1//4 + 1//2 + 1 + 2 + 0.1\n",
    "end"
   ]
  },
  {
   "cell_type": "code",
   "execution_count": 2,
   "metadata": {},
   "outputs": [
    {
     "name": "stdout",
     "output_type": "stream",
     "text": [
      "  0.000000 seconds\n"
     ]
    },
    {
     "data": {
      "text/plain": [
       "3.85"
      ]
     },
     "execution_count": 2,
     "metadata": {},
     "output_type": "execute_result"
    }
   ],
   "source": [
    "@time begin\n",
    "    a = 0.25 + 0.5 + 1.0 + 2.0 + 0.1\n",
    "end"
   ]
  },
  {
   "cell_type": "markdown",
   "metadata": {},
   "source": [
    "---\n",
    "## Finding a family of a member"
   ]
  },
  {
   "cell_type": "code",
   "execution_count": 3,
   "metadata": {},
   "outputs": [
    {
     "data": {
      "text/plain": [
       "Signed"
      ]
     },
     "execution_count": 3,
     "metadata": {},
     "output_type": "execute_result"
    }
   ],
   "source": [
    "supertype(Int64)"
   ]
  },
  {
   "cell_type": "code",
   "execution_count": 4,
   "metadata": {},
   "outputs": [
    {
     "data": {
      "text/plain": [
       "Number"
      ]
     },
     "execution_count": 4,
     "metadata": {},
     "output_type": "execute_result"
    }
   ],
   "source": [
    "supertype(Real)"
   ]
  },
  {
   "cell_type": "code",
   "execution_count": 5,
   "metadata": {},
   "outputs": [
    {
     "data": {
      "text/plain": [
       "Any"
      ]
     },
     "execution_count": 5,
     "metadata": {},
     "output_type": "execute_result"
    }
   ],
   "source": [
    "supertype(Number)"
   ]
  },
  {
   "cell_type": "markdown",
   "metadata": {},
   "source": [
    "---\n",
    "## Show all types"
   ]
  },
  {
   "cell_type": "code",
   "execution_count": 6,
   "metadata": {},
   "outputs": [
    {
     "data": {
      "text/plain": [
       "516-element Vector{Any}:\n",
       " AbstractArray\n",
       " AbstractChannel\n",
       " AbstractChar\n",
       " AbstractDict\n",
       " AbstractDisplay\n",
       " AbstractMatch\n",
       " AbstractPattern\n",
       " AbstractSet\n",
       " AbstractString\n",
       " Any\n",
       " Base.AbstractBroadcasted\n",
       " Base.AbstractCartesianIndex\n",
       " Base.AbstractCmd\n",
       " ⋮\n",
       " Tuple\n",
       " Type\n",
       " TypeVar\n",
       " UndefInitializer\n",
       " Val\n",
       " Vararg\n",
       " VecElement\n",
       " VersionNumber\n",
       " WeakRef\n",
       " ZMQ.Context\n",
       " ZMQ.Socket\n",
       " ZMQ._Message"
      ]
     },
     "execution_count": 6,
     "metadata": {},
     "output_type": "execute_result"
    }
   ],
   "source": [
    "subtypes(Any)"
   ]
  },
  {
   "cell_type": "markdown",
   "metadata": {},
   "source": [
    "---\n",
    "## Print out all types"
   ]
  },
  {
   "cell_type": "code",
   "execution_count": 7,
   "metadata": {},
   "outputs": [
    {
     "name": "stdout",
     "output_type": "stream",
     "text": [
      "AbstractArray\n",
      "AbstractChannel\n",
      "AbstractChar\n",
      "AbstractDict\n",
      "AbstractDisplay\n",
      "AbstractMatch\n",
      "AbstractPattern\n",
      "AbstractSet\n",
      "AbstractString\n",
      "Any\n",
      "Base.AbstractBroadcasted\n",
      "Base.AbstractCartesianIndex\n",
      "Base.AbstractCmd\n",
      "Base.AbstractLock\n",
      "Base.ArithmeticStyle\n",
      "Base.AsyncCollector\n",
      "Base.AsyncCollectorState\n",
      "Base.AsyncCondition\n",
      "Base.AsyncGenerator\n",
      "Base.AsyncGeneratorState\n",
      "Base.BaseDocs.Keyword\n",
      "Base.BinaryPlatforms.AbstractPlatform\n",
      "Base.BinaryPlatforms.CPUID.ISA\n",
      "Base.BottomRF\n",
      "Base.Broadcast.BitMaskedBitArray\n",
      "Base.Broadcast.BroadcastStyle\n",
      "Base.Broadcast.Extruded\n",
      "Base.CREDUI_INFO\n",
      "Base.CacheHeaderIncludes\n",
      "Base.CachedTOMLDict\n",
      "Base.Cartesian.LReplace\n",
      "Base.CodegenParams\n",
      "Base.CoreLogging.AbstractLogger\n",
      "Base.CoreLogging.LogLevel\n",
      "Base.CoreLogging.LogState\n",
      "Base.CyclePadding\n",
      "Base.DataTypeFieldDesc\n",
      "Base.DataTypeLayout\n",
      "Base.DimSelector\n",
      "Base.Docs.Binding\n",
      "Base.Docs.DocStr\n",
      "Base.Docs.MultiDoc\n",
      "Base.EachLine\n",
      "Base.EachStringIndex\n",
      "Base.Event\n",
      "Base.FieldDesc\n",
      "Base.FieldDescStorage\n",
      "Base.FileRedirect\n",
      "Base.Filesystem.StatStruct\n",
      "Base.Filesystem.uv_dirent_t\n",
      "Base.FilteringRF\n",
      "Base.FlatteningRF\n",
      "Base.FlipArgs\n",
      "Base.GC_Diff\n",
      "Base.GC_Num\n",
      "Base.GMP.MPQ._MPQ\n",
      "Base.Generator\n",
      "Base.GenericCondition\n",
      "Base.GitVersionInfo\n",
      "Base.IOServer\n",
      "Base.InterpreterIP\n",
      "Base.InvasiveLinkedList\n",
      "Base.InvasiveLinkedListSynchronized\n",
      "Base.IteratorEltype\n",
      "Base.IteratorSize\n",
      "Base.Iterators.Accumulate\n",
      "Base.Iterators.Count\n",
      "Base.Iterators.Cycle\n",
      "Base.Iterators.Drop\n",
      "Base.Iterators.DropWhile\n",
      "Base.Iterators.Enumerate\n",
      "Base.Iterators.Filter\n",
      "Base.Iterators.Flatten\n",
      "Base.Iterators.IterationCutShort\n",
      "Base.Iterators.PartitionIterator\n",
      "Base.Iterators.ProductIterator\n",
      "Base.Iterators.Repeated\n",
      "Base.Iterators.Rest\n",
      "Base.Iterators.Reverse\n",
      "Base.Iterators.Stateful\n",
      "Base.Iterators.Take\n",
      "Base.Iterators.TakeWhile\n",
      "Base.Iterators.Zip\n",
      "Base.JLOptions\n",
      "Base.Libc.FILE\n",
      "Base.Libc.TimeVal\n",
      "Base.Libc.TmStruct\n",
      "Base.Libc.WindowsRawSocket\n",
      "Base.LinkedListItem\n",
      "Base.MappingRF\n",
      "Base.Math.DoubleFloat32\n",
      "Base.Math.DoubleFloat64\n",
      "Base.MethodList\n",
      "Base.MultiplicativeInverses.MultiplicativeInverse\n",
      "Base.Nowhere\n",
      "Base.Order.Ordering\n",
      "Base.OrderStyle\n",
      "Base.Padding\n",
      "Base.PaddingError\n",
      "Base.PkgId\n",
      "Base.PkgOrigin\n",
      "Base.Prehashed\n",
      "Base.RangeStepStyle\n",
      "Base.ReadEachIterator\n",
      "Base.RegexAndMatchData\n",
      "Base.RegexMatchIterator\n",
      "Base.ReshapedArrayIterator\n",
      "Base.ReshapedIndex\n",
      "Base.SCartesianIndex2\n",
      "Base.SHA1\n",
      "Base.Semaphore\n",
      "Base.SkipMissing\n",
      "Base.Sort.Algorithm\n",
      "Base.StackTraces.StackFrame\n",
      "Base.SummarySize\n",
      "Base.Sys.CPUinfo\n",
      "Base.Sys.UV_cpu_info_t\n",
      "Base.TOML.Date\n",
      "Base.TOML.DateTime\n",
      "Base.TOML.Parser\n",
      "Base.TOML.Time\n",
      "Base.TOMLCache\n",
      "Base.Threads.AbstractSchedule\n",
      "Base.Threads.Atomic\n",
      "Base.TwicePrecision\n",
      "Base.UUID\n",
      "Base.Unicode.GraphemeIterator\n",
      "Base.ValueIterator\n",
      "Base.WindowsErrorInfo\n",
      "Base._InitialValue\n",
      "Base64.Buffer\n",
      "Core.Argument\n",
      "Core.Box\n",
      "Core.CodeInfo\n",
      "Core.CodeInstance\n",
      "Core.Compiler.AbstractDict\n",
      "Core.Compiler.AbstractInterpreter\n",
      "Core.Compiler.AbstractIterationInfo\n",
      "Core.Compiler.AbstractSet\n",
      "Core.Compiler.ApplyCallInfo\n",
      "Core.Compiler.ArithmeticStyle\n",
      "Core.Compiler.BBIdxIter\n",
      "Core.Compiler.BasicBlock\n",
      "Core.Compiler.BlockLiveness\n",
      "Core.Compiler.CFG\n",
      "Core.Compiler.CFGInliningState\n",
      "Core.Compiler.CallMeta\n",
      "Core.Compiler.CodegenParams\n",
      "Core.Compiler.CompactPeekIterator\n",
      "Core.Compiler.Conditional\n",
      "Core.Compiler.ConstantCase\n",
      "Core.Compiler.DFSTree\n",
      "Core.Compiler.DataTypeFieldDesc\n",
      "Core.Compiler.DataTypeLayout\n",
      "Core.Compiler.DelayedInliningSpec\n",
      "Core.Compiler.DelayedTyp\n",
      "Core.Compiler.DomTree\n",
      "Core.Compiler.DomTreeNode\n",
      "Core.Compiler.DominatedBlocks\n",
      "Core.Compiler.EdgeTracker\n",
      "Core.Compiler.ExponentialBackOff\n",
      "Core.Compiler.FieldDesc\n",
      "Core.Compiler.FieldDescStorage\n",
      "Core.Compiler.Generator\n",
      "Core.Compiler.IRCode\n",
      "Core.Compiler.IncrementalCompact\n",
      "Core.Compiler.IndexStyle\n",
      "Core.Compiler.InferenceCaches\n",
      "Core.Compiler.InferenceParams\n",
      "Core.Compiler.InferenceResult\n",
      "Core.Compiler.InferenceState\n",
      "Core.Compiler.InliningState\n",
      "Core.Compiler.InliningTodo\n",
      "Core.Compiler.Instruction\n",
      "Core.Compiler.InstructionStream\n",
      "Core.Compiler.InternalCodeCache\n",
      "Core.Compiler.InterpreterIP\n",
      "Core.Compiler.InvokeData\n",
      "Core.Compiler.IteratorEltype\n",
      "Core.Compiler.IteratorSize\n",
      "Core.Compiler.Iterators.Accumulate\n",
      "Core.Compiler.Iterators.Count\n",
      "Core.Compiler.Iterators.Cycle\n",
      "Core.Compiler.Iterators.Drop\n",
      "Core.Compiler.Iterators.DropWhile\n",
      "Core.Compiler.Iterators.Enumerate\n",
      "Core.Compiler.Iterators.Filter\n",
      "Core.Compiler.Iterators.Flatten\n",
      "Core.Compiler.Iterators.IterationCutShort\n",
      "Core.Compiler.Iterators.PartitionIterator\n",
      "Core.Compiler.Iterators.ProductIterator\n",
      "Core.Compiler.Iterators.Repeated\n",
      "Core.Compiler.Iterators.Rest\n",
      "Core.Compiler.Iterators.Reverse\n",
      "Core.Compiler.Iterators.Stateful\n",
      "Core.Compiler.Iterators.Take\n",
      "Core.Compiler.Iterators.TakeWhile\n",
      "Core.Compiler.Iterators.Zip\n",
      "Core.Compiler.JLOptions\n",
      "Core.Compiler.LiftedPhi\n",
      "Core.Compiler.LimitedAccuracy\n",
      "Core.Compiler.MaybeUndef\n",
      "Core.Compiler.MethodList\n",
      "Core.Compiler.MethodLookupResult\n",
      "Core.Compiler.MethodMatchInfo\n",
      "Core.Compiler.MethodResultPure\n",
      "Core.Compiler.MethodTableView\n",
      "Core.Compiler.Missing\n",
      "Core.Compiler.NewNodeInfo\n",
      "Core.Compiler.NewNodeStream\n",
      "Core.Compiler.NewSSAValue\n",
      "Core.Compiler.NotFound\n",
      "Core.Compiler.Nowhere\n",
      "Core.Compiler.OOBToken\n",
      "Core.Compiler.OldSSAValue\n",
      "Core.Compiler.OptimizationParams\n",
      "Core.Compiler.OptimizationState\n",
      "Core.Compiler.Order.Ordering\n",
      "Core.Compiler.OrderStyle\n",
      "Core.Compiler.Pair\n",
      "Core.Compiler.PartialTypeVar\n",
      "Core.Compiler.RangeStepStyle\n",
      "Core.Compiler.ResolvedInliningSpec\n",
      "Core.Compiler.SNCAData\n",
      "Core.Compiler.SSADefUse\n",
      "Core.Compiler.Signature\n",
      "Core.Compiler.SimpleCartesian\n",
      "Core.Compiler.SlotInfo\n",
      "Core.Compiler.Sort.Algorithm\n",
      "Core.Compiler.StateUpdate\n",
      "Core.Compiler.Timings.InferenceFrameInfo\n",
      "Core.Compiler.Timings.Timing\n",
      "Core.Compiler.TypesView\n",
      "Core.Compiler.UndefToken\n",
      "Core.Compiler.UnionSplit\n",
      "Core.Compiler.UnionSplitApplyCallInfo\n",
      "Core.Compiler.UnionSplitInfo\n",
      "Core.Compiler.UnionSplitSignature\n",
      "Core.Compiler.UseRef\n",
      "Core.Compiler.UseRefIterator\n",
      "Core.Compiler.Val\n",
      "Core.Compiler.ValueIterator\n",
      "Core.Compiler.VarState\n",
      "Core.Compiler.WindowsErrorInfo\n",
      "Core.Compiler.WorldRange\n",
      "Core.Compiler.WorldView\n",
      "Core.Const\n",
      "Core.GeneratedFunctionStub\n",
      "Core.GotoIfNot\n",
      "Core.GotoNode\n",
      "Core.LineInfoNode\n",
      "Core.MethodInstance\n",
      "Core.MethodMatch\n",
      "Core.MethodTable\n",
      "Core.NewvarNode\n",
      "Core.PartialStruct\n",
      "Core.PhiCNode\n",
      "Core.PhiNode\n",
      "Core.PiNode\n",
      "Core.ReturnNode\n",
      "Core.SSAValue\n",
      "Core.SimpleVector\n",
      "Core.Slot\n",
      "Core.TypeMapEntry\n",
      "Core.TypeMapLevel\n",
      "Core.TypeName\n",
      "Core.UpsilonNode\n",
      "Cstring\n",
      "Cwstring\n",
      "Dates.AbstractDateToken\n",
      "Dates.AbstractTime\n",
      "Dates.DateFormat\n",
      "Dates.DateFunction\n",
      "Dates.DateLocale\n",
      "Dates.DayOfWeekToken\n",
      "Dates.Decimal3\n",
      "Dates.TimeZone\n",
      "DelimitedFiles.DLMHandler\n",
      "Distributed.AbstractMsg\n",
      "Distributed.AbstractRemoteRef\n",
      "Distributed.AbstractWorkerPool\n",
      "Distributed.ClusterManager\n",
      "Distributed.LocalProcess\n",
      "Distributed.MsgHeader\n",
      "Distributed.ProcessGroup\n",
      "Distributed.RRID\n",
      "Distributed.RemoteValue\n",
      "Distributed.SyncTake\n",
      "Distributed.Worker\n",
      "Distributed.WorkerConfig\n",
      "Downloads.Curl.CURLMsg\n",
      "Downloads.Curl.Easy\n",
      "Downloads.Curl.Multi\n",
      "Downloads.Curl.curl_slist_t\n",
      "Downloads.Downloader\n",
      "Downloads.Response\n",
      "Enum\n",
      "Exception\n",
      "ExponentialBackOff\n",
      "Expr\n",
      "FileWatching.FDEvent\n",
      "FileWatching.FDWatcher\n",
      "FileWatching.FileEvent\n",
      "FileWatching.FileMonitor\n",
      "FileWatching.FolderMonitor\n",
      "FileWatching.PollingFileWatcher\n",
      "FileWatching._FDWatcher\n",
      "Function\n",
      "GlobalRef\n",
      "HTML\n",
      "IJulia.CommManager.Comm\n",
      "IJulia.Msg\n",
      "IO\n",
      "IndexStyle\n",
      "JSON.Parser.ParserContext\n",
      "JSON.Parser.ParserState\n",
      "JSON.Serializations.Serialization\n",
      "JSON.Writer.CompositeTypeWrapper\n",
      "JSON.Writer.JSONText\n",
      "LibCURL.CURLMsg\n",
      "LibCURL.curl_certinfo\n",
      "LibCURL.curl_fileinfo\n",
      "LibCURL.curl_forms\n",
      "LibCURL.curl_httppost\n",
      "LibCURL.curl_khkey\n",
      "LibCURL.curl_mime_s\n",
      "LibCURL.curl_mimepart_s\n",
      "LibCURL.curl_pushheaders\n",
      "LibCURL.curl_slist\n",
      "LibCURL.curl_sockaddr\n",
      "LibCURL.curl_tlssessioninfo\n",
      "LibCURL.curl_version_info_data\n",
      "LibCURL.curl_waitfd\n",
      "LibGit2.AbstractCredential\n",
      "LibGit2.AbstractGitHash\n",
      "LibGit2.AbstractGitObject\n",
      "LibGit2.BlameHunk\n",
      "LibGit2.BlameOptions\n",
      "LibGit2.Buffer\n",
      "LibGit2.CachedCredentials\n",
      "LibGit2.CertHostKey\n",
      "LibGit2.CheckoutOptions\n",
      "LibGit2.CherrypickOptions\n",
      "LibGit2.CloneOptions\n",
      "LibGit2.ConfigEntry\n",
      "LibGit2.CredentialPayload\n",
      "LibGit2.DescribeFormatOptions\n",
      "LibGit2.DescribeOptions\n",
      "LibGit2.DiffDelta\n",
      "LibGit2.DiffFile\n",
      "LibGit2.DiffOptionsStruct\n",
      "LibGit2.Error.ErrorStruct\n",
      "LibGit2.FetchHead\n",
      "LibGit2.FetchOptions\n",
      "LibGit2.GitCredential\n",
      "LibGit2.GitCredentialHelper\n",
      "LibGit2.IndexEntry\n",
      "LibGit2.IndexTime\n",
      "LibGit2.KnownHost\n",
      "LibGit2.MergeOptions\n",
      "LibGit2.ProxyOptions\n",
      "LibGit2.PushOptions\n",
      "LibGit2.RebaseOperation\n",
      "LibGit2.RebaseOptions\n",
      "LibGit2.RemoteCallbacks\n",
      "LibGit2.Signature\n",
      "LibGit2.SignatureStruct\n",
      "LibGit2.State\n",
      "LibGit2.StatusEntry\n",
      "LibGit2.StatusOptions\n",
      "LibGit2.StrArrayStruct\n",
      "LibGit2.TimeStruct\n",
      "LibGit2.TransferProgress\n",
      "LineNumberNode\n",
      "LinearAlgebra.AbstractRotation\n",
      "LinearAlgebra.Algorithm\n",
      "LinearAlgebra.Factorization\n",
      "LinearAlgebra.MulAddMul\n",
      "LinearAlgebra.UniformScaling\n",
      "MIME\n",
      "Markdown.Admonition\n",
      "Markdown.BlockQuote\n",
      "Markdown.Bold\n",
      "Markdown.Code\n",
      "Markdown.Config\n",
      "Markdown.Footnote\n",
      "Markdown.Header\n",
      "Markdown.HorizontalRule\n",
      "Markdown.Image\n",
      "Markdown.Italic\n",
      "Markdown.LaTeX\n",
      "Markdown.LineBreak\n",
      "Markdown.Link\n",
      "Markdown.List\n",
      "Markdown.MD\n",
      "Markdown.Paragraph\n",
      "Markdown.Table\n",
      "MbedTLS.CRT\n",
      "MbedTLS.Cipher\n",
      "MbedTLS.CipherInfo\n",
      "MbedTLS.Entropy\n",
      "MbedTLS.MDInfo\n",
      "MbedTLS.PKContext\n",
      "MbedTLS.RSA\n",
      "MbedTLS.SSLConfig\n",
      "MbedTLS.mbedtls_mpi\n",
      "MbedTLS.mbedtls_rsa_context\n",
      "Method\n",
      "Missing\n",
      "Module\n",
      "NamedTuple\n",
      "Nothing\n",
      "Number\n",
      "Pair\n",
      "Parsers.Format\n",
      "Parsers.Options\n",
      "Parsers.PosLen\n",
      "Parsers.Result\n",
      "Pkg.API.UndoSnapshot\n",
      "Pkg.API.UndoState\n",
      "Pkg.BinaryPlatforms.CompilerABI\n",
      "Pkg.MiniProgressBars.MiniProgressBar\n",
      "Pkg.REPLMode.ArgSpec\n",
      "Pkg.REPLMode.Command\n",
      "Pkg.REPLMode.CommandSpec\n",
      "Pkg.REPLMode.Option\n",
      "Pkg.REPLMode.OptionSpec\n",
      "Pkg.REPLMode.QString\n",
      "Pkg.REPLMode.Rev\n",
      "Pkg.REPLMode.Statement\n",
      "Pkg.REPLMode.Subdir\n",
      "Pkg.Resolve.FieldValue\n",
      "Pkg.Resolve.Fixed\n",
      "Pkg.Resolve.Graph\n",
      "Pkg.Resolve.GraphData\n",
      "Pkg.Resolve.MaxSumParams\n",
      "Pkg.Resolve.Messages\n",
      "Pkg.Resolve.NodePerm\n",
      "Pkg.Resolve.ResolveLog\n",
      "Pkg.Resolve.ResolveLogEntry\n",
      "Pkg.Resolve.SolutionTrace\n",
      "Pkg.Resolve.Unsat\n",
      "Pkg.Resolve.VersionWeight\n",
      "Pkg.Types.Context\n",
      "Pkg.Types.EnvCache\n",
      "Pkg.Types.GitRepo\n",
      "Pkg.Types.Manifest\n",
      "Pkg.Types.PackageEntry\n",
      "Pkg.Types.PackageInfo\n",
      "Pkg.Types.PackageSpec\n",
      "Pkg.Types.Project\n",
      "Pkg.Types.ProjectInfo\n",
      "Pkg.Types.RegistrySpec\n",
      "Pkg.Types.Stage1\n",
      "Pkg.Types.VersionBound\n",
      "Pkg.Types.VersionRange\n",
      "Pkg.Types.VersionSpec\n",
      "Printf.Format\n",
      "Printf.Spec\n",
      "Profile.ProfileFormat\n",
      "Profile.StackFrameTree\n",
      "QuoteNode\n",
      "REPL.AbstractREPL\n",
      "REPL.LineEdit.CompletionProvider\n",
      "REPL.LineEdit.HistoryProvider\n",
      "REPL.LineEdit.InputAreaState\n",
      "REPL.LineEdit.KeyAlias\n",
      "REPL.LineEdit.MIState\n",
      "REPL.LineEdit.ModeState\n",
      "REPL.LineEdit.TextInterface\n",
      "REPL.Message\n",
      "REPL.Options\n",
      "REPL.REPLBackend\n",
      "REPL.REPLBackendRef\n",
      "REPL.REPLCompletions.Completion\n",
      "REPL.TerminalMenus.AbstractConfig\n",
      "REPL.TerminalMenus.AbstractMenu\n",
      "Random.AbstractRNG\n",
      "Random.DSFMT.DSFMT_state\n",
      "Random.DSFMT.GF2X\n",
      "Random.FloatInterval\n",
      "Random.Sampler\n",
      "Random.UniformBits\n",
      "RawFD\n",
      "Ref\n",
      "RoundingMode\n",
      "SHA.HMAC_CTX\n",
      "SHA.SHA_CTX\n",
      "Serialization.AbstractSerializer\n",
      "Sockets.IPAddr\n",
      "Sockets.InetAddr\n",
      "Some\n",
      "SuiteSparse.CHOLMOD.SuiteSparseStruct\n",
      "Symbol\n",
      "Tar.Header\n",
      "Task\n",
      "Test.AbstractTestSet\n",
      "Test.ExecutionResult\n",
      "Test.GenericOrder\n",
      "Test.Ignored\n",
      "Test.LogRecord\n",
      "Test.Result\n",
      "Text\n",
      "Timer\n",
      "Tuple\n",
      "Type\n",
      "TypeVar\n",
      "UndefInitializer\n",
      "Val\n",
      "Vararg\n",
      "VecElement\n",
      "VersionNumber\n",
      "WeakRef\n",
      "ZMQ.Context\n",
      "ZMQ.Socket\n",
      "ZMQ._Message\n"
     ]
    }
   ],
   "source": [
    "for t in subtypes(Any)\n",
    "    println(t)\n",
    "end"
   ]
  },
  {
   "cell_type": "markdown",
   "metadata": {},
   "source": [
    "## Investigating Types Ourselves"
   ]
  },
  {
   "cell_type": "code",
   "execution_count": 8,
   "metadata": {},
   "outputs": [
    {
     "data": {
      "text/plain": [
       "showtypetree (generic function with 2 methods)"
      ]
     },
     "execution_count": 8,
     "metadata": {},
     "output_type": "execute_result"
    }
   ],
   "source": [
    "function showtypetree(T, level = 0)\n",
    "    println(\"\\t\" ^ level, T)\n",
    "    for t in subtypes(T)\n",
    "        if length(subtypes(T)) > 0\n",
    "            showtypetree(t, level+1)\n",
    "        end\n",
    "    end\n",
    "end"
   ]
  },
  {
   "cell_type": "code",
   "execution_count": 9,
   "metadata": {},
   "outputs": [
    {
     "name": "stdout",
     "output_type": "stream",
     "text": [
      "Number\n",
      "\tComplex\n",
      "\tReal\n",
      "\t\tAbstractFloat\n",
      "\t\t\tBigFloat\n",
      "\t\t\tFloat16\n",
      "\t\t\tFloat32\n",
      "\t\t\tFloat64\n",
      "\t\tAbstractIrrational\n",
      "\t\t\tIrrational\n",
      "\t\tInteger\n",
      "\t\t\tBool\n",
      "\t\t\tSigned\n",
      "\t\t\t\tBigInt\n",
      "\t\t\t\tInt128\n",
      "\t\t\t\tInt16\n",
      "\t\t\t\tInt32\n",
      "\t\t\t\tInt64\n",
      "\t\t\t\tInt8\n",
      "\t\t\tUnsigned\n",
      "\t\t\t\tUInt128\n",
      "\t\t\t\tUInt16\n",
      "\t\t\t\tUInt32\n",
      "\t\t\t\tUInt64\n",
      "\t\t\t\tUInt8\n",
      "\t\tRational\n"
     ]
    }
   ],
   "source": [
    "showtypetree(Number)"
   ]
  },
  {
   "cell_type": "markdown",
   "metadata": {},
   "source": [
    "---\n",
    "## Specifying and thinking about the type of variables"
   ]
  },
  {
   "cell_type": "code",
   "execution_count": 10,
   "metadata": {},
   "outputs": [
    {
     "data": {
      "text/plain": [
       "4-element Vector{Int64}:\n",
       " 1\n",
       " 2\n",
       " 3\n",
       " 4"
      ]
     },
     "execution_count": 10,
     "metadata": {},
     "output_type": "execute_result"
    }
   ],
   "source": [
    "a = Array{Int64}(1:4) # think : floating"
   ]
  },
  {
   "cell_type": "code",
   "execution_count": 11,
   "metadata": {},
   "outputs": [
    {
     "data": {
      "text/plain": [
       "4-element Vector{Float64}:\n",
       " 1.0\n",
       " 2.0\n",
       " 3.0\n",
       " 4.0"
      ]
     },
     "execution_count": 11,
     "metadata": {},
     "output_type": "execute_result"
    }
   ],
   "source": [
    "a = Array{Float64}(1:4)"
   ]
  },
  {
   "cell_type": "code",
   "execution_count": 12,
   "metadata": {},
   "outputs": [
    {
     "data": {
      "text/plain": [
       "4-element Vector{String}:\n",
       " \"1.0\"\n",
       " \"2.0\"\n",
       " \"3.0\"\n",
       " \"4.0\""
      ]
     },
     "execution_count": 12,
     "metadata": {},
     "output_type": "execute_result"
    }
   ],
   "source": [
    "a = string.(a)"
   ]
  },
  {
   "cell_type": "markdown",
   "metadata": {},
   "source": [
    "---\n",
    "## Specifying and thinking about the type of variables (for a function)"
   ]
  },
  {
   "cell_type": "code",
   "execution_count": 13,
   "metadata": {},
   "outputs": [
    {
     "data": {
      "text/plain": [
       "f (generic function with 1 method)"
      ]
     },
     "execution_count": 13,
     "metadata": {},
     "output_type": "execute_result"
    }
   ],
   "source": [
    "function f(x::Float64, y::Float64)\n",
    "    return x+y\n",
    "end"
   ]
  },
  {
   "cell_type": "code",
   "execution_count": 14,
   "metadata": {},
   "outputs": [
    {
     "data": {
      "text/plain": [
       "3.0"
      ]
     },
     "execution_count": 14,
     "metadata": {},
     "output_type": "execute_result"
    }
   ],
   "source": [
    "f(1.0,2.0)"
   ]
  },
  {
   "cell_type": "markdown",
   "metadata": {},
   "source": [
    "### Error"
   ]
  },
  {
   "cell_type": "code",
   "execution_count": 15,
   "metadata": {},
   "outputs": [],
   "source": [
    "# f(1,2)"
   ]
  },
  {
   "cell_type": "markdown",
   "metadata": {},
   "source": [
    "## Imortant of thinking types"
   ]
  },
  {
   "cell_type": "code",
   "execution_count": 16,
   "metadata": {},
   "outputs": [
    {
     "data": {
      "text/plain": [
       "t1 (generic function with 1 method)"
      ]
     },
     "execution_count": 16,
     "metadata": {},
     "output_type": "execute_result"
    }
   ],
   "source": [
    "function t1(n)\n",
    "    s = 0\n",
    "    for i in 1:n\n",
    "        s += s/i\n",
    "        # println(s)\n",
    "    end\n",
    "end"
   ]
  },
  {
   "cell_type": "code",
   "execution_count": 17,
   "metadata": {},
   "outputs": [
    {
     "name": "stdout",
     "output_type": "stream",
     "text": [
      "  0.004996 seconds\n"
     ]
    }
   ],
   "source": [
    "@time t1(10000000)"
   ]
  },
  {
   "cell_type": "code",
   "execution_count": 18,
   "metadata": {},
   "outputs": [
    {
     "name": "stdout",
     "output_type": "stream",
     "text": [
      "  5.215563 seconds\n"
     ]
    }
   ],
   "source": [
    "@time t1(10^10)"
   ]
  },
  {
   "cell_type": "code",
   "execution_count": 19,
   "metadata": {},
   "outputs": [
    {
     "data": {
      "text/plain": [
       "t2 (generic function with 1 method)"
      ]
     },
     "execution_count": 19,
     "metadata": {},
     "output_type": "execute_result"
    }
   ],
   "source": [
    "function t2(n)\n",
    "    s = 0.0\n",
    "    for i in 1:n\n",
    "        s += s/i\n",
    "    end\n",
    "end"
   ]
  },
  {
   "cell_type": "code",
   "execution_count": 20,
   "metadata": {},
   "outputs": [
    {
     "name": "stdout",
     "output_type": "stream",
     "text": [
      "  0.000000 seconds\n"
     ]
    }
   ],
   "source": [
    "@time t2(10000000)"
   ]
  },
  {
   "cell_type": "code",
   "execution_count": 21,
   "metadata": {},
   "outputs": [
    {
     "name": "stdout",
     "output_type": "stream",
     "text": [
      "  0.000002 seconds\n"
     ]
    }
   ],
   "source": [
    "@time t2(10^10)"
   ]
  },
  {
   "cell_type": "markdown",
   "metadata": {},
   "source": [
    "---\n",
    "## Creating new types\n",
    "### abstract type"
   ]
  },
  {
   "cell_type": "code",
   "execution_count": 22,
   "metadata": {},
   "outputs": [],
   "source": [
    "abstract type MyAbstractType end"
   ]
  },
  {
   "cell_type": "markdown",
   "metadata": {},
   "source": [
    "### a concrete type with different types inside"
   ]
  },
  {
   "cell_type": "code",
   "execution_count": 23,
   "metadata": {},
   "outputs": [],
   "source": [
    "struct MyType1 <: MyAbstractType\n",
    "    foo\n",
    "    bar::Int\n",
    "end"
   ]
  },
  {
   "cell_type": "code",
   "execution_count": 24,
   "metadata": {},
   "outputs": [
    {
     "data": {
      "text/plain": [
       "1-element Vector{Any}:\n",
       " MyType1"
      ]
     },
     "execution_count": 24,
     "metadata": {},
     "output_type": "execute_result"
    }
   ],
   "source": [
    "subtypes(MyAbstractType)"
   ]
  },
  {
   "cell_type": "code",
   "execution_count": 25,
   "metadata": {},
   "outputs": [
    {
     "data": {
      "text/plain": [
       "MyType1(\"Hello\", 10)"
      ]
     },
     "execution_count": 25,
     "metadata": {},
     "output_type": "execute_result"
    }
   ],
   "source": [
    "x = MyType1(\"Hello\",10)"
   ]
  },
  {
   "cell_type": "code",
   "execution_count": 26,
   "metadata": {},
   "outputs": [
    {
     "data": {
      "text/plain": [
       "\"Hello\""
      ]
     },
     "execution_count": 26,
     "metadata": {},
     "output_type": "execute_result"
    }
   ],
   "source": [
    "x.foo"
   ]
  },
  {
   "cell_type": "code",
   "execution_count": 27,
   "metadata": {},
   "outputs": [
    {
     "data": {
      "text/plain": [
       "10"
      ]
     },
     "execution_count": 27,
     "metadata": {},
     "output_type": "execute_result"
    }
   ],
   "source": [
    "x.bar"
   ]
  },
  {
   "cell_type": "code",
   "execution_count": 29,
   "metadata": {},
   "outputs": [],
   "source": [
    "# x.foo = 3.0 # type MyType1 is immutable"
   ]
  },
  {
   "cell_type": "markdown",
   "metadata": {},
   "source": [
    "## To be mutable"
   ]
  },
  {
   "cell_type": "code",
   "execution_count": 30,
   "metadata": {},
   "outputs": [],
   "source": [
    "mutable struct semester <: MyAbstractType\n",
    "    course\n",
    "    mark::Float64\n",
    "end"
   ]
  },
  {
   "cell_type": "markdown",
   "metadata": {},
   "source": [
    "### Testing the new type"
   ]
  },
  {
   "cell_type": "code",
   "execution_count": 31,
   "metadata": {},
   "outputs": [
    {
     "data": {
      "text/plain": [
       "semester(\"math\", 90.5)"
      ]
     },
     "execution_count": 31,
     "metadata": {},
     "output_type": "execute_result"
    }
   ],
   "source": [
    "john = semester(\"math\",90.5)"
   ]
  },
  {
   "cell_type": "code",
   "execution_count": 32,
   "metadata": {},
   "outputs": [
    {
     "data": {
      "text/plain": [
       "\"math\""
      ]
     },
     "execution_count": 32,
     "metadata": {},
     "output_type": "execute_result"
    }
   ],
   "source": [
    "john.course"
   ]
  },
  {
   "cell_type": "code",
   "execution_count": 33,
   "metadata": {},
   "outputs": [
    {
     "data": {
      "text/plain": [
       "90.5"
      ]
     },
     "execution_count": 33,
     "metadata": {},
     "output_type": "execute_result"
    }
   ],
   "source": [
    "john.mark"
   ]
  },
  {
   "cell_type": "code",
   "execution_count": 34,
   "metadata": {},
   "outputs": [
    {
     "data": {
      "text/plain": [
       "88.0"
      ]
     },
     "execution_count": 34,
     "metadata": {},
     "output_type": "execute_result"
    }
   ],
   "source": [
    "john.mark = 88.0"
   ]
  },
  {
   "cell_type": "code",
   "execution_count": 35,
   "metadata": {},
   "outputs": [
    {
     "data": {
      "text/plain": [
       "semester(\"math\", 88.0)"
      ]
     },
     "execution_count": 35,
     "metadata": {},
     "output_type": "execute_result"
    }
   ],
   "source": [
    "john"
   ]
  },
  {
   "cell_type": "markdown",
   "metadata": {},
   "source": [
    "## Specifying the types in the type elements"
   ]
  },
  {
   "cell_type": "code",
   "execution_count": 36,
   "metadata": {},
   "outputs": [],
   "source": [
    "mutable struct MyType2 <: MyAbstractType\n",
    "    AA::Int64\n",
    "    BB::String\n",
    "end"
   ]
  },
  {
   "cell_type": "code",
   "execution_count": 37,
   "metadata": {},
   "outputs": [
    {
     "data": {
      "text/plain": [
       "MyType2(1, \"a\")"
      ]
     },
     "execution_count": 37,
     "metadata": {},
     "output_type": "execute_result"
    }
   ],
   "source": [
    "xx = MyType2(1,\"a\")"
   ]
  },
  {
   "cell_type": "code",
   "execution_count": 39,
   "metadata": {},
   "outputs": [],
   "source": [
    "# xx = MyType2(1.2,\"a\") # InexactError : Int64(1.2)"
   ]
  },
  {
   "cell_type": "markdown",
   "metadata": {},
   "source": [
    "---\n",
    "## Simple Application (1)"
   ]
  },
  {
   "cell_type": "code",
   "execution_count": 40,
   "metadata": {},
   "outputs": [],
   "source": [
    "struct Velocity\n",
    "    u::Float64\n",
    "    v::Float64\n",
    "end"
   ]
  },
  {
   "cell_type": "code",
   "execution_count": 41,
   "metadata": {},
   "outputs": [
    {
     "data": {
      "text/plain": [
       "DataType"
      ]
     },
     "execution_count": 41,
     "metadata": {},
     "output_type": "execute_result"
    }
   ],
   "source": [
    "typeof(Velocity)"
   ]
  },
  {
   "cell_type": "code",
   "execution_count": 43,
   "metadata": {},
   "outputs": [
    {
     "data": {
      "text/plain": [
       "speed (generic function with 1 method)"
      ]
     },
     "execution_count": 43,
     "metadata": {},
     "output_type": "execute_result"
    }
   ],
   "source": [
    "function speed(vel::Velocity)\n",
    "    sqrt(vel.u^2 + vel.v^2)\n",
    "end"
   ]
  },
  {
   "cell_type": "code",
   "execution_count": 44,
   "metadata": {},
   "outputs": [
    {
     "data": {
      "text/plain": [
       "Velocity(1.0, 2.0)"
      ]
     },
     "execution_count": 44,
     "metadata": {},
     "output_type": "execute_result"
    }
   ],
   "source": [
    "v = Velocity(1.0,2.0)"
   ]
  },
  {
   "cell_type": "code",
   "execution_count": 45,
   "metadata": {},
   "outputs": [
    {
     "data": {
      "text/plain": [
       "2.23606797749979"
      ]
     },
     "execution_count": 45,
     "metadata": {},
     "output_type": "execute_result"
    }
   ],
   "source": [
    "speed(v)"
   ]
  },
  {
   "cell_type": "markdown",
   "metadata": {},
   "source": [
    "---\n",
    "## Simple Application (2)"
   ]
  },
  {
   "cell_type": "code",
   "execution_count": 47,
   "metadata": {},
   "outputs": [],
   "source": [
    "mutable struct NTD_piece\n",
    "    NT1000::Int64\n",
    "    NT500::Int64\n",
    "    NT100::Int64\n",
    "    NT50::Int64\n",
    "    NT10::Int64\n",
    "    NT5::Int64\n",
    "    NT1::Int64\n",
    "end"
   ]
  },
  {
   "cell_type": "code",
   "execution_count": 48,
   "metadata": {},
   "outputs": [
    {
     "data": {
      "text/plain": [
       "DataType"
      ]
     },
     "execution_count": 48,
     "metadata": {},
     "output_type": "execute_result"
    }
   ],
   "source": [
    "typeof(NTD_piece)"
   ]
  },
  {
   "cell_type": "code",
   "execution_count": 70,
   "metadata": {},
   "outputs": [
    {
     "data": {
      "text/plain": [
       "Any"
      ]
     },
     "execution_count": 70,
     "metadata": {},
     "output_type": "execute_result"
    }
   ],
   "source": [
    "supertype(NTD_piece)"
   ]
  },
  {
   "cell_type": "code",
   "execution_count": 64,
   "metadata": {},
   "outputs": [
    {
     "data": {
      "text/plain": [
       "total_money (generic function with 1 method)"
      ]
     },
     "execution_count": 64,
     "metadata": {},
     "output_type": "execute_result"
    }
   ],
   "source": [
    "function total_money(M::NTD_piece)\n",
    "    M.NT1000*1000+\n",
    "    M.NT500*500+\n",
    "    M.NT100*100+\n",
    "    M.NT50*50+\n",
    "    M.NT10*10+\n",
    "    M.NT5*5+\n",
    "    M.NT1*1\n",
    "end"
   ]
  },
  {
   "cell_type": "code",
   "execution_count": 65,
   "metadata": {},
   "outputs": [
    {
     "data": {
      "text/plain": [
       "NTD_piece(1, 2, 3, 4, 5, 6, 7)"
      ]
     },
     "execution_count": 65,
     "metadata": {},
     "output_type": "execute_result"
    }
   ],
   "source": [
    "nt = NTD_piece(1,2,3,4,5,6,7)"
   ]
  },
  {
   "cell_type": "code",
   "execution_count": 66,
   "metadata": {},
   "outputs": [
    {
     "data": {
      "text/plain": [
       "2587"
      ]
     },
     "execution_count": 66,
     "metadata": {},
     "output_type": "execute_result"
    }
   ],
   "source": [
    "total_money(nt)"
   ]
  },
  {
   "cell_type": "code",
   "execution_count": 67,
   "metadata": {},
   "outputs": [
    {
     "data": {
      "text/plain": [
       "10"
      ]
     },
     "execution_count": 67,
     "metadata": {},
     "output_type": "execute_result"
    }
   ],
   "source": [
    "nt.NT1000 = 10"
   ]
  },
  {
   "cell_type": "code",
   "execution_count": 68,
   "metadata": {},
   "outputs": [
    {
     "data": {
      "text/plain": [
       "NTD_piece(10, 2, 3, 4, 5, 6, 7)"
      ]
     },
     "execution_count": 68,
     "metadata": {},
     "output_type": "execute_result"
    }
   ],
   "source": [
    "nt"
   ]
  },
  {
   "cell_type": "code",
   "execution_count": 69,
   "metadata": {},
   "outputs": [
    {
     "data": {
      "text/plain": [
       "11587"
      ]
     },
     "execution_count": 69,
     "metadata": {},
     "output_type": "execute_result"
    }
   ],
   "source": [
    "total_money(nt)"
   ]
  },
  {
   "cell_type": "code",
   "execution_count": null,
   "metadata": {},
   "outputs": [],
   "source": []
  },
  {
   "cell_type": "code",
   "execution_count": null,
   "metadata": {},
   "outputs": [],
   "source": []
  },
  {
   "cell_type": "code",
   "execution_count": null,
   "metadata": {},
   "outputs": [],
   "source": []
  },
  {
   "cell_type": "markdown",
   "metadata": {},
   "source": [
    "---\n",
    "# Homework 10"
   ]
  },
  {
   "cell_type": "markdown",
   "metadata": {},
   "source": [
    "## (30%) Find out the “Dict” data type is belong to each family, and print out all members of the family using the “showtypetree” function that we created."
   ]
  },
  {
   "cell_type": "code",
   "execution_count": 135,
   "metadata": {},
   "outputs": [
    {
     "data": {
      "text/plain": [
       "AbstractDict"
      ]
     },
     "execution_count": 135,
     "metadata": {},
     "output_type": "execute_result"
    }
   ],
   "source": [
    "supertype(Dict)"
   ]
  },
  {
   "cell_type": "code",
   "execution_count": 136,
   "metadata": {},
   "outputs": [
    {
     "data": {
      "text/plain": [
       "7-element Vector{Any}:\n",
       " Base.EnvDict\n",
       " Base.ImmutableDict\n",
       " Base.Iterators.Pairs\n",
       " Dict\n",
       " IdDict\n",
       " Test.GenericDict\n",
       " WeakKeyDict"
      ]
     },
     "execution_count": 136,
     "metadata": {},
     "output_type": "execute_result"
    }
   ],
   "source": [
    "subtypes(supertype(Dict))"
   ]
  },
  {
   "cell_type": "code",
   "execution_count": 137,
   "metadata": {},
   "outputs": [
    {
     "data": {
      "text/plain": [
       "(AbstractDict, Any)"
      ]
     },
     "execution_count": 137,
     "metadata": {},
     "output_type": "execute_result"
    }
   ],
   "source": [
    "supertypes(supertype(Dict))"
   ]
  },
  {
   "cell_type": "code",
   "execution_count": 82,
   "metadata": {},
   "outputs": [
    {
     "name": "stdout",
     "output_type": "stream",
     "text": [
      "AbstractDict\n",
      "\tBase.EnvDict\n",
      "\tBase.ImmutableDict\n",
      "\tBase.Iterators.Pairs\n",
      "\tDict\n",
      "\tIdDict\n",
      "\tTest.GenericDict\n",
      "\tWeakKeyDict\n"
     ]
    }
   ],
   "source": [
    "showtypetree(supertype(Dict))"
   ]
  },
  {
   "cell_type": "markdown",
   "metadata": {},
   "source": [
    "## (50%) Create a function by specifying the type of the input x and n to calculate the equation given in below:\n",
    "$f(x) = \\sum_{i=1}^{n} {1\\over{x^i}}$ \n",
    "\n",
    "In the function, calculate $f(x)$ until the change of $f(x)$ is smaller than $10^{-6}$. Try your best to write a faster code. (Use “@time” to check your code performance) \n"
   ]
  },
  {
   "cell_type": "code",
   "execution_count": 139,
   "metadata": {},
   "outputs": [
    {
     "data": {
      "text/plain": [
       "sum_x (generic function with 1 method)"
      ]
     },
     "execution_count": 139,
     "metadata": {},
     "output_type": "execute_result"
    }
   ],
   "source": [
    "function sum_x(x,n)\n",
    "    f = 0\n",
    "    change_of_f = (x^1)^-1 - f\n",
    "    sum_count = 0\n",
    "    for i in 1:n\n",
    "        if change_of_f >= 10^-6\n",
    "            f += (x^i)^-1\n",
    "            sum_count += 1\n",
    "            if i >= 2\n",
    "                change_of_f = abs((x^(i))^-1 - (x^(i-1))^-1)\n",
    "            end\n",
    "        else\n",
    "            break\n",
    "        end\n",
    "    end\n",
    "    println(\"The summation is \",f,\". (sum from i = 1 to i = \",sum_count,\")\")\n",
    "end"
   ]
  },
  {
   "cell_type": "code",
   "execution_count": 141,
   "metadata": {},
   "outputs": [
    {
     "name": "stdout",
     "output_type": "stream",
     "text": [
      "The summation is 0.9999990463256836. (sum from i = 1 to i = 20)\n",
      "  0.000383 seconds (54 allocations: 2.281 KiB)\n"
     ]
    }
   ],
   "source": [
    "@time begin\n",
    "    sum_x(2,20)\n",
    "end"
   ]
  }
 ],
 "metadata": {
  "kernelspec": {
   "display_name": "Julia 1.6.3",
   "language": "julia",
   "name": "julia-1.6"
  },
  "language_info": {
   "file_extension": ".jl",
   "mimetype": "application/julia",
   "name": "julia",
   "version": "1.6.3"
  },
  "orig_nbformat": 4
 },
 "nbformat": 4,
 "nbformat_minor": 2
}
