{
 "cells": [
  {
   "cell_type": "markdown",
   "metadata": {},
   "source": [
    "# Homework 11 : Julia_1101 Yu_Hao Tseng\n",
    "## PPT : 14_More_functions.pptx (p.1)\n",
    "### https://github.com/ja754969/Julia-Programming/blob/master/Homework/hw11_TsengYuHao.ipynb"
   ]
  },
  {
   "cell_type": "markdown",
   "metadata": {},
   "source": [
    "---\n",
    "# Practice"
   ]
  },
  {
   "cell_type": "markdown",
   "metadata": {},
   "source": [
    "---\n",
    "## More complex types of inputs for a function"
   ]
  },
  {
   "cell_type": "code",
   "execution_count": 2,
   "metadata": {},
   "outputs": [
    {
     "data": {
      "text/plain": [
       "f2 (generic function with 1 method)"
      ]
     },
     "execution_count": 2,
     "metadata": {},
     "output_type": "execute_result"
    }
   ],
   "source": [
    "function f2(x::Array{Float64}, y::Float64)\n",
    "    return x.+y\n",
    "end"
   ]
  },
  {
   "cell_type": "code",
   "execution_count": 3,
   "metadata": {},
   "outputs": [
    {
     "data": {
      "text/plain": [
       "2-element Vector{Float64}:\n",
       " 3.0\n",
       " 4.0"
      ]
     },
     "execution_count": 3,
     "metadata": {},
     "output_type": "execute_result"
    }
   ],
   "source": [
    "f2([1.0,2.0],2.0)"
   ]
  },
  {
   "cell_type": "code",
   "execution_count": 4,
   "metadata": {},
   "outputs": [],
   "source": [
    "# f2(1.0,2.0)"
   ]
  },
  {
   "cell_type": "code",
   "execution_count": 5,
   "metadata": {},
   "outputs": [
    {
     "data": {
      "text/plain": [
       "f3 (generic function with 1 method)"
      ]
     },
     "execution_count": 5,
     "metadata": {},
     "output_type": "execute_result"
    }
   ],
   "source": [
    "function f3(x::Array{Float64,2}, y::Float64)\n",
    "    return x.+y\n",
    "end"
   ]
  },
  {
   "cell_type": "code",
   "execution_count": 6,
   "metadata": {},
   "outputs": [
    {
     "data": {
      "text/plain": [
       "2×2 Matrix{Float64}:\n",
       " 3.0  4.0\n",
       " 4.0  6.0"
      ]
     },
     "execution_count": 6,
     "metadata": {},
     "output_type": "execute_result"
    }
   ],
   "source": [
    "f3([1.0 2.0;2.0 4.0],2.0)"
   ]
  },
  {
   "cell_type": "code",
   "execution_count": 7,
   "metadata": {},
   "outputs": [],
   "source": [
    "# f3([1.0,2.0],2.0)"
   ]
  },
  {
   "cell_type": "markdown",
   "metadata": {},
   "source": [
    "---\n",
    "## Some other way to build a function"
   ]
  },
  {
   "cell_type": "code",
   "execution_count": 8,
   "metadata": {},
   "outputs": [
    {
     "data": {
      "text/plain": [
       "g (generic function with 1 method)"
      ]
     },
     "execution_count": 8,
     "metadata": {},
     "output_type": "execute_result"
    }
   ],
   "source": [
    "g(x,y) = sqrt(x^2 + y^2)"
   ]
  },
  {
   "cell_type": "code",
   "execution_count": 9,
   "metadata": {},
   "outputs": [
    {
     "data": {
      "text/plain": [
       "f (generic function with 1 method)"
      ]
     },
     "execution_count": 9,
     "metadata": {},
     "output_type": "execute_result"
    }
   ],
   "source": [
    "f(x,y) = x+y"
   ]
  },
  {
   "cell_type": "markdown",
   "metadata": {},
   "source": [
    "---\n",
    "## Optional Arguments/Inputs (Mutiple methods)"
   ]
  },
  {
   "cell_type": "code",
   "execution_count": 10,
   "metadata": {},
   "outputs": [
    {
     "data": {
      "text/plain": [
       "xyz (generic function with 1 method)"
      ]
     },
     "execution_count": 10,
     "metadata": {},
     "output_type": "execute_result"
    }
   ],
   "source": [
    "function xyz(x,y,z)\n",
    "    println(\"$x, $y, $z\")\n",
    "end"
   ]
  },
  {
   "cell_type": "markdown",
   "metadata": {},
   "source": [
    "### Give z a default value"
   ]
  },
  {
   "cell_type": "code",
   "execution_count": 11,
   "metadata": {},
   "outputs": [
    {
     "data": {
      "text/plain": [
       "xyz (generic function with 2 methods)"
      ]
     },
     "execution_count": 11,
     "metadata": {},
     "output_type": "execute_result"
    }
   ],
   "source": [
    "function xyz(x,y,z=0)\n",
    "    println(\"$x, $y, $z\")\n",
    "end"
   ]
  },
  {
   "cell_type": "code",
   "execution_count": 12,
   "metadata": {},
   "outputs": [
    {
     "name": "stdout",
     "output_type": "stream",
     "text": [
      "1, 2, 0\n"
     ]
    }
   ],
   "source": [
    "xyz(1,2)"
   ]
  },
  {
   "cell_type": "code",
   "execution_count": 13,
   "metadata": {},
   "outputs": [
    {
     "name": "stdout",
     "output_type": "stream",
     "text": [
      "1, 2, 3\n"
     ]
    }
   ],
   "source": [
    "xyz(1,2,3)"
   ]
  },
  {
   "cell_type": "code",
   "execution_count": 14,
   "metadata": {},
   "outputs": [
    {
     "name": "stdout",
     "output_type": "stream",
     "text": [
      "search: \u001b[0m\u001b[1mx\u001b[22m\u001b[0m\u001b[1my\u001b[22m\u001b[0m\u001b[1mz\u001b[22m\n",
      "\n"
     ]
    },
    {
     "data": {
      "text/latex": [
       "No documentation found.\n",
       "\n",
       "\\texttt{xyz} is a \\texttt{Function}.\n",
       "\n",
       "\\begin{verbatim}\n",
       "# 2 methods for generic function \"xyz\":\n",
       "[1] xyz(x, y) in Main at In[11]:1\n",
       "[2] xyz(x, y, z) in Main at In[11]:1\n",
       "\\end{verbatim}\n"
      ],
      "text/markdown": [
       "No documentation found.\n",
       "\n",
       "`xyz` is a `Function`.\n",
       "\n",
       "```\n",
       "# 2 methods for generic function \"xyz\":\n",
       "[1] xyz(x, y) in Main at In[11]:1\n",
       "[2] xyz(x, y, z) in Main at In[11]:1\n",
       "```\n"
      ],
      "text/plain": [
       "  No documentation found.\n",
       "\n",
       "  \u001b[36mxyz\u001b[39m is a \u001b[36mFunction\u001b[39m.\n",
       "\n",
       "\u001b[36m  # 2 methods for generic function \"xyz\":\u001b[39m\n",
       "\u001b[36m  [1] xyz(x, y) in Main at In[11]:1\u001b[39m\n",
       "\u001b[36m  [2] xyz(x, y, z) in Main at In[11]:1\u001b[39m"
      ]
     },
     "execution_count": 14,
     "metadata": {},
     "output_type": "execute_result"
    }
   ],
   "source": [
    "?xyz"
   ]
  },
  {
   "cell_type": "markdown",
   "metadata": {},
   "source": [
    "### Building a function documentation"
   ]
  },
  {
   "cell_type": "code",
   "execution_count": 15,
   "metadata": {},
   "outputs": [
    {
     "data": {
      "text/plain": [
       "xyz"
      ]
     },
     "execution_count": 15,
     "metadata": {},
     "output_type": "execute_result"
    }
   ],
   "source": [
    "\"\"\"\n",
    "xyz(x,y,z)\n",
    "\n",
    "This is a two-method function : \n",
    "xyz(x, y)\n",
    "xyz(x, y, z=0); z=0 for a default\n",
    "\"\"\"\n",
    "function xyz(x, y, z=0)\n",
    "    println(\"$x, $y, $z\")\n",
    "end"
   ]
  },
  {
   "cell_type": "code",
   "execution_count": 16,
   "metadata": {},
   "outputs": [
    {
     "name": "stdout",
     "output_type": "stream",
     "text": [
      "search: \u001b[0m\u001b[1mx\u001b[22m\u001b[0m\u001b[1my\u001b[22m\u001b[0m\u001b[1mz\u001b[22m\n",
      "\n"
     ]
    },
    {
     "data": {
      "text/latex": [
       "xyz(x,y,z)\n",
       "\n",
       "This is a two-method function :  xyz(x, y) xyz(x, y, z=0); z=0 for a default\n",
       "\n"
      ],
      "text/markdown": [
       "xyz(x,y,z)\n",
       "\n",
       "This is a two-method function :  xyz(x, y) xyz(x, y, z=0); z=0 for a default\n"
      ],
      "text/plain": [
       "  xyz(x,y,z)\n",
       "\n",
       "  This is a two-method function : xyz(x, y) xyz(x, y, z=0); z=0 for a default"
      ]
     },
     "execution_count": 16,
     "metadata": {},
     "output_type": "execute_result"
    }
   ],
   "source": [
    "?xyz"
   ]
  },
  {
   "cell_type": "markdown",
   "metadata": {},
   "source": [
    "## Keyword arguments/inputs\n",
    "### To give the inputs of a function without \"sequent arrangement\" "
   ]
  },
  {
   "cell_type": "code",
   "execution_count": 17,
   "metadata": {},
   "outputs": [
    {
     "data": {
      "text/plain": [
       "f (generic function with 1 method)"
      ]
     },
     "execution_count": 17,
     "metadata": {},
     "output_type": "execute_result"
    }
   ],
   "source": [
    "function f(p, q ; r = 5, s = \"hi\")\n",
    "    println(\"p is $p\")\n",
    "    println(\"q is $q\")\n",
    "    return \"r => $r, s >= $s\"\n",
    "end"
   ]
  },
  {
   "cell_type": "code",
   "execution_count": 18,
   "metadata": {},
   "outputs": [
    {
     "name": "stdout",
     "output_type": "stream",
     "text": [
      "p is 1\n",
      "q is 2\n"
     ]
    },
    {
     "data": {
      "text/plain": [
       "\"r => 0, s >= 10\""
      ]
     },
     "execution_count": 18,
     "metadata": {},
     "output_type": "execute_result"
    }
   ],
   "source": [
    "f(1, 2, r=0, s=10)"
   ]
  },
  {
   "cell_type": "code",
   "execution_count": 19,
   "metadata": {},
   "outputs": [
    {
     "name": "stdout",
     "output_type": "stream",
     "text": [
      "p is 1\n",
      "q is 2\n"
     ]
    },
    {
     "data": {
      "text/plain": [
       "\"r => 10, s >= 0\""
      ]
     },
     "execution_count": 19,
     "metadata": {},
     "output_type": "execute_result"
    }
   ],
   "source": [
    "f(s=0, r=10, 1, 2)"
   ]
  },
  {
   "cell_type": "markdown",
   "metadata": {},
   "source": [
    "---\n",
    "## Functions with unfixed-number of inputs"
   ]
  },
  {
   "cell_type": "code",
   "execution_count": 20,
   "metadata": {},
   "outputs": [
    {
     "data": {
      "text/plain": [
       "fvar (generic function with 1 method)"
      ]
     },
     "execution_count": 20,
     "metadata": {},
     "output_type": "execute_result"
    }
   ],
   "source": [
    "function fvar(ins ...)\n",
    "    println(\"you gave $(length(ins)) inputs\")\n",
    "    for m in ins\n",
    "        println(\" input \",m)\n",
    "    end\n",
    "end"
   ]
  },
  {
   "cell_type": "code",
   "execution_count": 21,
   "metadata": {},
   "outputs": [
    {
     "name": "stdout",
     "output_type": "stream",
     "text": [
      "you gave 2 inputs\n",
      " input 128\n",
      " input 129\n"
     ]
    }
   ],
   "source": [
    "fvar(128,129)"
   ]
  },
  {
   "cell_type": "markdown",
   "metadata": {},
   "source": [
    "---\n",
    "## Create functions in a function"
   ]
  },
  {
   "cell_type": "code",
   "execution_count": 22,
   "metadata": {},
   "outputs": [
    {
     "data": {
      "text/plain": [
       "create_exponent_function (generic function with 1 method)"
      ]
     },
     "execution_count": 22,
     "metadata": {},
     "output_type": "execute_result"
    }
   ],
   "source": [
    "function create_exponent_function(x)\n",
    "    function newfunction(y)\n",
    "        return y^x\n",
    "    end\n",
    "end"
   ]
  },
  {
   "cell_type": "markdown",
   "metadata": {},
   "source": [
    "### Test the function we have just created (square)"
   ]
  },
  {
   "cell_type": "code",
   "execution_count": 23,
   "metadata": {},
   "outputs": [
    {
     "data": {
      "text/plain": [
       "(::var\"#newfunction#2\"{Int64}) (generic function with 1 method)"
      ]
     },
     "execution_count": 23,
     "metadata": {},
     "output_type": "execute_result"
    }
   ],
   "source": [
    "squarer = create_exponent_function(2)"
   ]
  },
  {
   "cell_type": "code",
   "execution_count": 24,
   "metadata": {},
   "outputs": [
    {
     "data": {
      "text/plain": [
       "16"
      ]
     },
     "execution_count": 24,
     "metadata": {},
     "output_type": "execute_result"
    }
   ],
   "source": [
    "squarer(4)"
   ]
  },
  {
   "cell_type": "markdown",
   "metadata": {},
   "source": [
    "### Test the function we have just created (cubic)"
   ]
  },
  {
   "cell_type": "code",
   "execution_count": 25,
   "metadata": {},
   "outputs": [
    {
     "data": {
      "text/plain": [
       "(::var\"#newfunction#2\"{Int64}) (generic function with 1 method)"
      ]
     },
     "execution_count": 25,
     "metadata": {},
     "output_type": "execute_result"
    }
   ],
   "source": [
    "cuber = create_exponent_function(3)"
   ]
  },
  {
   "cell_type": "code",
   "execution_count": 26,
   "metadata": {},
   "outputs": [
    {
     "data": {
      "text/plain": [
       "64"
      ]
     },
     "execution_count": 26,
     "metadata": {},
     "output_type": "execute_result"
    }
   ],
   "source": [
    "cuber(4)"
   ]
  },
  {
   "cell_type": "code",
   "execution_count": 27,
   "metadata": {},
   "outputs": [
    {
     "data": {
      "text/plain": [
       "3-element Vector{Int64}:\n",
       "  1\n",
       "  8\n",
       " 27"
      ]
     },
     "execution_count": 27,
     "metadata": {},
     "output_type": "execute_result"
    }
   ],
   "source": [
    "cuber.([1,2,3])"
   ]
  },
  {
   "cell_type": "markdown",
   "metadata": {},
   "source": [
    "---\n",
    "## vectors, streamlines\n",
    "### ndgrid.jl"
   ]
  },
  {
   "cell_type": "code",
   "execution_count": 28,
   "metadata": {},
   "outputs": [],
   "source": [
    "# include(\"ndgrid.jl\")"
   ]
  },
  {
   "cell_type": "code",
   "execution_count": 29,
   "metadata": {},
   "outputs": [],
   "source": [
    "x = Array(-3:0.1:3)\n",
    "y = Array(-5:0.1:5);"
   ]
  },
  {
   "cell_type": "code",
   "execution_count": 30,
   "metadata": {},
   "outputs": [
    {
     "data": {
      "text/plain": [
       "meshgrid_xy (generic function with 1 method)"
      ]
     },
     "execution_count": 30,
     "metadata": {},
     "output_type": "execute_result"
    }
   ],
   "source": [
    "function meshgrid_xy(x::Vector{Float64}, y::Vector{Float64})\n",
    "    x = sort(x) # arrange from left to right\n",
    "    y = sort(y,rev=true) # arrange from top to bottom \n",
    "    xx = Array{Float64}(zeros(length(y),length(x)))\n",
    "    yy = Array{Float64}(zeros(length(y),length(x)))\n",
    "    for yi = 1:length(y)\n",
    "        xx[yi,:] = x\n",
    "    end\n",
    "    for xi = length(x):-1:1\n",
    "        yy[:,xi] = y\n",
    "    end\n",
    "    return Array{Float64}(xx), Array{Float64}(yy)\n",
    "end"
   ]
  },
  {
   "cell_type": "code",
   "execution_count": 31,
   "metadata": {},
   "outputs": [
    {
     "data": {
      "text/plain": [
       "([-3.0 -2.9 … 2.9 3.0; -3.0 -2.9 … 2.9 3.0; … ; -3.0 -2.9 … 2.9 3.0; -3.0 -2.9 … 2.9 3.0], [5.0 5.0 … 5.0 5.0; 4.9 4.9 … 4.9 4.9; … ; -4.9 -4.9 … -4.9 -4.9; -5.0 -5.0 … -5.0 -5.0])"
      ]
     },
     "execution_count": 31,
     "metadata": {},
     "output_type": "execute_result"
    }
   ],
   "source": [
    "(xx, yy) = meshgrid_xy(x, y)"
   ]
  },
  {
   "cell_type": "code",
   "execution_count": 32,
   "metadata": {},
   "outputs": [],
   "source": [
    "# xx\n",
    "# yy"
   ]
  },
  {
   "cell_type": "code",
   "execution_count": 33,
   "metadata": {},
   "outputs": [],
   "source": [
    "using PyPlot"
   ]
  },
  {
   "cell_type": "code",
   "execution_count": 34,
   "metadata": {},
   "outputs": [
    {
     "data": {
      "image/png": "[encoded data removed]",
      "text/plain": [
       "Figure(PyObject <Figure size 640x480 with 1 Axes>)"
      ]
     },
     "metadata": {},
     "output_type": "display_data"
    },
    {
     "data": {
      "text/plain": [
       "(-3.0, 3.0, -5.0, 5.0)"
      ]
     },
     "execution_count": 34,
     "metadata": {},
     "output_type": "execute_result"
    }
   ],
   "source": [
    "Z = xx.*yy\n",
    "contourf(xx,yy,Z)\n",
    "axis(\"equal\")"
   ]
  },
  {
   "cell_type": "code",
   "execution_count": 35,
   "metadata": {},
   "outputs": [
    {
     "data": {
      "text/plain": [
       "101×61 Matrix{Float64}:\n",
       "  8.56954e-15   1.54594e-14   2.73363e-14  …   1.54594e-14   8.56954e-15\n",
       "  2.26014e-14   4.07727e-14   7.20969e-14      4.07727e-14   2.26014e-14\n",
       "  5.84045e-14   1.05361e-13   1.86306e-13      1.05361e-13   5.84045e-14\n",
       "  1.47871e-13   2.66757e-13   4.71698e-13      2.66757e-13   1.47871e-13\n",
       "  3.66806e-13   6.61714e-13   1.17009e-12      6.61714e-13   3.66806e-13\n",
       "  8.91454e-13   1.60817e-12   2.84368e-12  …   1.60817e-12   8.91454e-13\n",
       "  2.12257e-12   3.82908e-12   6.77084e-12      3.82908e-12   2.12257e-12\n",
       "  4.95123e-12   8.93196e-12   1.57941e-11      8.93196e-12   4.95123e-12\n",
       "  1.13147e-11   2.04116e-11   3.60932e-11      2.04116e-11   1.13147e-11\n",
       "  2.53305e-11   4.56959e-11   8.08025e-11      4.56959e-11   2.53305e-11\n",
       "  5.55518e-11   1.00215e-10   1.77206e-10  …   1.00215e-10   5.55518e-11\n",
       "  1.19343e-10   2.15293e-10   3.80695e-10      2.15293e-10   1.19343e-10\n",
       "  2.51143e-10   4.53059e-10   8.01129e-10      4.53059e-10   2.51143e-10\n",
       "  ⋮                                        ⋱                 ⋮\n",
       " -1.19343e-10  -2.15293e-10  -3.80695e-10     -2.15293e-10  -1.19343e-10\n",
       " -5.55518e-11  -1.00215e-10  -1.77206e-10  …  -1.00215e-10  -5.55518e-11\n",
       " -2.53305e-11  -4.56959e-11  -8.08025e-11     -4.56959e-11  -2.53305e-11\n",
       " -1.13147e-11  -2.04116e-11  -3.60932e-11     -2.04116e-11  -1.13147e-11\n",
       " -4.95123e-12  -8.93196e-12  -1.57941e-11     -8.93196e-12  -4.95123e-12\n",
       " -2.12257e-12  -3.82908e-12  -6.77084e-12     -3.82908e-12  -2.12257e-12\n",
       " -8.91454e-13  -1.60817e-12  -2.84368e-12  …  -1.60817e-12  -8.91454e-13\n",
       " -3.66806e-13  -6.61714e-13  -1.17009e-12     -6.61714e-13  -3.66806e-13\n",
       " -1.47871e-13  -2.66757e-13  -4.71698e-13     -2.66757e-13  -1.47871e-13\n",
       " -5.84045e-14  -1.05361e-13  -1.86306e-13     -1.05361e-13  -5.84045e-14\n",
       " -2.26014e-14  -4.07727e-14  -7.20969e-14     -4.07727e-14  -2.26014e-14\n",
       " -8.56954e-15  -1.54594e-14  -2.73363e-14  …  -1.54594e-14  -8.56954e-15"
      ]
     },
     "execution_count": 35,
     "metadata": {},
     "output_type": "execute_result"
    }
   ],
   "source": [
    "H = yy.*exp.(-xx.^2-yy.^2)"
   ]
  },
  {
   "cell_type": "code",
   "execution_count": null,
   "metadata": {},
   "outputs": [],
   "source": []
  },
  {
   "cell_type": "code",
   "execution_count": null,
   "metadata": {},
   "outputs": [],
   "source": []
  },
  {
   "cell_type": "code",
   "execution_count": null,
   "metadata": {},
   "outputs": [],
   "source": []
  },
  {
   "cell_type": "code",
   "execution_count": null,
   "metadata": {},
   "outputs": [],
   "source": []
  },
  {
   "cell_type": "markdown",
   "metadata": {},
   "source": [
    "# Homework 11"
   ]
  },
  {
   "cell_type": "markdown",
   "metadata": {},
   "source": []
  },
  {
   "cell_type": "code",
   "execution_count": null,
   "metadata": {},
   "outputs": [],
   "source": []
  },
  {
   "cell_type": "code",
   "execution_count": null,
   "metadata": {},
   "outputs": [],
   "source": []
  },
  {
   "cell_type": "code",
   "execution_count": null,
   "metadata": {},
   "outputs": [],
   "source": []
  },
  {
   "cell_type": "code",
   "execution_count": null,
   "metadata": {},
   "outputs": [],
   "source": []
  },
  {
   "cell_type": "code",
   "execution_count": null,
   "metadata": {},
   "outputs": [],
   "source": []
  }
 ],
 "metadata": {
  "kernelspec": {
   "display_name": "Julia 1.6.3",
   "language": "julia",
   "name": "julia-1.6"
  },
  "language_info": {
   "file_extension": ".jl",
   "mimetype": "application/julia",
   "name": "julia",
   "version": "1.6.3"
  },
  "orig_nbformat": 4
 },
 "nbformat": 4,
 "nbformat_minor": 2
}
