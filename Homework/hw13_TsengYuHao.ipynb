{
 "cells": [
  {
   "cell_type": "markdown",
   "metadata": {},
   "source": [
    "# Homework 13 : Julia_1101 Yu_Hao Tseng\n",
    "## PPT : 16_Mata-programming.pptx (p.1)\n",
    "### https://github.com/ja754969/Julia-Programming/blob/master/Homework/hw13_TsengYuHao.ipynb\n",
    "---"
   ]
  },
  {
   "cell_type": "markdown",
   "metadata": {},
   "source": [
    "# Practice\n",
    "---\n",
    "## Expression"
   ]
  },
  {
   "cell_type": "code",
   "execution_count": 1,
   "metadata": {},
   "outputs": [
    {
     "data": {
      "text/plain": [
       ":(2 + 2)"
      ]
     },
     "execution_count": 1,
     "metadata": {},
     "output_type": "execute_result"
    }
   ],
   "source": [
    ":(2+2)"
   ]
  },
  {
   "cell_type": "code",
   "execution_count": 2,
   "metadata": {},
   "outputs": [
    {
     "data": {
      "text/plain": [
       ":(2 + 2)"
      ]
     },
     "execution_count": 2,
     "metadata": {},
     "output_type": "execute_result"
    }
   ],
   "source": [
    "x = :(2+2)"
   ]
  },
  {
   "cell_type": "code",
   "execution_count": 3,
   "metadata": {},
   "outputs": [
    {
     "data": {
      "text/plain": [
       "Expr"
      ]
     },
     "execution_count": 3,
     "metadata": {},
     "output_type": "execute_result"
    }
   ],
   "source": [
    "typeof(x)"
   ]
  },
  {
   "cell_type": "code",
   "execution_count": 4,
   "metadata": {},
   "outputs": [
    {
     "data": {
      "text/plain": [
       "4"
      ]
     },
     "execution_count": 4,
     "metadata": {},
     "output_type": "execute_result"
    }
   ],
   "source": [
    "eval(x)"
   ]
  },
  {
   "cell_type": "code",
   "execution_count": 5,
   "metadata": {},
   "outputs": [
    {
     "data": {
      "text/plain": [
       ":(y = 2 + 2)"
      ]
     },
     "execution_count": 5,
     "metadata": {},
     "output_type": "execute_result"
    }
   ],
   "source": [
    "x = :(y=2+2)"
   ]
  },
  {
   "cell_type": "markdown",
   "metadata": {},
   "source": [
    "## Evaluating expressions\n",
    "### To run an remembered expression, use ```eval()```"
   ]
  },
  {
   "cell_type": "code",
   "execution_count": 7,
   "metadata": {},
   "outputs": [
    {
     "data": {
      "text/plain": [
       "4"
      ]
     },
     "execution_count": 7,
     "metadata": {},
     "output_type": "execute_result"
    }
   ],
   "source": [
    "eval(x)"
   ]
  },
  {
   "cell_type": "code",
   "execution_count": 8,
   "metadata": {},
   "outputs": [
    {
     "data": {
      "text/plain": [
       "4"
      ]
     },
     "execution_count": 8,
     "metadata": {},
     "output_type": "execute_result"
    }
   ],
   "source": [
    "y"
   ]
  },
  {
   "cell_type": "markdown",
   "metadata": {},
   "source": [
    "---\n",
    "## Some other ways to write expression\n",
    "### same as ```:(2+2)```"
   ]
  },
  {
   "cell_type": "code",
   "execution_count": 9,
   "metadata": {},
   "outputs": [
    {
     "data": {
      "text/plain": [
       "quote\n",
       "    #= In[9]:2 =#\n",
       "    2 + 2\n",
       "end"
      ]
     },
     "execution_count": 9,
     "metadata": {},
     "output_type": "execute_result"
    }
   ],
   "source": [
    "quote\n",
    "    2+2\n",
    "end"
   ]
  },
  {
   "cell_type": "markdown",
   "metadata": {},
   "source": [
    "### same as ```x = :(2+2)```"
   ]
  },
  {
   "cell_type": "code",
   "execution_count": 10,
   "metadata": {},
   "outputs": [
    {
     "data": {
      "text/plain": [
       "quote\n",
       "    #= In[10]:2 =#\n",
       "    2 + 2\n",
       "end"
      ]
     },
     "execution_count": 10,
     "metadata": {},
     "output_type": "execute_result"
    }
   ],
   "source": [
    "x = quote\n",
    "    2+2\n",
    "end"
   ]
  },
  {
   "cell_type": "code",
   "execution_count": 11,
   "metadata": {},
   "outputs": [
    {
     "data": {
      "text/plain": [
       "quote\n",
       "    #= In[11]:2 =#\n",
       "    for i = 1:10\n",
       "        #= In[11]:3 =#\n",
       "        println(i)\n",
       "    end\n",
       "end"
      ]
     },
     "execution_count": 11,
     "metadata": {},
     "output_type": "execute_result"
    }
   ],
   "source": [
    "quote\n",
    "    for i = 1:10\n",
    "        println(i)\n",
    "    end\n",
    "end"
   ]
  },
  {
   "cell_type": "code",
   "execution_count": 12,
   "metadata": {},
   "outputs": [
    {
     "data": {
      "text/plain": [
       "quote\n",
       "    #= In[12]:2 =#\n",
       "    for i = 1:10\n",
       "        #= In[12]:3 =#\n",
       "        println(i)\n",
       "    end\n",
       "end"
      ]
     },
     "execution_count": 12,
     "metadata": {},
     "output_type": "execute_result"
    }
   ],
   "source": [
    "z = quote\n",
    "    for i = 1:10\n",
    "        println(i)\n",
    "    end\n",
    "end"
   ]
  },
  {
   "cell_type": "code",
   "execution_count": 13,
   "metadata": {},
   "outputs": [
    {
     "data": {
      "text/plain": [
       ":(for i = 1:10\n",
       "      #= In[13]:3 =#\n",
       "      println(i)\n",
       "  end)"
      ]
     },
     "execution_count": 13,
     "metadata": {},
     "output_type": "execute_result"
    }
   ],
   "source": [
    "zz = :(\n",
    "    for i = 1:10\n",
    "        println(i)\n",
    "    end\n",
    "    )"
   ]
  },
  {
   "cell_type": "markdown",
   "metadata": {},
   "source": [
    "---"
   ]
  },
  {
   "cell_type": "code",
   "execution_count": 14,
   "metadata": {},
   "outputs": [
    {
     "name": "stdout",
     "output_type": "stream",
     "text": [
      "1\n",
      "2\n",
      "3\n",
      "4\n",
      "5\n",
      "6\n",
      "7\n",
      "8\n",
      "9\n",
      "10\n"
     ]
    }
   ],
   "source": [
    "eval(zz)"
   ]
  },
  {
   "cell_type": "markdown",
   "metadata": {},
   "source": [
    "---\n",
    "## Interpolating expressions"
   ]
  },
  {
   "cell_type": "code",
   "execution_count": 15,
   "metadata": {},
   "outputs": [
    {
     "data": {
      "text/plain": [
       "1"
      ]
     },
     "execution_count": 15,
     "metadata": {},
     "output_type": "execute_result"
    }
   ],
   "source": [
    "a = 1"
   ]
  },
  {
   "cell_type": "code",
   "execution_count": 17,
   "metadata": {},
   "outputs": [
    {
     "data": {
      "text/plain": [
       ":(1 + b)"
      ]
     },
     "execution_count": 17,
     "metadata": {},
     "output_type": "execute_result"
    }
   ],
   "source": [
    "ex = :($a + b) # interpolation of \"a\""
   ]
  },
  {
   "cell_type": "code",
   "execution_count": 18,
   "metadata": {},
   "outputs": [
    {
     "data": {
      "text/plain": [
       "quote\n",
       "    #= In[18]:3 =#\n",
       "    s = -1.0\n",
       "end"
      ]
     },
     "execution_count": 18,
     "metadata": {},
     "output_type": "execute_result"
    }
   ],
   "source": [
    "# Interpolation of \"cos(pi)\"\n",
    "ex2 = quote\n",
    "    s = $(cos(pi))\n",
    "end"
   ]
  },
  {
   "cell_type": "markdown",
   "metadata": {},
   "source": [
    "---\n",
    "## Application of metaprogramming"
   ]
  },
  {
   "cell_type": "code",
   "execution_count": 19,
   "metadata": {},
   "outputs": [
    {
     "data": {
      "text/plain": [
       ":(m1 = 1)"
      ]
     },
     "execution_count": 19,
     "metadata": {},
     "output_type": "execute_result"
    }
   ],
   "source": [
    ":(m1 = 1)"
   ]
  },
  {
   "cell_type": "code",
   "execution_count": 26,
   "metadata": {},
   "outputs": [
    {
     "data": {
      "text/plain": [
       ":(mk = k)"
      ]
     },
     "metadata": {},
     "output_type": "display_data"
    },
    {
     "data": {
      "text/plain": [
       ":(mk = k)"
      ]
     },
     "metadata": {},
     "output_type": "display_data"
    },
    {
     "data": {
      "text/plain": [
       ":(mk = k)"
      ]
     },
     "metadata": {},
     "output_type": "display_data"
    },
    {
     "data": {
      "text/plain": [
       ":(mk = k)"
      ]
     },
     "metadata": {},
     "output_type": "display_data"
    }
   ],
   "source": [
    "for k = 1:4\n",
    "    display(:(mk=k))\n",
    "end"
   ]
  },
  {
   "cell_type": "code",
   "execution_count": 27,
   "metadata": {},
   "outputs": [
    {
     "data": {
      "text/plain": [
       ":(mk = 1)"
      ]
     },
     "metadata": {},
     "output_type": "display_data"
    },
    {
     "data": {
      "text/plain": [
       ":(mk = 2)"
      ]
     },
     "metadata": {},
     "output_type": "display_data"
    },
    {
     "data": {
      "text/plain": [
       ":(mk = 3)"
      ]
     },
     "metadata": {},
     "output_type": "display_data"
    },
    {
     "data": {
      "text/plain": [
       ":(mk = 4)"
      ]
     },
     "metadata": {},
     "output_type": "display_data"
    }
   ],
   "source": [
    "for k = 1:4\n",
    "    display(:(mk=$k))\n",
    "end"
   ]
  },
  {
   "cell_type": "code",
   "execution_count": 29,
   "metadata": {},
   "outputs": [
    {
     "data": {
      "text/plain": [
       "\"m1\""
      ]
     },
     "execution_count": 29,
     "metadata": {},
     "output_type": "execute_result"
    }
   ],
   "source": [
    "string(\"m\",1) # combine the string"
   ]
  },
  {
   "cell_type": "code",
   "execution_count": 32,
   "metadata": {},
   "outputs": [
    {
     "data": {
      "text/plain": [
       ":(\"m1\" = 1)"
      ]
     },
     "metadata": {},
     "output_type": "display_data"
    },
    {
     "data": {
      "text/plain": [
       ":(\"m2\" = 2)"
      ]
     },
     "metadata": {},
     "output_type": "display_data"
    },
    {
     "data": {
      "text/plain": [
       ":(\"m3\" = 3)"
      ]
     },
     "metadata": {},
     "output_type": "display_data"
    },
    {
     "data": {
      "text/plain": [
       ":(\"m4\" = 4)"
      ]
     },
     "metadata": {},
     "output_type": "display_data"
    }
   ],
   "source": [
    "for k = 1:4\n",
    "    display(:( $(string(\"m\",k))=$k ))\n",
    "end"
   ]
  },
  {
   "cell_type": "code",
   "execution_count": 34,
   "metadata": {},
   "outputs": [
    {
     "data": {
      "text/plain": [
       ":(m1 = 1)"
      ]
     },
     "metadata": {},
     "output_type": "display_data"
    },
    {
     "data": {
      "text/plain": [
       ":(m2 = 2)"
      ]
     },
     "metadata": {},
     "output_type": "display_data"
    },
    {
     "data": {
      "text/plain": [
       ":(m3 = 3)"
      ]
     },
     "metadata": {},
     "output_type": "display_data"
    },
    {
     "data": {
      "text/plain": [
       ":(m4 = 4)"
      ]
     },
     "metadata": {},
     "output_type": "display_data"
    }
   ],
   "source": [
    "for k = 1:4\n",
    "    display(:( $(Symbol(string(\"m\",k))) = $k ))\n",
    "end"
   ]
  },
  {
   "cell_type": "markdown",
   "metadata": {},
   "source": [
    "---\n",
    "### Running the expression using \"eval\""
   ]
  },
  {
   "cell_type": "code",
   "execution_count": 35,
   "metadata": {},
   "outputs": [],
   "source": [
    "for k = 1:4\n",
    "    eval(:( $(Symbol(string(\"m\",k))) = $k ))\n",
    "end"
   ]
  },
  {
   "cell_type": "code",
   "execution_count": 36,
   "metadata": {},
   "outputs": [
    {
     "data": {
      "text/plain": [
       "1"
      ]
     },
     "execution_count": 36,
     "metadata": {},
     "output_type": "execute_result"
    }
   ],
   "source": [
    "m1"
   ]
  },
  {
   "cell_type": "code",
   "execution_count": 37,
   "metadata": {},
   "outputs": [
    {
     "data": {
      "text/plain": [
       "2"
      ]
     },
     "execution_count": 37,
     "metadata": {},
     "output_type": "execute_result"
    }
   ],
   "source": [
    "m2"
   ]
  },
  {
   "cell_type": "code",
   "execution_count": 38,
   "metadata": {},
   "outputs": [
    {
     "data": {
      "text/plain": [
       "3"
      ]
     },
     "execution_count": 38,
     "metadata": {},
     "output_type": "execute_result"
    }
   ],
   "source": [
    "m3"
   ]
  },
  {
   "cell_type": "code",
   "execution_count": 39,
   "metadata": {},
   "outputs": [
    {
     "data": {
      "text/plain": [
       "4"
      ]
     },
     "execution_count": 39,
     "metadata": {},
     "output_type": "execute_result"
    }
   ],
   "source": [
    "m4"
   ]
  },
  {
   "cell_type": "code",
   "execution_count": 41,
   "metadata": {},
   "outputs": [],
   "source": [
    "for k = 1:100\n",
    "    eval(:( $(Symbol(string(\"m\",k))) = $k ))\n",
    "end"
   ]
  },
  {
   "cell_type": "code",
   "execution_count": 42,
   "metadata": {},
   "outputs": [
    {
     "data": {
      "text/plain": [
       "100"
      ]
     },
     "execution_count": 42,
     "metadata": {},
     "output_type": "execute_result"
    }
   ],
   "source": [
    "m100"
   ]
  },
  {
   "cell_type": "markdown",
   "metadata": {},
   "source": [
    "---"
   ]
  },
  {
   "cell_type": "code",
   "execution_count": 43,
   "metadata": {},
   "outputs": [],
   "source": [
    "varname = \"ff\"\n",
    "for k = 1:100\n",
    "    eval(:( $(Symbol(string(varname,k))) = $k ))\n",
    "end"
   ]
  },
  {
   "cell_type": "code",
   "execution_count": 44,
   "metadata": {},
   "outputs": [
    {
     "data": {
      "text/plain": [
       "100"
      ]
     },
     "execution_count": 44,
     "metadata": {},
     "output_type": "execute_result"
    }
   ],
   "source": [
    "ff100"
   ]
  },
  {
   "cell_type": "markdown",
   "metadata": {},
   "source": [
    "---\n",
    "## Reading NetCDF file\n",
    "###  Continue : Homework 12 : Julia_1101 Yu_Hao Tseng\n",
    "#### PPT : 15_IO.pptx (p.33)\n",
    "##### https://github.com/ja754969/Julia-Programming/blob/master/Homework/hw12_TsengYuHao.ipynb\n",
    "---\n"
   ]
  },
  {
   "cell_type": "markdown",
   "metadata": {},
   "source": [
    "### NetCDF (network Common Data Form) is a file format for storing multidimensional scientific data (variables) such as temperature, humidity, pressure, wind speed, and direction. \n",
    "### The data in a netCDF file is stored in the form of arrays : http://desktop.arcgis.com/en/arcmap/10.3/manage-data/netcdf/fundamentals-of-netcdf-data-storage.htm\n",
    "\n"
   ]
  },
  {
   "cell_type": "code",
   "execution_count": 46,
   "metadata": {},
   "outputs": [],
   "source": [
    "using NetCDF"
   ]
  },
  {
   "cell_type": "code",
   "execution_count": 48,
   "metadata": {},
   "outputs": [
    {
     "name": "stdout",
     "output_type": "stream",
     "text": [
      "\n",
      "##### NetCDF File #####\n",
      "\n",
      "g:\\我的雲端硬碟\\海大1101_1102\\Julia 程式語言設計_1101\\Julia_git_repo\\Homework\\Files_Julia_IO_Final\\test.nc\n",
      "\n",
      "##### Dimensions #####\n",
      "\n",
      "Name                                                Length                    \n",
      "--------------------------------------------------------------------------------\n",
      "column                                              3                         \n",
      "row                                                 2                         \n",
      "\n",
      "##### Variables #####\n",
      "\n",
      "Name                            Type            Dimensions                      \n",
      "--------------------------------------------------------------------------------\n",
      "Depth                           DOUBLE          row column                      \n",
      "\n",
      "##### Attributes #####\n",
      "\n",
      "Variable            Name                Value                                   \n",
      "--------------------------------------------------------------------------------\n",
      "nothing\n"
     ]
    }
   ],
   "source": [
    "f = \"./Files_Julia_IO_Final/test.nc\"\n",
    "info = ncinfo(f)\n",
    "println(info)"
   ]
  },
  {
   "cell_type": "markdown",
   "metadata": {},
   "source": [
    "---"
   ]
  },
  {
   "cell_type": "code",
   "execution_count": 51,
   "metadata": {},
   "outputs": [],
   "source": [
    "f = \"./Files_Julia_IO_Final/test.nc\"\n",
    "tt = ncread(f, \"Depth\")\n",
    "ncclose(f)"
   ]
  },
  {
   "cell_type": "code",
   "execution_count": 52,
   "metadata": {},
   "outputs": [
    {
     "data": {
      "text/plain": [
       "2×3 Matrix{Float64}:\n",
       " 4.0  5.0  6.0\n",
       " 7.0  8.0  9.0"
      ]
     },
     "execution_count": 52,
     "metadata": {},
     "output_type": "execute_result"
    }
   ],
   "source": [
    "tt"
   ]
  },
  {
   "cell_type": "markdown",
   "metadata": {},
   "source": [
    "---"
   ]
  },
  {
   "cell_type": "code",
   "execution_count": 53,
   "metadata": {},
   "outputs": [
    {
     "name": "stdout",
     "output_type": "stream",
     "text": [
      "\n",
      "##### NetCDF File #####\n",
      "\n",
      "g:\\我的雲端硬碟\\海大1101_1102\\Julia 程式語言設計_1101\\Julia_git_repo\\Homework\\Files_Julia_IO_Final\\argo-profiles.nc\n",
      "\n",
      "##### Dimensions #####\n",
      "\n",
      "Name                                                Length                    \n",
      "--------------------------------------------------------------------------------\n",
      "DATE_TIME                                           14                        \n",
      "STRING4                                             4                         \n",
      "STRING64                                            64                        \n",
      "N_LEVELS                                            58                        \n",
      "STRING2                                             2                         \n",
      "N_CALIB                                             1                         \n",
      "STRING8                                             8                         \n",
      "STRING32                                            32                        \n",
      "N_PARAM                                             3                         \n",
      "STRING256                                           256                       \n",
      "N_PROF                                              1                         \n",
      "N_HISTORY                                           UNLIMITED (4 currently)   \n",
      "STRING16                                            16                        \n",
      "\n",
      "##### Variables #####\n",
      "\n",
      "Name                            Type            Dimensions                      \n",
      "--------------------------------------------------------------------------------\n",
      "HISTORY_STOP_PRES               FLOAT           N_PROF N_HISTORY                \n",
      "PI_NAME                         CHAR            STRING64 N_PROF                 \n",
      "DATA_STATE_INDICATOR            CHAR            STRING4 N_PROF                  \n",
      "DATA_CENTRE                     CHAR            STRING2 N_PROF                  \n",
      "JULD_QC                         CHAR            N_PROF                          \n",
      "PLATFORM_NUMBER                 CHAR            STRING8 N_PROF                  \n",
      "LONGITUDE                       DOUBLE          N_PROF                          \n",
      "TEMP_ADJUSTED                   FLOAT           N_LEVELS N_PROF                 \n",
      "HISTORY_PARAMETER               CHAR            STRING16 N_PROF N_HISTORY       \n",
      "PSAL_ADJUSTED_QC                CHAR            N_LEVELS N_PROF                 \n",
      "HISTORY_PREVIOUS_VALUE          FLOAT           N_PROF N_HISTORY                \n",
      "HISTORY_START_PRES              FLOAT           N_PROF N_HISTORY                \n",
      "VERTICAL_SAMPLING_SCHEME        CHAR            STRING256 N_PROF                \n",
      "STATION_PARAMETERS              CHAR            STRING16 N_PARAM N_PROF         \n",
      "SCIENTIFIC_CALIB_COMMENT        CHAR            STRING256 N_PARAM N_CALIB N_PR..\n",
      "DIRECTION                       CHAR            N_PROF                          \n",
      "PSAL                            FLOAT           N_LEVELS N_PROF                 \n",
      "FORMAT_VERSION                  CHAR            STRING4                         \n",
      "SCIENTIFIC_CALIB_EQUATION       CHAR            STRING256 N_PARAM N_CALIB N_PR..\n",
      "TEMP_ADJUSTED_QC                CHAR            N_LEVELS N_PROF                 \n",
      "HANDBOOK_VERSION                CHAR            STRING4                         \n",
      "HISTORY_SOFTWARE                CHAR            STRING4 N_PROF N_HISTORY        \n",
      "WMO_INST_TYPE                   CHAR            STRING4 N_PROF                  \n",
      "HISTORY_REFERENCE               CHAR            STRING64 N_PROF N_HISTORY       \n",
      "PROFILE_PSAL_QC                 CHAR            N_PROF                          \n",
      "POSITIONING_SYSTEM              CHAR            STRING8 N_PROF                  \n",
      "REFERENCE_DATE_TIME             CHAR            DATE_TIME                       \n",
      "HISTORY_ACTION                  CHAR            STRING4 N_PROF N_HISTORY        \n",
      "HISTORY_INSTITUTION             CHAR            STRING4 N_PROF N_HISTORY        \n",
      "TEMP                            FLOAT           N_LEVELS N_PROF                 \n",
      "PRES                            FLOAT           N_LEVELS N_PROF                 \n",
      "PRES_ADJUSTED_QC                CHAR            N_LEVELS N_PROF                 \n",
      "PSAL_ADJUSTED_ERROR             FLOAT           N_LEVELS N_PROF                 \n",
      "PSAL_ADJUSTED                   FLOAT           N_LEVELS N_PROF                 \n",
      "DC_REFERENCE                    CHAR            STRING32 N_PROF                 \n",
      "JULD_LOCATION                   DOUBLE          N_PROF                          \n",
      "LATITUDE                        DOUBLE          N_PROF                          \n",
      "HISTORY_STEP                    CHAR            STRING4 N_PROF N_HISTORY        \n",
      "CYCLE_NUMBER                    INT             N_PROF                          \n",
      "DATE_CREATION                   CHAR            DATE_TIME                       \n",
      "DATA_TYPE                       CHAR            STRING16                        \n",
      "PSAL_QC                         CHAR            N_LEVELS N_PROF                 \n",
      "PLATFORM_TYPE                   CHAR            STRING32 N_PROF                 \n",
      "HISTORY_DATE                    CHAR            DATE_TIME N_PROF N_HISTORY      \n",
      "HISTORY_QCTEST                  CHAR            STRING16 N_PROF N_HISTORY       \n",
      "FLOAT_SERIAL_NO                 CHAR            STRING16 N_PROF                 \n",
      "POSITION_QC                     CHAR            N_PROF                          \n",
      "TEMP_ADJUSTED_ERROR             FLOAT           N_LEVELS N_PROF                 \n",
      "PRES_QC                         CHAR            N_LEVELS N_PROF                 \n",
      "PROJECT_NAME                    CHAR            STRING64 N_PROF                 \n",
      "FIRMWARE_VERSION                CHAR            STRING16 N_PROF                 \n",
      "PRES_ADJUSTED_ERROR             FLOAT           N_LEVELS N_PROF                 \n",
      "SCIENTIFIC_CALIB_DATE           CHAR            DATE_TIME N_PARAM N_CALIB N_PR..\n",
      "JULD                            DOUBLE          N_PROF                          \n",
      "HISTORY_SOFTWARE_RELEASE        CHAR            STRING4 N_PROF N_HISTORY        \n",
      "PROFILE_TEMP_QC                 CHAR            N_PROF                          \n",
      "PRES_ADJUSTED                   FLOAT           N_LEVELS N_PROF                 \n",
      "DATA_MODE                       CHAR            N_PROF                          \n",
      "PARAMETER                       CHAR            STRING16 N_PARAM N_CALIB N_PROF \n",
      "PROFILE_PRES_QC                 CHAR            N_PROF                          \n",
      "CONFIG_MISSION_NUMBER           INT             N_PROF                          \n",
      "DATE_UPDATE                     CHAR            DATE_TIME                       \n",
      "TEMP_QC                         CHAR            N_LEVELS N_PROF                 \n",
      "SCIENTIFIC_CALIB_COEFFICIENT    CHAR            STRING256 N_PARAM N_CALIB N_PR..\n",
      "\n",
      "##### Attributes #####\n",
      "\n",
      "Variable            Name                Value                                   \n",
      "--------------------------------------------------------------------------------\n",
      "global              history             2017-11-21T06:18:56Z creation           \n",
      "global              references          http://www.argodatamgt.org/Documentation\n",
      "global              source              Argo float                              \n",
      "global              user_manual_version 3.03                                    \n",
      "global              title               Argo float vertical profile             \n",
      "global              featureType         trajectoryProfile                       \n",
      "global              institution         KMA                                     \n",
      "global              comment                                                     \n",
      "global              Conventions         Argo-3.0 CF-1.6                         \n",
      "HISTORY_STOP_PRES   units               decibar                                 \n",
      "HISTORY_STOP_PRES   long_name           Stop pressure action applied on         \n",
      "HISTORY_STOP_PRES   _FillValue          99999.0                                 \n",
      "PI_NAME             long_name           Name of the principal investigator      \n",
      "PI_NAME             _FillValue                                                  \n",
      "DATA_STATE_INDICATORconventions         Argo reference table 6                  \n",
      "DATA_STATE_INDICATORlong_name           Degree of processing the data have pas..\n",
      "DATA_STATE_INDICATOR_FillValue                                                  \n",
      "DATA_CENTRE         conventions         Argo reference table 4                  \n",
      "DATA_CENTRE         long_name           Data centre in charge of float data pr..\n",
      "DATA_CENTRE         _FillValue                                                  \n",
      "JULD_QC             conventions         Argo reference table 2                  \n",
      "JULD_QC             long_name           Quality on Date and Time                \n",
      "JULD_QC             _FillValue                                                  \n",
      "PLATFORM_NUMBER     conventions         WMO float identifier : A9IIIII          \n",
      "PLATFORM_NUMBER     long_name           Float unique identifier                 \n",
      "PLATFORM_NUMBER     _FillValue                                                  \n",
      "LONGITUDE           units               degree_east                             \n",
      "LONGITUDE           long_name           Longitude of the station, best estimate \n",
      "LONGITUDE           axis                X                                       \n",
      "LONGITUDE           standard_name       longitude                               \n",
      "LONGITUDE           valid_min           -180.0                                  \n",
      "LONGITUDE           _FillValue          99999.0                                 \n",
      "LONGITUDE           valid_max           180.0                                   \n",
      "TEMP_ADJUSTED       units               degree_Celsius                          \n",
      "TEMP_ADJUSTED       resolution          0.001                                   \n",
      "TEMP_ADJUSTED       C_format            %9.3f                                   \n",
      "TEMP_ADJUSTED       long_name           SEA TEMPERATURE IN SITU ITS-90 SCALE    \n",
      "TEMP_ADJUSTED       standard_name       sea_water_temperature                   \n",
      "TEMP_ADJUSTED       valid_min           -2.0                                    \n",
      "TEMP_ADJUSTED       _FillValue          99999.0                                 \n",
      "TEMP_ADJUSTED       FORTRAN_format      F9.3                                    \n",
      "TEMP_ADJUSTED       valid_max           40.0                                    \n",
      "HISTORY_PARAMETER   conventions         Argo reference table 3                  \n",
      "HISTORY_PARAMETER   long_name           Station parameter action is performed on\n",
      "HISTORY_PARAMETER   _FillValue                                                  \n",
      "PSAL_ADJUSTED_QC    conventions         Argo reference table 2                  \n",
      "PSAL_ADJUSTED_QC    long_name           quality flag                            \n",
      "PSAL_ADJUSTED_QC    _FillValue                                                  \n",
      "HISTORY_PREVIOUS_V..long_name           Parameter/Flag previous value before a..\n",
      "HISTORY_PREVIOUS_V.._FillValue          99999.0                                 \n",
      "HISTORY_START_PRES  units               decibar                                 \n",
      "HISTORY_START_PRES  long_name           Start pressure action applied on        \n",
      "HISTORY_START_PRES  _FillValue          99999.0                                 \n",
      "VERTICAL_SAMPLING_..conventions         Argo reference table 16                 \n",
      "VERTICAL_SAMPLING_..long_name           Vertical sampling scheme                \n",
      "VERTICAL_SAMPLING_.._FillValue                                                  \n",
      "STATION_PARAMETERS  conventions         Argo reference table 3                  \n",
      "STATION_PARAMETERS  long_name           List of available parameters for the s..\n",
      "STATION_PARAMETERS  _FillValue                                                  \n",
      "SCIENTIFIC_CALIB_C..long_name           Comment applying to this parameter cal..\n",
      "SCIENTIFIC_CALIB_C.._FillValue                                                  \n",
      "DIRECTION           conventions         A: ascending profiles, D: descending p..\n",
      "DIRECTION           long_name           Direction of the station profiles       \n",
      "DIRECTION           _FillValue                                                  \n",
      "PSAL                units               psu                                     \n",
      "PSAL                resolution          0.001                                   \n",
      "PSAL                C_format            %9.3f                                   \n",
      "PSAL                long_name           PRACTICAL SALINITY                      \n",
      "PSAL                standard_name       sea_water_salinity                      \n",
      "PSAL                valid_min           0.0                                     \n",
      "PSAL                _FillValue          99999.0                                 \n",
      "PSAL                FORTRAN_format      F9.3                                    \n",
      "PSAL                valid_max           42.0                                    \n",
      "FORMAT_VERSION      long_name           File format version                     \n",
      "FORMAT_VERSION      _FillValue                                                  \n",
      "SCIENTIFIC_CALIB_E..long_name           Calibration equation for this parameter \n",
      "SCIENTIFIC_CALIB_E.._FillValue                                                  \n",
      "TEMP_ADJUSTED_QC    conventions         Argo reference table 2                  \n",
      "TEMP_ADJUSTED_QC    long_name           quality flag                            \n",
      "TEMP_ADJUSTED_QC    _FillValue                                                  \n",
      "HANDBOOK_VERSION    long_name           Data handbook version                   \n",
      "HANDBOOK_VERSION    _FillValue                                                  \n",
      "HISTORY_SOFTWARE    conventions         Institution dependent                   \n",
      "HISTORY_SOFTWARE    long_name           Name of software which performed action \n",
      "HISTORY_SOFTWARE    _FillValue                                                  \n",
      "WMO_INST_TYPE       conventions         Argo reference table 8                  \n",
      "WMO_INST_TYPE       long_name           Coded instrument type                   \n",
      "WMO_INST_TYPE       _FillValue                                                  \n",
      "HISTORY_REFERENCE   conventions         Institution dependent                   \n",
      "HISTORY_REFERENCE   long_name           Reference of database                   \n",
      "HISTORY_REFERENCE   _FillValue                                                  \n",
      "PROFILE_PSAL_QC     conventions         Argo reference table 2a                 \n",
      "PROFILE_PSAL_QC     long_name           Global quality flag of PSAL profile     \n",
      "PROFILE_PSAL_QC     _FillValue                                                  \n",
      "POSITIONING_SYSTEM  long_name           Positioning system                      \n",
      "POSITIONING_SYSTEM  _FillValue                                                  \n",
      "REFERENCE_DATE_TIME conventions         YYYYMMDDHHMISS                          \n",
      "REFERENCE_DATE_TIME long_name           Date of reference for Julian days       \n",
      "REFERENCE_DATE_TIME _FillValue                                                  \n",
      "HISTORY_ACTION      conventions         Argo reference table 7                  \n",
      "HISTORY_ACTION      long_name           Action performed on data                \n",
      "HISTORY_ACTION      _FillValue                                                  \n",
      "HISTORY_INSTITUTION conventions         Argo reference table 4                  \n",
      "HISTORY_INSTITUTION long_name           Institution which performed action      \n",
      "HISTORY_INSTITUTION _FillValue                                                  \n",
      "TEMP                units               degree_Celsius                          \n",
      "TEMP                resolution          0.001                                   \n",
      "TEMP                C_format            %9.3f                                   \n",
      "TEMP                long_name           SEA TEMPERATURE IN SITU ITS-90 SCALE    \n",
      "TEMP                standard_name       sea_water_temperature                   \n",
      "TEMP                valid_min           -2.0                                    \n",
      "TEMP                _FillValue          99999.0                                 \n",
      "TEMP                FORTRAN_format      F9.3                                    \n",
      "TEMP                valid_max           40.0                                    \n",
      "PRES                units               decibar                                 \n",
      "PRES                resolution          0.1                                     \n",
      "PRES                C_format            %7.1f                                   \n",
      "PRES                long_name           SEA PRESSURE                            \n",
      "PRES                axis                Z                                       \n",
      "PRES                standard_name       sea_water_pressure                      \n",
      "PRES                valid_min           0.0                                     \n",
      "PRES                _FillValue          99999.0                                 \n",
      "PRES                FORTRAN_format      F7.1                                    \n",
      "PRES                valid_max           12000.0                                 \n",
      "PRES_ADJUSTED_QC    conventions         Argo reference table 2                  \n",
      "PRES_ADJUSTED_QC    long_name           quality flag                            \n",
      "PRES_ADJUSTED_QC    _FillValue                                                  \n",
      "PSAL_ADJUSTED_ERROR units               psu                                     \n",
      "PSAL_ADJUSTED_ERROR resolution          0.001                                   \n",
      "PSAL_ADJUSTED_ERROR C_format            %9.3f                                   \n",
      "PSAL_ADJUSTED_ERROR long_name           PRACTICAL SALINITY                      \n",
      "PSAL_ADJUSTED_ERROR _FillValue          99999.0                                 \n",
      "PSAL_ADJUSTED_ERROR FORTRAN_format      F9.3                                    \n",
      "PSAL_ADJUSTED       units               psu                                     \n",
      "PSAL_ADJUSTED       resolution          0.001                                   \n",
      "PSAL_ADJUSTED       C_format            %9.3f                                   \n",
      "PSAL_ADJUSTED       long_name           PRACTICAL SALINITY                      \n",
      "PSAL_ADJUSTED       standard_name       sea_water_salinity                      \n",
      "PSAL_ADJUSTED       valid_min           0.0                                     \n",
      "PSAL_ADJUSTED       _FillValue          99999.0                                 \n",
      "PSAL_ADJUSTED       FORTRAN_format      F9.3                                    \n",
      "PSAL_ADJUSTED       valid_max           42.0                                    \n",
      "DC_REFERENCE        conventions         Data centre convention                  \n",
      "DC_REFERENCE        long_name           Station unique identifier in data centre\n",
      "DC_REFERENCE        _FillValue                                                  \n",
      "JULD_LOCATION       units               days since 1950-01-01 00:00:00 UTC      \n",
      "JULD_LOCATION       conventions         Relative julian days with decimal part..\n",
      "JULD_LOCATION       long_name           Julian day (UTC) of the location relat..\n",
      "JULD_LOCATION       _FillValue          999999.0                                \n",
      "LATITUDE            units               degree_north                            \n",
      "LATITUDE            long_name           Latitude of the station, best estimate  \n",
      "LATITUDE            axis                Y                                       \n",
      "LATITUDE            standard_name       latitude                                \n",
      "LATITUDE            valid_min           -90.0                                   \n",
      "LATITUDE            _FillValue          99999.0                                 \n",
      "LATITUDE            valid_max           90.0                                    \n",
      "HISTORY_STEP        conventions         Argo reference table 12                 \n",
      "HISTORY_STEP        long_name           Step in data processing                 \n",
      "HISTORY_STEP        _FillValue                                                  \n",
      "CYCLE_NUMBER        conventions         0..N, 0 : launch cycle (if exists), 1 ..\n",
      "CYCLE_NUMBER        long_name           Float cycle number                      \n",
      "CYCLE_NUMBER        _FillValue          99999                                   \n",
      "DATE_CREATION       conventions         YYYYMMDDHHMISS                          \n",
      "DATE_CREATION       long_name           Date of file creation                   \n",
      "DATE_CREATION       _FillValue                                                  \n",
      "DATA_TYPE           long_name           Data type                               \n",
      "DATA_TYPE           _FillValue                                                  \n",
      "PSAL_QC             conventions         Argo reference table 2                  \n",
      "PSAL_QC             long_name           quality flag                            \n",
      "PSAL_QC             _FillValue                                                  \n",
      "PLATFORM_TYPE       long_name           Type of float                           \n",
      "PLATFORM_TYPE       _FillValue                                                  \n",
      "HISTORY_DATE        conventions         YYYYMMDDHHMISS                          \n",
      "HISTORY_DATE        long_name           Date the history record was created     \n",
      "HISTORY_DATE        _FillValue                                                  \n",
      "HISTORY_QCTEST      conventions         Write tests performed when ACTION=QCP$..\n",
      "HISTORY_QCTEST      long_name           Documentation of tests performed, test..\n",
      "HISTORY_QCTEST      _FillValue                                                  \n",
      "FLOAT_SERIAL_NO     long_name           Serial number of the float              \n",
      "FLOAT_SERIAL_NO     _FillValue                                                  \n",
      "POSITION_QC         conventions         Argo reference table 2                  \n",
      "POSITION_QC         long_name           Quality on position (latitude and long..\n",
      "POSITION_QC         _FillValue                                                  \n",
      "TEMP_ADJUSTED_ERROR units               degree_Celsius                          \n",
      "TEMP_ADJUSTED_ERROR resolution          0.001                                   \n",
      "TEMP_ADJUSTED_ERROR C_format            %9.3f                                   \n",
      "TEMP_ADJUSTED_ERROR long_name           SEA TEMPERATURE IN SITU ITS-90 SCALE    \n",
      "TEMP_ADJUSTED_ERROR _FillValue          99999.0                                 \n",
      "TEMP_ADJUSTED_ERROR FORTRAN_format      F9.3                                    \n",
      "PRES_QC             conventions         Argo reference table 2                  \n",
      "PRES_QC             long_name           quality flag                            \n",
      "PRES_QC             _FillValue                                                  \n",
      "PROJECT_NAME        long_name           Name of the project                     \n",
      "PROJECT_NAME        _FillValue                                                  \n",
      "FIRMWARE_VERSION    long_name           Instrument version                      \n",
      "FIRMWARE_VERSION    _FillValue                                                  \n",
      "PRES_ADJUSTED_ERROR units               decibar                                 \n",
      "PRES_ADJUSTED_ERROR resolution          0.1                                     \n",
      "PRES_ADJUSTED_ERROR C_format            %7.1f                                   \n",
      "PRES_ADJUSTED_ERROR long_name           SEA PRESSURE                            \n",
      "PRES_ADJUSTED_ERROR _FillValue          99999.0                                 \n",
      "PRES_ADJUSTED_ERROR FORTRAN_format      F7.1                                    \n",
      "SCIENTIFIC_CALIB_D..long_name           Date of calibration                     \n",
      "SCIENTIFIC_CALIB_D.._FillValue                                                  \n",
      "JULD                units               days since 1950-01-01 00:00:00 UTC      \n",
      "JULD                conventions         Relative julian days with decimal part..\n",
      "JULD                long_name           Julian day (UTC) of the station relati..\n",
      "JULD                axis                T                                       \n",
      "JULD                standard_name       time                                    \n",
      "JULD                _FillValue          999999.0                                \n",
      "HISTORY_SOFTWARE_R..conventions         Institution dependent                   \n",
      "HISTORY_SOFTWARE_R..long_name           Version/release of software which perf..\n",
      "HISTORY_SOFTWARE_R.._FillValue                                                  \n",
      "PROFILE_TEMP_QC     conventions         Argo reference table 2a                 \n",
      "PROFILE_TEMP_QC     long_name           Global quality flag of TEMP profile     \n",
      "PROFILE_TEMP_QC     _FillValue                                                  \n",
      "PRES_ADJUSTED       units               decibar                                 \n",
      "PRES_ADJUSTED       resolution          0.1                                     \n",
      "PRES_ADJUSTED       C_format            %7.1f                                   \n",
      "PRES_ADJUSTED       long_name           SEA PRESSURE                            \n",
      "PRES_ADJUSTED       axis                Z                                       \n",
      "PRES_ADJUSTED       standard_name       sea_water_pressure                      \n",
      "PRES_ADJUSTED       valid_min           0.0                                     \n",
      "PRES_ADJUSTED       _FillValue          99999.0                                 \n",
      "PRES_ADJUSTED       FORTRAN_format      F7.1                                    \n",
      "PRES_ADJUSTED       valid_max           12000.0                                 \n",
      "DATA_MODE           conventions         R : real time; D : delayed mode; A : r..\n",
      "DATA_MODE           long_name           Delayed mode or real time data          \n",
      "DATA_MODE           _FillValue                                                  \n",
      "PARAMETER           conventions         Argo reference table 3                  \n",
      "PARAMETER           long_name           List of parameters with calibration in..\n",
      "PARAMETER           _FillValue                                                  \n",
      "PROFILE_PRES_QC     conventions         Argo reference table 2a                 \n",
      "PROFILE_PRES_QC     long_name           Global quality flag of PRES profile     \n",
      "PROFILE_PRES_QC     _FillValue                                                  \n",
      "CONFIG_MISSION_NUM..conventions         0..N, 0 : launch mission (if exists), ..\n",
      "CONFIG_MISSION_NUM..long_name           Float's mission number for each profile \n",
      "CONFIG_MISSION_NUM.._FillValue          99999                                   \n",
      "DATE_UPDATE         conventions         YYYYMMDDHHMISS                          \n",
      "DATE_UPDATE         long_name           Date of update of this file             \n",
      "DATE_UPDATE         _FillValue                                                  \n",
      "TEMP_QC             conventions         Argo reference table 2                  \n",
      "TEMP_QC             long_name           quality flag                            \n",
      "TEMP_QC             _FillValue                                                  \n",
      "SCIENTIFIC_CALIB_C..long_name           Calibration coefficients for this equa..\n",
      "SCIENTIFIC_CALIB_C.._FillValue                                                  \n",
      "nothing\n"
     ]
    }
   ],
   "source": [
    "f = \"./Files_Julia_IO_Final/argo-profiles.nc\"\n",
    "info = ncinfo(f)\n",
    "println(info)"
   ]
  },
  {
   "cell_type": "markdown",
   "metadata": {},
   "source": [
    "# Exercise #3"
   ]
  },
  {
   "cell_type": "code",
   "execution_count": 55,
   "metadata": {},
   "outputs": [],
   "source": [
    "f = \"./Files_Julia_IO_Final/argo-profiles.nc\"\n",
    "PRES = ncread(f, \"PRES\")\n",
    "TEMP = ncread(f, \"TEMP\")\n",
    "\n",
    "ncclose(f)"
   ]
  },
  {
   "cell_type": "markdown",
   "metadata": {},
   "source": []
  },
  {
   "cell_type": "code",
   "execution_count": 60,
   "metadata": {},
   "outputs": [
    {
     "data": {
      "text/plain": [
       "58"
      ]
     },
     "execution_count": 60,
     "metadata": {},
     "output_type": "execute_result"
    }
   ],
   "source": [
    "length(PRES)"
   ]
  },
  {
   "cell_type": "code",
   "execution_count": 62,
   "metadata": {},
   "outputs": [
    {
     "data": {
      "text/plain": [
       "58"
      ]
     },
     "execution_count": 62,
     "metadata": {},
     "output_type": "execute_result"
    }
   ],
   "source": [
    "length(TEMP)"
   ]
  },
  {
   "cell_type": "code",
   "execution_count": 70,
   "metadata": {},
   "outputs": [
    {
     "data": {
      "image/png": "[encoded data removed]",
      "text/plain": [
       "Figure(PyObject <Figure size 640x480 with 1 Axes>)"
      ]
     },
     "metadata": {},
     "output_type": "display_data"
    },
    {
     "data": {
      "text/plain": [
       "(1500.0, 0.0)"
      ]
     },
     "execution_count": 70,
     "metadata": {},
     "output_type": "execute_result"
    }
   ],
   "source": [
    "using PyPlot\n",
    "plot(TEMP,PRES)\n",
    "ylabel(\"Pressure\")\n",
    "xlabel(\"Temperature\")\n",
    "ylim(1500,0)"
   ]
  },
  {
   "cell_type": "code",
   "execution_count": null,
   "metadata": {},
   "outputs": [],
   "source": []
  },
  {
   "cell_type": "code",
   "execution_count": null,
   "metadata": {},
   "outputs": [],
   "source": []
  },
  {
   "cell_type": "code",
   "execution_count": null,
   "metadata": {},
   "outputs": [],
   "source": []
  },
  {
   "cell_type": "code",
   "execution_count": null,
   "metadata": {},
   "outputs": [],
   "source": []
  },
  {
   "cell_type": "code",
   "execution_count": null,
   "metadata": {},
   "outputs": [],
   "source": []
  },
  {
   "cell_type": "code",
   "execution_count": null,
   "metadata": {},
   "outputs": [],
   "source": []
  },
  {
   "cell_type": "code",
   "execution_count": null,
   "metadata": {},
   "outputs": [],
   "source": []
  },
  {
   "cell_type": "code",
   "execution_count": null,
   "metadata": {},
   "outputs": [],
   "source": []
  },
  {
   "cell_type": "code",
   "execution_count": null,
   "metadata": {},
   "outputs": [],
   "source": []
  },
  {
   "cell_type": "code",
   "execution_count": null,
   "metadata": {},
   "outputs": [],
   "source": []
  },
  {
   "cell_type": "code",
   "execution_count": null,
   "metadata": {},
   "outputs": [],
   "source": []
  }
 ],
 "metadata": {
  "kernelspec": {
   "display_name": "Julia 1.6.3",
   "language": "julia",
   "name": "julia-1.6"
  },
  "language_info": {
   "file_extension": ".jl",
   "mimetype": "application/julia",
   "name": "julia",
   "version": "1.6.3"
  },
  "orig_nbformat": 4
 },
 "nbformat": 4,
 "nbformat_minor": 2
}
