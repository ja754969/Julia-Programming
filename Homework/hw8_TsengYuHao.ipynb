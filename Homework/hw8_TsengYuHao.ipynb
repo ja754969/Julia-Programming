{
 "cells": [
  {
   "cell_type": "markdown",
   "metadata": {},
   "source": [
    "# Homework 8 : Julia_1101 Yu_Hao Tseng\n",
    "## PPT : 11_More_about_Dictionary.pptx (p.1)\n",
    "### https://github.com/ja754969/Julia-Programming/blob/master/Homework/hw8_TsengYuHao.ipynb"
   ]
  },
  {
   "cell_type": "markdown",
   "metadata": {},
   "source": [
    "---\n",
    "# Practice"
   ]
  },
  {
   "cell_type": "markdown",
   "metadata": {},
   "source": [
    "## Changing Dictionary"
   ]
  },
  {
   "cell_type": "code",
   "execution_count": 1,
   "metadata": {},
   "outputs": [
    {
     "data": {
      "text/plain": [
       "Dict{Int64, String} with 2 entries:\n",
       "  7  => \"seven\"\n",
       "  11 => \"eleven\""
      ]
     },
     "execution_count": 1,
     "metadata": {},
     "output_type": "execute_result"
    }
   ],
   "source": [
    "a = Dict(7=>\"seven\",11=>\"eleven\")"
   ]
  },
  {
   "cell_type": "code",
   "execution_count": 2,
   "metadata": {},
   "outputs": [
    {
     "data": {
      "text/plain": [
       "\"ELEVEN\""
      ]
     },
     "execution_count": 2,
     "metadata": {},
     "output_type": "execute_result"
    }
   ],
   "source": [
    "a[11] = \"ELEVEN\""
   ]
  },
  {
   "cell_type": "code",
   "execution_count": 3,
   "metadata": {},
   "outputs": [
    {
     "data": {
      "text/plain": [
       "Dict{Int64, String} with 2 entries:\n",
       "  7  => \"seven\"\n",
       "  11 => \"ELEVEN\""
      ]
     },
     "execution_count": 3,
     "metadata": {},
     "output_type": "execute_result"
    }
   ],
   "source": [
    "a"
   ]
  },
  {
   "cell_type": "code",
   "execution_count": 4,
   "metadata": {},
   "outputs": [
    {
     "data": {
      "text/plain": [
       "Dict{Int64, String} with 1 entry:\n",
       "  7 => \"seven\""
      ]
     },
     "execution_count": 4,
     "metadata": {},
     "output_type": "execute_result"
    }
   ],
   "source": [
    "delete!(a,11)"
   ]
  },
  {
   "cell_type": "code",
   "execution_count": 5,
   "metadata": {},
   "outputs": [
    {
     "data": {
      "text/plain": [
       "\"ten\""
      ]
     },
     "execution_count": 5,
     "metadata": {},
     "output_type": "execute_result"
    }
   ],
   "source": [
    "a[10] = \"ten\""
   ]
  },
  {
   "cell_type": "code",
   "execution_count": 6,
   "metadata": {},
   "outputs": [
    {
     "data": {
      "text/plain": [
       "Dict{Int64, String} with 2 entries:\n",
       "  7  => \"seven\"\n",
       "  10 => \"ten\""
      ]
     },
     "execution_count": 6,
     "metadata": {},
     "output_type": "execute_result"
    }
   ],
   "source": [
    "a"
   ]
  },
  {
   "cell_type": "markdown",
   "metadata": {},
   "source": [
    "## To check if a key exists or not ? \n",
    "### Use \"haskey\" \n",
    "### haskey(dictionary,key)"
   ]
  },
  {
   "cell_type": "code",
   "execution_count": 7,
   "metadata": {},
   "outputs": [
    {
     "data": {
      "text/plain": [
       "false"
      ]
     },
     "execution_count": 7,
     "metadata": {},
     "output_type": "execute_result"
    }
   ],
   "source": [
    "haskey(a,11)"
   ]
  },
  {
   "cell_type": "code",
   "execution_count": 8,
   "metadata": {},
   "outputs": [
    {
     "data": {
      "text/plain": [
       "true"
      ]
     },
     "execution_count": 8,
     "metadata": {},
     "output_type": "execute_result"
    }
   ],
   "source": [
    "haskey(a,10)"
   ]
  },
  {
   "cell_type": "markdown",
   "metadata": {},
   "source": [
    "---\n",
    "# Exercise #1\n",
    "## (1) Build a dictionary where the keys are numbers from 1 to 15 (including 1 and 15) and the values are the cubic of the keys."
   ]
  },
  {
   "cell_type": "code",
   "execution_count": 9,
   "metadata": {},
   "outputs": [
    {
     "data": {
      "text/plain": [
       "Dict{Any, Any} with 15 entries:\n",
       "  5  => 125\n",
       "  12 => 1728\n",
       "  8  => 512\n",
       "  1  => 1\n",
       "  6  => 216\n",
       "  11 => 1331\n",
       "  9  => 729\n",
       "  14 => 2744\n",
       "  3  => 27\n",
       "  7  => 343\n",
       "  4  => 64\n",
       "  13 => 2197\n",
       "  15 => 3375\n",
       "  2  => 8\n",
       "  10 => 1000"
      ]
     },
     "execution_count": 9,
     "metadata": {},
     "output_type": "execute_result"
    }
   ],
   "source": [
    "cubic_dict = Dict()\n",
    "for i = 1:15\n",
    "    cubic_dict[i] = i^3\n",
    "end\n",
    "cubic_dict"
   ]
  },
  {
   "cell_type": "markdown",
   "metadata": {},
   "source": [
    "## (2) Change the dictionary you have just built above by adding the value “ONE” to all values of the dictionary . (HINT: may use a “for” loop)"
   ]
  },
  {
   "cell_type": "code",
   "execution_count": 10,
   "metadata": {},
   "outputs": [
    {
     "data": {
      "text/plain": [
       "Dict{Any, Any} with 15 entries:\n",
       "  5  => 126\n",
       "  12 => 1729\n",
       "  8  => 513\n",
       "  1  => 2\n",
       "  6  => 217\n",
       "  11 => 1332\n",
       "  9  => 730\n",
       "  14 => 2745\n",
       "  3  => 28\n",
       "  7  => 344\n",
       "  4  => 65\n",
       "  13 => 2198\n",
       "  15 => 3376\n",
       "  2  => 9\n",
       "  10 => 1001"
      ]
     },
     "execution_count": 10,
     "metadata": {},
     "output_type": "execute_result"
    }
   ],
   "source": [
    "for i = 1:15\n",
    "    cubic_dict[i] = cubic_dict[i] + 1\n",
    "end\n",
    "cubic_dict"
   ]
  },
  {
   "cell_type": "markdown",
   "metadata": {},
   "source": [
    "---\n",
    "# Practice\n",
    "## Counting alphabets using the Dictionary type"
   ]
  },
  {
   "cell_type": "code",
   "execution_count": 11,
   "metadata": {},
   "outputs": [
    {
     "data": {
      "text/plain": [
       "\"John likes apples that are deep red in color.\""
      ]
     },
     "execution_count": 11,
     "metadata": {},
     "output_type": "execute_result"
    }
   ],
   "source": [
    "a = \"John likes apples that are deep red in color.\""
   ]
  },
  {
   "cell_type": "code",
   "execution_count": 12,
   "metadata": {},
   "outputs": [
    {
     "data": {
      "text/plain": [
       "\"john likes apples that are deep red in color.\""
      ]
     },
     "execution_count": 12,
     "metadata": {},
     "output_type": "execute_result"
    }
   ],
   "source": [
    "a = lowercase(a)"
   ]
  },
  {
   "cell_type": "code",
   "execution_count": 13,
   "metadata": {},
   "outputs": [
    {
     "data": {
      "text/plain": [
       "45-element Vector{Char}:\n",
       " 'j': ASCII/Unicode U+006A (category Ll: Letter, lowercase)\n",
       " 'o': ASCII/Unicode U+006F (category Ll: Letter, lowercase)\n",
       " 'h': ASCII/Unicode U+0068 (category Ll: Letter, lowercase)\n",
       " 'n': ASCII/Unicode U+006E (category Ll: Letter, lowercase)\n",
       " ' ': ASCII/Unicode U+0020 (category Zs: Separator, space)\n",
       " 'l': ASCII/Unicode U+006C (category Ll: Letter, lowercase)\n",
       " 'i': ASCII/Unicode U+0069 (category Ll: Letter, lowercase)\n",
       " 'k': ASCII/Unicode U+006B (category Ll: Letter, lowercase)\n",
       " 'e': ASCII/Unicode U+0065 (category Ll: Letter, lowercase)\n",
       " 's': ASCII/Unicode U+0073 (category Ll: Letter, lowercase)\n",
       " ' ': ASCII/Unicode U+0020 (category Zs: Separator, space)\n",
       " 'a': ASCII/Unicode U+0061 (category Ll: Letter, lowercase)\n",
       " 'p': ASCII/Unicode U+0070 (category Ll: Letter, lowercase)\n",
       " ⋮\n",
       " 'e': ASCII/Unicode U+0065 (category Ll: Letter, lowercase)\n",
       " 'd': ASCII/Unicode U+0064 (category Ll: Letter, lowercase)\n",
       " ' ': ASCII/Unicode U+0020 (category Zs: Separator, space)\n",
       " 'i': ASCII/Unicode U+0069 (category Ll: Letter, lowercase)\n",
       " 'n': ASCII/Unicode U+006E (category Ll: Letter, lowercase)\n",
       " ' ': ASCII/Unicode U+0020 (category Zs: Separator, space)\n",
       " 'c': ASCII/Unicode U+0063 (category Ll: Letter, lowercase)\n",
       " 'o': ASCII/Unicode U+006F (category Ll: Letter, lowercase)\n",
       " 'l': ASCII/Unicode U+006C (category Ll: Letter, lowercase)\n",
       " 'o': ASCII/Unicode U+006F (category Ll: Letter, lowercase)\n",
       " 'r': ASCII/Unicode U+0072 (category Ll: Letter, lowercase)\n",
       " '.': ASCII/Unicode U+002E (category Po: Punctuation, other)"
      ]
     },
     "execution_count": 13,
     "metadata": {},
     "output_type": "execute_result"
    }
   ],
   "source": [
    "a = collect(a)"
   ]
  },
  {
   "cell_type": "code",
   "execution_count": 14,
   "metadata": {},
   "outputs": [
    {
     "data": {
      "text/plain": [
       "Dict{Any, Any}()"
      ]
     },
     "execution_count": 14,
     "metadata": {},
     "output_type": "execute_result"
    }
   ],
   "source": [
    "wordcount = Dict() # set empty dict"
   ]
  },
  {
   "cell_type": "code",
   "execution_count": 15,
   "metadata": {},
   "outputs": [
    {
     "data": {
      "text/plain": [
       "Dict{Any, Any} with 17 entries:\n",
       "  'n' => 2\n",
       "  'd' => 2\n",
       "  'e' => 6\n",
       "  'o' => 3\n",
       "  'j' => 1\n",
       "  'h' => 2\n",
       "  'i' => 2\n",
       "  'k' => 1\n",
       "  's' => 2\n",
       "  't' => 2\n",
       "  'r' => 3\n",
       "  ' ' => 8\n",
       "  'a' => 3\n",
       "  'c' => 1\n",
       "  'p' => 3\n",
       "  '.' => 1\n",
       "  'l' => 3"
      ]
     },
     "execution_count": 15,
     "metadata": {},
     "output_type": "execute_result"
    }
   ],
   "source": [
    "for word in a \n",
    "    if haskey(wordcount,word)\n",
    "        wordcount[word] = wordcount[word] + 1\n",
    "    else\n",
    "        wordcount[word] = 1\n",
    "    end\n",
    "end\n",
    "wordcount "
   ]
  },
  {
   "cell_type": "markdown",
   "metadata": {},
   "source": [
    "## Counting words using the Dictionary type\n",
    "https://en.wikipedia.org/wiki/Intergovernmental_Panel_on_Climate_Change"
   ]
  },
  {
   "cell_type": "code",
   "execution_count": 16,
   "metadata": {},
   "outputs": [
    {
     "data": {
      "text/plain": [
       "\"It was established in 1988 by the World Meteorological Organization (WMO) and the United Nations Environment Programme (UNEP), and later endorsed by United Nations General Assembly.\""
      ]
     },
     "execution_count": 16,
     "metadata": {},
     "output_type": "execute_result"
    }
   ],
   "source": [
    "a = \"It was established in 1988 by the World Meteorological Organization (WMO) and the United Nations Environment Programme (UNEP), and later endorsed by United Nations General Assembly.\""
   ]
  },
  {
   "cell_type": "code",
   "execution_count": 17,
   "metadata": {},
   "outputs": [
    {
     "data": {
      "text/plain": [
       "\"it was established in 1988 by the world meteorological organization (wmo) and the united nations environment programme (unep), and later endorsed by united nations general assembly.\""
      ]
     },
     "execution_count": 17,
     "metadata": {},
     "output_type": "execute_result"
    }
   ],
   "source": [
    "a = lowercase(a) ## change to lowercase"
   ]
  },
  {
   "cell_type": "code",
   "execution_count": 18,
   "metadata": {},
   "outputs": [
    {
     "data": {
      "text/plain": [
       "26-element Vector{SubString{String}}:\n",
       " \"it\"\n",
       " \"was\"\n",
       " \"established\"\n",
       " \"in\"\n",
       " \"1988\"\n",
       " \"by\"\n",
       " \"the\"\n",
       " \"world\"\n",
       " \"meteorological\"\n",
       " \"organization\"\n",
       " \"(wmo)\"\n",
       " \"and\"\n",
       " \"the\"\n",
       " \"united\"\n",
       " \"nations\"\n",
       " \"environment\"\n",
       " \"programme\"\n",
       " \"(unep),\"\n",
       " \"and\"\n",
       " \"later\"\n",
       " \"endorsed\"\n",
       " \"by\"\n",
       " \"united\"\n",
       " \"nations\"\n",
       " \"general\"\n",
       " \"assembly.\""
      ]
     },
     "execution_count": 18,
     "metadata": {},
     "output_type": "execute_result"
    }
   ],
   "source": [
    "a = split(a) ## seperate the words"
   ]
  },
  {
   "cell_type": "code",
   "execution_count": 19,
   "metadata": {},
   "outputs": [
    {
     "data": {
      "text/plain": [
       "Dict{Any, Any} with 21 entries:\n",
       "  \"organization\"   => 1\n",
       "  \"general\"        => 1\n",
       "  \"environment\"    => 1\n",
       "  \"was\"            => 1\n",
       "  \"and\"            => 2\n",
       "  \"endorsed\"       => 1\n",
       "  \"established\"    => 1\n",
       "  \"by\"             => 2\n",
       "  \"united\"         => 2\n",
       "  \"(unep),\"        => 1\n",
       "  \"meteorological\" => 1\n",
       "  \"it\"             => 1\n",
       "  \"in\"             => 1\n",
       "  \"world\"          => 1\n",
       "  \"1988\"           => 1\n",
       "  \"the\"            => 2\n",
       "  \"programme\"      => 1\n",
       "  \"later\"          => 1\n",
       "  \"(wmo)\"          => 1\n",
       "  \"nations\"        => 2\n",
       "  \"assembly.\"      => 1"
      ]
     },
     "execution_count": 19,
     "metadata": {},
     "output_type": "execute_result"
    }
   ],
   "source": [
    "wordcount = Dict()\n",
    "for word in a ## word is the keys\n",
    "    if haskey(wordcount,word)\n",
    "        wordcount[word] = wordcount[word] + 1\n",
    "    else\n",
    "        wordcount[word] = 1\n",
    "    end\n",
    "end\n",
    "wordcount"
   ]
  },
  {
   "cell_type": "markdown",
   "metadata": {},
   "source": [
    "---\n",
    "# Homework 8"
   ]
  },
  {
   "cell_type": "markdown",
   "metadata": {},
   "source": [
    "## (30%) Write a program to roll a dice until we get the “6” value 100 times. Record the number of times that we get each value (1,2,3,4,5,6). Plot a bar figure to show the number of times for each value. Show the bars in gray color, label the names of axes and show the x-tick labels by “one”, “two”, “three”, “four”, “five” and “six” that are corresponding to the dice value."
   ]
  },
  {
   "cell_type": "code",
   "execution_count": 20,
   "metadata": {},
   "outputs": [
    {
     "data": {
      "image/png": "[encoded data removed]",
      "text/plain": [
       "Figure(PyObject <Figure size 640x480 with 1 Axes>)"
      ]
     },
     "metadata": {},
     "output_type": "display_data"
    },
    {
     "name": "stdout",
     "output_type": "stream",
     "text": [
      "Dict{Any, Any}(5 => 90, 4 => 81, 6 => 100, 2 => 86, 3 => 81, 1 => 90)\n"
     ]
    }
   ],
   "source": [
    "using PyPlot\n",
    "dice_dict = Dict()\n",
    "dice_dict[6] = 0\n",
    "\n",
    "while dice_dict[6] < 100\n",
    "    new_dice = rand(1:6)\n",
    "    if haskey(dice_dict,new_dice)\n",
    "        dice_dict[new_dice] = dice_dict[new_dice] + 1\n",
    "    else\n",
    "        dice_dict[new_dice] = 1\n",
    "    end\n",
    "end\n",
    "# keys(dice_dict)\n",
    "# values(dice_dict)\n",
    "bar(collect(keys(dice_dict)),collect(values(dice_dict)),color=\"gray\")\n",
    "xlabel(\"value of dice\")\n",
    "ylabel(\"number of times\")\n",
    "xtic = Array([1,2,3,4,5,6])\n",
    "labels = Array([\"one\",\"two\",\"three\",\"four\",\"five\",\"six\"])\n",
    "xticks(xtic,labels)\n",
    "println(dice_dict)"
   ]
  },
  {
   "cell_type": "markdown",
   "metadata": {},
   "source": [
    "## (30%) Count how many times each Chinese word appears in the given sentence below. Build these information to a dictionary. Which Chinese word  appears the most in the sentence? \"政府間氣候變化專門委員會（英語縮寫IPCC；又譯政府間氣候變化專業委員會、跨政府氣候變化委員會等；）是一個附屬於聯合國之下的跨政府組織，在1988年由世界氣象組織、聯合國環境署合作成立，專責研究由人類活動所造成的氣候變遷。\"\n",
    "https://zh-yue.wikipedia.org/wiki/%E6%94%BF%E5%BA%9C%E9%96%93%E6%B0%A3%E5%80%99%E8%AE%8A%E5%8C%96%E5%B0%88%E9%96%80%E5%A7%94%E5%93%A1%E6%9C%83"
   ]
  },
  {
   "cell_type": "code",
   "execution_count": 21,
   "metadata": {},
   "outputs": [
    {
     "name": "stdout",
     "output_type": "stream",
     "text": [
      "Dict{Any, Any}('（' => 1, '等' => 1, '候' => 4, '變' => 4, '國' => 2, '成' => 2, 'P' => 1, '類' => 1, '動' => 1, 'I' => 1, '間' => 2, '9' => 1, '組' => 2, '之' => 1, '由' => 2, '責' => 1, '境' => 1, '。' => 1, '門' => 1, '寫' => 1, '於' => 1, '象' => 1, '下' => 1, '委' => 3, '是' => 1, '語' => 1, '人' => 1, '一' => 1, '遷' => 1, '聯' => 2, '署' => 1, '化' => 3, '年' => 1, '縮' => 1, '）' => 1, '究' => 1, 'C' => 2, '員' => 3, '、' => 2, '織' => 2, '世' => 1, '會' => 3, '合' => 3, '研' => 1, '個' => 1, '立' => 1, '的' => 2, '所' => 1, '活' => 1, '造' => 1, '附' => 1, '政' => 4, '；' => 2, '在' => 1, '1' => 1, '屬' => 1, '跨' => 2, '環' => 1, '府' => 4, '，' => 2, '英' => 1, '8' => 2, '作' => 1, '界' => 1, '業' => 1, '又' => 1, '專' => 3, '譯' => 1, '氣' => 5)\n"
     ]
    }
   ],
   "source": [
    "sentence = \"政府間氣候變化專門委員會（英語縮寫IPCC；又譯政府間氣候變化專業委員會、跨政府氣候變化委員會等；）是一個附屬於聯合國之下的跨政府組織，在1988年由世界氣象組織、聯合國環境署合作成立，專責研究由人類活動所造成的氣候變遷。\"\n",
    "sentence_word_split = collect(sentence)\n",
    "count_chinese_word = Dict()\n",
    "for word in sentence_word_split ## word is the keys\n",
    "    if haskey(count_chinese_word,word)\n",
    "        count_chinese_word[word] = count_chinese_word[word] + 1\n",
    "    else\n",
    "        count_chinese_word[word] = 1\n",
    "    end\n",
    "end\n",
    "println(count_chinese_word)"
   ]
  },
  {
   "cell_type": "code",
   "execution_count": 22,
   "metadata": {},
   "outputs": [
    {
     "name": "stdout",
     "output_type": "stream",
     "text": [
      "The word ''氣'' appears the most in this sentence. (It appears 5 times.)\n"
     ]
    }
   ],
   "source": [
    "# values(count_chinese_word)\n",
    "# maximum(values(count_chinese_word))\n",
    "ind_in_dict = 0\n",
    "key_word = collect(keys(count_chinese_word))\n",
    "# key_word[3]\n",
    "for appear_times in values(count_chinese_word)\n",
    "    ind_in_dict = ind_in_dict + 1\n",
    "    if appear_times == maximum(values(count_chinese_word))\n",
    "        # println(w)\n",
    "        println(\"The word ''\",key_word[ind_in_dict],\"'' appears the most in this sentence. (It appears \",appear_times,\" times.)\")\n",
    "    end\n",
    "end"
   ]
  }
 ],
 "metadata": {
  "kernelspec": {
   "display_name": "Julia 1.6.3",
   "language": "julia",
   "name": "julia-1.6"
  },
  "language_info": {
   "file_extension": ".jl",
   "mimetype": "application/julia",
   "name": "julia",
   "version": "1.6.3"
  },
  "orig_nbformat": 4
 },
 "nbformat": 4,
 "nbformat_minor": 2
}
