{
 "cells": [
  {
   "cell_type": "markdown",
   "metadata": {},
   "source": [
    "# Final-term Project\n",
    "# \n"
   ]
  },
  {
   "cell_type": "code",
   "execution_count": 19,
   "metadata": {},
   "outputs": [
    {
     "name": "stderr",
     "output_type": "stream",
     "text": [
      "ERROR: "
     ]
    },
    {
     "name": "stderr",
     "output_type": "stream",
     "text": [
      "LoadError: "
     ]
    },
    {
     "name": "stderr",
     "output_type": "stream",
     "text": [
      "ArgumentError: Package Zlib_jll does not have JLLWrappers in its dependencies:\n",
      "- If you have Zlib_jll checked out for development and have\n",
      "  added JLLWrappers as a dependency but haven't updated your primary\n",
      "  environment's manifest file, try `Pkg.resolve()`.\n",
      "- Otherwise you may need to report an issue with Zlib_jll\n",
      "Stacktrace:\n",
      " [1] require"
     ]
    },
    {
     "name": "stderr",
     "output_type": "stream",
     "text": [
      "(::Module, ::Symbol)"
     ]
    },
    {
     "name": "stderr",
     "output_type": "stream",
     "text": [
      " at .\\loading.jl:905\n",
      " [2] include(::Module, ::String) at .\\Base.jl:377\n",
      " [3] top-level scope at none:2\n",
      " [4] eval at .\\boot.jl:331 [inlined]\n",
      " [5] eval(::Expr) at .\\client.jl:449\n",
      " [6] top-level scope at .\\none:3\n",
      "in expression starting at C:\\Users\\user\\.julia\\packages\\Zlib_jll\\BGVLi\\src\\Zlib_jll.jl:5\n"
     ]
    },
    {
     "name": "stderr",
     "output_type": "stream",
     "text": [
      "ERROR: LoadError: LoadError: "
     ]
    },
    {
     "name": "stderr",
     "output_type": "stream",
     "text": [
      "Failed to precompile Zlib_jll [83775a58-1f1d-513f-b197-d71354ab007a] to C:\\Users\\user\\.julia\\compiled\\v1.4\\Zlib_jll\\xjq3Q_Dv6JP.ji.\n",
      "Stacktrace:"
     ]
    },
    {
     "name": "stderr",
     "output_type": "stream",
     "text": [
      "\n",
      " [1] error("
     ]
    },
    {
     "name": "stderr",
     "output_type": "stream",
     "text": [
      "::String) at .\\error.jl:33\n",
      " [2] compilecache(::Base.PkgId, ::String) at .\\loading.jl:1272\n",
      " [3] _require(::Base.PkgId) at .\\loading.jl:1029\n",
      " [4] require(::Base.PkgId) at .\\loading.jl:927\n",
      " [5] require(::Module, ::Symbol) at .\\loading.jl:922\n",
      " [6] include(::Module, ::String) at .\\Base.jl:377\n",
      " [7] top-level scope at C:\\Users\\user\\.julia\\packages\\JLLWrappers\\bkwIo\\src\\toplevel_generators.jl:170\n",
      " [8] include(::Module, ::String) at .\\Base.jl:377\n",
      " [9] top-level scope at none:2\n",
      " [10] eval at .\\boot.jl:331 [inlined]\n",
      " [11] eval(::Expr) at .\\client.jl:449\n",
      " [12] top-level scope at .\\none:3\n",
      "in expression starting at C:\\Users\\user\\.julia\\packages\\HDF5_jll\\BGk9m\\src\\wrappers\\x86_64-w64-mingw32.jl:4\n",
      "in expression starting at C:\\Users\\user\\.julia\\packages\\HDF5_jll\\BGk9m\\src\\HDF5_jll.jl:8\n"
     ]
    },
    {
     "name": "stderr",
     "output_type": "stream",
     "text": [
      "ERROR: LoadError: LoadError: "
     ]
    },
    {
     "name": "stderr",
     "output_type": "stream",
     "text": [
      "Failed to precompile HDF5_jll [0234f1f7-429e-5d53-9886-15a909be8d59] to C:\\Users\\user\\.julia\\compiled\\v1.4\\HDF5_jll\\w9xrx_Dv6JP.ji.\n",
      "Stacktrace:\n",
      " [1] "
     ]
    },
    {
     "name": "stderr",
     "output_type": "stream",
     "text": [
      "error(::"
     ]
    },
    {
     "name": "stderr",
     "output_type": "stream",
     "text": [
      "String) at .\\error.jl:33\n",
      " [2] compilecache(::Base.PkgId, ::String) at .\\loading.jl:1272\n",
      " [3] _require(::Base.PkgId) at .\\loading.jl:1029\n",
      " [4] require(::Base.PkgId) at .\\loading.jl:927\n",
      " [5] require(::Module, ::Symbol) at .\\loading.jl:922\n",
      " [6] include(::Module, ::String) at .\\Base.jl:377\n",
      " [7] include(::String) at C:\\Users\\user\\.julia\\packages\\HDF5\\pIJra\\src\\HDF5.jl:1\n",
      " [8] top-level scope at C:\\Users\\user\\.julia\\packages\\HDF5\\pIJra\\src\\HDF5.jl:44\n",
      " [9] include(::Module, ::String) at .\\Base.jl:377\n",
      " [10] top-level scope at none:2\n",
      " [11] eval at .\\boot.jl:331 [inlined]\n",
      " [12] eval(::Expr) at .\\client.jl:449\n",
      " [13] top-level scope at .\\none:3\n",
      "in expression starting at C:\\Users\\user\\.julia\\packages\\HDF5\\pIJra\\deps\\deps.jl:3\n",
      "in expression starting at C:\\Users\\user\\.julia\\packages\\HDF5\\pIJra\\src\\HDF5.jl:43\n"
     ]
    },
    {
     "name": "stderr",
     "output_type": "stream",
     "text": [
      "ERROR: "
     ]
    },
    {
     "name": "stderr",
     "output_type": "stream",
     "text": [
      "LoadError: "
     ]
    },
    {
     "name": "stderr",
     "output_type": "stream",
     "text": [
      "Failed to precompile HDF5 [f67ccb44-e63f-5c2f-98bd-6dc0ccc4ba2f] to C:\\Users\\user\\.julia\\compiled\\v1.4\\HDF5\\L7Dga_Dv6JP.ji.\n",
      "Stacktrace:"
     ]
    },
    {
     "name": "stderr",
     "output_type": "stream",
     "text": [
      "\n",
      " [1] error("
     ]
    },
    {
     "name": "stderr",
     "output_type": "stream",
     "text": [
      "::String) at .\\error.jl:33\n",
      " [2] compilecache(::Base.PkgId, ::String) at .\\loading.jl:1272\n",
      " [3] _require(::Base.PkgId) at .\\loading.jl:1029\n",
      " [4] require(::Base.PkgId) at .\\loading.jl:927\n",
      " [5] require(::Module, ::Symbol) at .\\loading.jl:922\n",
      " [6] include(::Module, ::String) at .\\Base.jl:377\n",
      " [7] top-level scope at none:2\n",
      " [8] eval at .\\boot.jl:331 [inlined]\n",
      " [9] eval(::Expr) at .\\client.jl:449\n",
      " [10] top-level scope at .\\none:3\n",
      "in expression starting at C:\\Users\\user\\.julia\\packages\\MAT\\zayWb\\src\\MAT.jl:27\n"
     ]
    },
    {
     "ename": "ErrorException",
     "evalue": "Failed to precompile MAT [23992714-dd62-5051-b70f-ba57cb901cac] to C:\\Users\\user\\.julia\\compiled\\v1.4\\MAT\\3FHIv_Dv6JP.ji.",
     "output_type": "error",
     "traceback": [
      "Failed to precompile MAT [23992714-dd62-5051-b70f-ba57cb901cac] to C:\\Users\\user\\.julia\\compiled\\v1.4\\MAT\\3FHIv_Dv6JP.ji.\n",
      "\n",
      "Stacktrace:\n",
      " [1] error(::String) at .\\error.jl:33\n",
      " [2] compilecache(::Base.PkgId, ::String) at .\\loading.jl:1272\n",
      " [3] _require(::Base.PkgId) at .\\loading.jl:1029\n",
      " [4] require(::Base.PkgId) at .\\loading.jl:927\n",
      " [5] require(::Module, ::Symbol) at .\\loading.jl:922\n",
      " [6] include_string(::Module, ::String, ::String) at .\\loading.jl:1080\n",
      " [7] #invokelatest#1 at .\\essentials.jl:712 [inlined]\n",
      " [8] invokelatest at .\\essentials.jl:711 [inlined]\n",
      " [9] (::VSCodeServer.var\"#146#147\"{VSCodeServer.NotebookRunCellArguments,String})() at c:\\Users\\user\\.vscode\\extensions\\julialang.language-julia-1.5.8\\scripts\\packages\\VSCodeServer\\src\\serve_notebook.jl:18\n",
      " [10] withpath(::VSCodeServer.var\"#146#147\"{VSCodeServer.NotebookRunCellArguments,String}, ::String) at c:\\Users\\user\\.vscode\\extensions\\julialang.language-julia-1.5.8\\scripts\\packages\\VSCodeServer\\src\\repl.jl:185\n",
      " [11] notebook_runcell_request(::VSCodeServer.JSONRPC.JSONRPCEndpoint{Base.PipeEndpoint,Base.PipeEndpoint}, ::VSCodeServer.NotebookRunCellArguments) at c:\\Users\\user\\.vscode\\extensions\\julialang.language-julia-1.5.8\\scripts\\packages\\VSCodeServer\\src\\serve_notebook.jl:14\n",
      " [12] dispatch_msg(::VSCodeServer.JSONRPC.JSONRPCEndpoint{Base.PipeEndpoint,Base.PipeEndpoint}, ::VSCodeServer.JSONRPC.MsgDispatcher, ::Dict{String,Any}) at c:\\Users\\user\\.vscode\\extensions\\julialang.language-julia-1.5.8\\scripts\\packages\\JSONRPC\\src\\typed.jl:67\n",
      " [13] serve_notebook(::String; crashreporting_pipename::String) at c:\\Users\\user\\.vscode\\extensions\\julialang.language-julia-1.5.8\\scripts\\packages\\VSCodeServer\\src\\serve_notebook.jl:94\n",
      " [14] top-level scope at c:\\Users\\user\\.vscode\\extensions\\julialang.language-julia-1.5.8\\scripts\\notebook\\notebook.jl:12\n",
      " [15] include(::Module, ::String) at .\\Base.jl:377\n",
      " [16] exec_options(::Base.JLOptions) at .\\client.jl:288\n",
      " [17] _start() at .\\client.jl:484"
     ]
    }
   ],
   "source": [
    "using Pkg\n",
    "# Pkg.installed()\n",
    "using MAT\n",
    "# Pkg.test(\"MAT\")\n",
    "# Pkg.installed()"
   ]
  },
  {
   "cell_type": "code",
   "execution_count": 20,
   "metadata": {},
   "outputs": [
    {
     "ename": "UndefVarError",
     "evalue": "UndefVarError: matopen not defined",
     "output_type": "error",
     "traceback": [
      "UndefVarError: matopen not defined\n",
      "\n",
      "Stacktrace:\n",
      " [1] top-level scope at g:\\我的雲端硬碟\\海大1101_1102\\Julia 程式語言設計_1101\\Julia_git_repo\\Homework\\final-term-project_TsengYuHao.ipynb:1\n",
      " [2] include_string(::Module, ::String, ::String) at .\\loading.jl:1080\n",
      " [3] #invokelatest#1 at .\\essentials.jl:712 [inlined]\n",
      " [4] invokelatest at .\\essentials.jl:711 [inlined]\n",
      " [5] (::VSCodeServer.var\"#146#147\"{VSCodeServer.NotebookRunCellArguments,String})() at c:\\Users\\user\\.vscode\\extensions\\julialang.language-julia-1.5.8\\scripts\\packages\\VSCodeServer\\src\\serve_notebook.jl:18\n",
      " [6] withpath(::VSCodeServer.var\"#146#147\"{VSCodeServer.NotebookRunCellArguments,String}, ::String) at c:\\Users\\user\\.vscode\\extensions\\julialang.language-julia-1.5.8\\scripts\\packages\\VSCodeServer\\src\\repl.jl:185\n",
      " [7] notebook_runcell_request(::VSCodeServer.JSONRPC.JSONRPCEndpoint{Base.PipeEndpoint,Base.PipeEndpoint}, ::VSCodeServer.NotebookRunCellArguments) at c:\\Users\\user\\.vscode\\extensions\\julialang.language-julia-1.5.8\\scripts\\packages\\VSCodeServer\\src\\serve_notebook.jl:14\n",
      " [8] dispatch_msg(::VSCodeServer.JSONRPC.JSONRPCEndpoint{Base.PipeEndpoint,Base.PipeEndpoint}, ::VSCodeServer.JSONRPC.MsgDispatcher, ::Dict{String,Any}) at c:\\Users\\user\\.vscode\\extensions\\julialang.language-julia-1.5.8\\scripts\\packages\\JSONRPC\\src\\typed.jl:67\n",
      " [9] serve_notebook(::String; crashreporting_pipename::String) at c:\\Users\\user\\.vscode\\extensions\\julialang.language-julia-1.5.8\\scripts\\packages\\VSCodeServer\\src\\serve_notebook.jl:94\n",
      " [10] top-level scope at c:\\Users\\user\\.vscode\\extensions\\julialang.language-julia-1.5.8\\scripts\\notebook\\notebook.jl:12\n",
      " [11] include(::Module, ::String) at .\\Base.jl:377\n",
      " [12] exec_options(::Base.JLOptions) at .\\client.jl:288\n",
      " [13] _start() at .\\client.jl:484"
     ]
    }
   ],
   "source": [
    "f = matopen(\"./Files_Julia_IO_Final/Taiwan_rainfall_data_1998_2016_monthly.mat\")\n",
    "varnames = names(f)\n"
   ]
  },
  {
   "cell_type": "code",
   "execution_count": null,
   "metadata": {},
   "outputs": [],
   "source": [
    "# close(f)"
   ]
  },
  {
   "cell_type": "code",
   "execution_count": null,
   "metadata": {},
   "outputs": [],
   "source": []
  },
  {
   "cell_type": "code",
   "execution_count": null,
   "metadata": {},
   "outputs": [],
   "source": []
  },
  {
   "cell_type": "code",
   "execution_count": null,
   "metadata": {},
   "outputs": [],
   "source": []
  },
  {
   "cell_type": "code",
   "execution_count": null,
   "metadata": {},
   "outputs": [],
   "source": []
  },
  {
   "cell_type": "code",
   "execution_count": null,
   "metadata": {},
   "outputs": [],
   "source": []
  },
  {
   "cell_type": "code",
   "execution_count": null,
   "metadata": {},
   "outputs": [],
   "source": []
  },
  {
   "cell_type": "code",
   "execution_count": null,
   "metadata": {},
   "outputs": [],
   "source": []
  }
 ],
 "metadata": {
  "kernelspec": {
   "display_name": "Julia 1.4.2",
   "language": "julia",
   "name": "julia-1.4"
  },
  "language_info": {
   "file_extension": ".jl",
   "mimetype": "application/julia",
   "name": "julia",
   "version": "1.4.2"
  },
  "orig_nbformat": 4
 },
 "nbformat": 4,
 "nbformat_minor": 2
}
